{
 "cells": [
  {
   "cell_type": "code",
   "execution_count": 1,
   "metadata": {},
   "outputs": [],
   "source": [
    "import os\n",
    "import torch\n",
    "os.environ['CUDA_VISIBLE_DEVICES'] = '0,1'\n",
    "from datetime import datetime\n",
    "from models.handler import train, test\n",
    "import argparse\n",
    "import pandas as pd\n",
    "from param_parser import parameter_parser, tab_printer"
   ]
  },
  {
   "cell_type": "code",
   "execution_count": 2,
   "metadata": {},
   "outputs": [],
   "source": [
    "args = parameter_parser()"
   ]
  },
  {
   "cell_type": "code",
   "execution_count": 3,
   "metadata": {},
   "outputs": [
    {
     "name": "stdout",
     "output_type": "stream",
     "text": [
      "+------------------------+----------+\n",
      "|       Parameter        |  Value   |\n",
      "+========================+==========+\n",
      "| Batch size             | 32       |\n",
      "+------------------------+----------+\n",
      "| Dataset                | ECG_data |\n",
      "+------------------------+----------+\n",
      "| Decay rate             | 0.500    |\n",
      "+------------------------+----------+\n",
      "| Device                 | cpu      |\n",
      "+------------------------+----------+\n",
      "| Dropout rate           | 0.500    |\n",
      "+------------------------+----------+\n",
      "| Early stop             | 0        |\n",
      "+------------------------+----------+\n",
      "| Epoch                  | 2        |\n",
      "+------------------------+----------+\n",
      "| Evaluate               | 1        |\n",
      "+------------------------+----------+\n",
      "| Exponential decay step | 5        |\n",
      "+------------------------+----------+\n",
      "| Horizon                | 3        |\n",
      "+------------------------+----------+\n",
      "| Leakyrelu rate         | 0.200    |\n",
      "+------------------------+----------+\n",
      "| Lr                     | 0.000    |\n",
      "+------------------------+----------+\n",
      "| Multi layer            | 5        |\n",
      "+------------------------+----------+\n",
      "| Norm method            | z_score  |\n",
      "+------------------------+----------+\n",
      "| Optimizer              | RMSProp  |\n",
      "+------------------------+----------+\n",
      "| Test length            | 1        |\n",
      "+------------------------+----------+\n",
      "| Train                  | 1        |\n",
      "+------------------------+----------+\n",
      "| Train length           | 7        |\n",
      "+------------------------+----------+\n",
      "| Valid length           | 2        |\n",
      "+------------------------+----------+\n",
      "| Validate freq          | 1        |\n",
      "+------------------------+----------+\n",
      "| Window size            | 12       |\n",
      "+------------------------+----------+\n"
     ]
    }
   ],
   "source": [
    "tab_printer(args)"
   ]
  },
  {
   "cell_type": "code",
   "execution_count": 4,
   "metadata": {},
   "outputs": [
    {
     "name": "stdout",
     "output_type": "stream",
     "text": [
      "Training configs: Namespace(train=True, evaluate=True, dataset='ECG_data', window_size=12, horizon=3, train_length=7, valid_length=2, test_length=1, epoch=2, lr=0.0001, multi_layer=5, device='cpu', validate_freq=1, batch_size=32, norm_method='z_score', optimizer='RMSProp', early_stop=False, exponential_decay_step=5, decay_rate=0.5, dropout_rate=0.5, leakyrelu_rate=0.2)\n"
     ]
    }
   ],
   "source": [
    "print(f'Training configs: {args}')"
   ]
  },
  {
   "cell_type": "code",
   "execution_count": 5,
   "metadata": {},
   "outputs": [],
   "source": [
    "data_file = os.path.join('dataset', args.dataset + '.csv')\n",
    "result_train_file = os.path.join('output', args.dataset, 'train')\n",
    "result_test_file = os.path.join('output', args.dataset, 'test')"
   ]
  },
  {
   "cell_type": "code",
   "execution_count": 6,
   "metadata": {},
   "outputs": [
    {
     "data": {
      "text/plain": [
       "'dataset\\\\ECG_data.csv'"
      ]
     },
     "execution_count": 6,
     "metadata": {},
     "output_type": "execute_result"
    }
   ],
   "source": [
    "data_file"
   ]
  },
  {
   "cell_type": "code",
   "execution_count": 7,
   "metadata": {},
   "outputs": [
    {
     "data": {
      "text/plain": [
       "'output\\\\ECG_data\\\\train'"
      ]
     },
     "execution_count": 7,
     "metadata": {},
     "output_type": "execute_result"
    }
   ],
   "source": [
    "result_train_file"
   ]
  },
  {
   "cell_type": "code",
   "execution_count": 8,
   "metadata": {},
   "outputs": [
    {
     "data": {
      "text/plain": [
       "'output\\\\ECG_data\\\\test'"
      ]
     },
     "execution_count": 8,
     "metadata": {},
     "output_type": "execute_result"
    }
   ],
   "source": [
    "result_test_file"
   ]
  },
  {
   "cell_type": "code",
   "execution_count": 9,
   "metadata": {},
   "outputs": [],
   "source": [
    "# 如果文件夹不存在则创建文件夹\n",
    "if not os.path.exists(result_train_file):\n",
    "    os.makedirs(result_train_file)\n",
    "if not os.path.exists(result_test_file):\n",
    "    os.makedirs(result_test_file)"
   ]
  },
  {
   "cell_type": "code",
   "execution_count": 10,
   "metadata": {},
   "outputs": [],
   "source": [
    "# 导入数据文件\n",
    "data = pd.read_csv(data_file).values"
   ]
  },
  {
   "cell_type": "code",
   "execution_count": 11,
   "metadata": {},
   "outputs": [
    {
     "data": {
      "text/plain": [
       "(4999, 140)"
      ]
     },
     "execution_count": 11,
     "metadata": {},
     "output_type": "execute_result"
    }
   ],
   "source": [
    "data.shape"
   ]
  },
  {
   "cell_type": "markdown",
   "metadata": {},
   "source": [
    "### split data"
   ]
  },
  {
   "cell_type": "code",
   "execution_count": 12,
   "metadata": {},
   "outputs": [],
   "source": [
    "train_ratio = args.train_length / (args.train_length + args.valid_length + args.test_length)\n",
    "valid_ratio = args.valid_length / (args.train_length + args.valid_length + args.test_length)\n",
    "test_ratio = 1 - train_ratio - valid_ratio"
   ]
  },
  {
   "cell_type": "code",
   "execution_count": 13,
   "metadata": {},
   "outputs": [
    {
     "name": "stdout",
     "output_type": "stream",
     "text": [
      "0.7 0.2 0.10000000000000003\n"
     ]
    }
   ],
   "source": [
    "print(train_ratio, valid_ratio, test_ratio)"
   ]
  },
  {
   "cell_type": "code",
   "execution_count": 14,
   "metadata": {},
   "outputs": [],
   "source": [
    "train_data = data[:int(train_ratio * len(data))]\n",
    "valid_data = data[int(train_ratio * len(data)):int((train_ratio + valid_ratio) * len(data))]\n",
    "test_data = data[int((train_ratio + valid_ratio) * len(data)):]"
   ]
  },
  {
   "cell_type": "code",
   "execution_count": 15,
   "metadata": {},
   "outputs": [
    {
     "name": "stdout",
     "output_type": "stream",
     "text": [
      "(3499, 140) (1000, 140) (500, 140)\n"
     ]
    }
   ],
   "source": [
    "print(train_data.shape, valid_data.shape, test_data.shape)"
   ]
  },
  {
   "cell_type": "code",
   "execution_count": 16,
   "metadata": {},
   "outputs": [
    {
     "data": {
      "text/plain": [
       "<torch._C.Generator at 0x1f0dfadb570>"
      ]
     },
     "execution_count": 16,
     "metadata": {},
     "output_type": "execute_result"
    }
   ],
   "source": [
    "torch.manual_seed(0)"
   ]
  },
  {
   "cell_type": "markdown",
   "metadata": {},
   "source": [
    "### 模型训练"
   ]
  },
  {
   "cell_type": "code",
   "execution_count": 17,
   "metadata": {},
   "outputs": [
    {
     "data": {
      "text/plain": [
       "1700664675.547299"
      ]
     },
     "execution_count": 17,
     "metadata": {},
     "output_type": "execute_result"
    }
   ],
   "source": [
    "before_train = datetime.now().timestamp()\n",
    "before_train"
   ]
  },
  {
   "cell_type": "code",
   "execution_count": 18,
   "metadata": {},
   "outputs": [
    {
     "name": "stdout",
     "output_type": "stream",
     "text": [
      "Total Trainable Params: 1123303\n"
     ]
    },
    {
     "name": "stdout",
     "output_type": "stream",
     "text": [
      "| end of epoch   0 | time: 48.61s | train_total_loss 0.8796\n",
      "------ validate on data: VALIDATE ------\n",
      "NORM: MAPE 94.731540050%; MAE 0.737967421; RMSE 0.987366123.\n",
      "RAW : MAPE 95.622746304%; MAE 0.404625008; RMSE 0.692389483.\n",
      "| end of epoch   1 | time: 45.04s | train_total_loss 0.8288\n",
      "------ validate on data: VALIDATE ------\n",
      "NORM: MAPE 95.037781538%; MAE 0.687440681; RMSE 0.943461815.\n",
      "RAW : MAPE 92.255530838%; MAE 0.369621268; RMSE 0.638351044.\n"
     ]
    }
   ],
   "source": [
    "_, normalize_statistic = train(train_data, valid_data, args, result_train_file)"
   ]
  },
  {
   "cell_type": "code",
   "execution_count": 19,
   "metadata": {},
   "outputs": [],
   "source": [
    "after_train = datetime.now().timestamp()"
   ]
  },
  {
   "cell_type": "code",
   "execution_count": 20,
   "metadata": {},
   "outputs": [
    {
     "name": "stdout",
     "output_type": "stream",
     "text": [
      "Training took 1.7450101335843404 minutes\n"
     ]
    }
   ],
   "source": [
    "print(f'Training took {(after_train - before_train) / 60} minutes')"
   ]
  },
  {
   "cell_type": "code",
   "execution_count": 21,
   "metadata": {},
   "outputs": [],
   "source": [
    "before_evaluation = datetime.now().timestamp()"
   ]
  },
  {
   "cell_type": "code",
   "execution_count": 22,
   "metadata": {},
   "outputs": [
    {
     "name": "stdout",
     "output_type": "stream",
     "text": [
      "NORM: MAPE 111.701000052%; MAE 0.648621949; RMSE 0.917062778.\n",
      "RAW : MAPE 88.679524567%; MAE 0.330217093; RMSE 0.551628180.\n",
      "Performance on test set: MAPE:  0.89 | MAE:  0.33 | RMSE: 0.5516\n"
     ]
    }
   ],
   "source": [
    "test(test_data, args, result_train_file, result_test_file)"
   ]
  },
  {
   "cell_type": "code",
   "execution_count": 23,
   "metadata": {},
   "outputs": [
    {
     "name": "stdout",
     "output_type": "stream",
     "text": [
      "Evaluation took 0.04551933606465657 minutes\n"
     ]
    }
   ],
   "source": [
    "after_evaluation = datetime.now().timestamp()\n",
    "print(f'Evaluation took {(after_evaluation - before_evaluation) / 60} minutes')"
   ]
  }
 ],
 "metadata": {
  "kernelspec": {
   "display_name": "python39",
   "language": "python",
   "name": "python3"
  },
  "language_info": {
   "codemirror_mode": {
    "name": "ipython",
    "version": 3
   },
   "file_extension": ".py",
   "mimetype": "text/x-python",
   "name": "python",
   "nbconvert_exporter": "python",
   "pygments_lexer": "ipython3",
   "version": "3.9.16"
  }
 },
 "nbformat": 4,
 "nbformat_minor": 2
}
