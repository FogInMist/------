{
 "cells": [
  {
   "cell_type": "code",
   "execution_count": 3,
   "metadata": {},
   "outputs": [],
   "source": [
    "import numpy as np\n",
    "import pandas as pd\n",
    "\n",
    "import scipy.sparse as sp"
   ]
  },
  {
   "cell_type": "code",
   "execution_count": 2,
   "metadata": {},
   "outputs": [
    {
     "name": "stdout",
     "output_type": "stream",
     "text": [
      "(12672, 228)\n"
     ]
    }
   ],
   "source": [
    "with open(\"./data/pemsd7-m/vel.csv\", encoding='utf-8') as f:\n",
    "    data = np.loadtxt(f, delimiter=',')\n",
    "    print(data.shape)"
   ]
  },
  {
   "cell_type": "markdown",
   "metadata": {},
   "source": [
    "# 稀疏矩阵"
   ]
  },
  {
   "cell_type": "code",
   "execution_count": 5,
   "metadata": {},
   "outputs": [
    {
     "name": "stdout",
     "output_type": "stream",
     "text": [
      "(228, 228)\n",
      "  (0, 0)\t1.0\n",
      "  (1, 0)\t0.874723658573536\n",
      "  (2, 0)\t0.3612846282098772\n",
      "  (3, 0)\t0.150751115862349\n",
      "  (4, 0)\t0.44773753416261347\n",
      "  (7, 0)\t0.9366682108438592\n",
      "  (8, 0)\t0.6294460508233404\n",
      "  (11, 0)\t0.7839333057097398\n",
      "  (12, 0)\t0.3309976422216514\n",
      "  (15, 0)\t0.6802770768089623\n",
      "  (58, 0)\t0.10052330878754748\n",
      "  (65, 0)\t0.10478651398778062\n",
      "  (68, 0)\t0.12590298087652654\n",
      "  (108, 0)\t0.5608901322885123\n",
      "  (109, 0)\t0.6899634477684644\n",
      "  (112, 0)\t0.20452601018760724\n",
      "  (114, 0)\t0.32572485193348727\n",
      "  (115, 0)\t0.8756092297080661\n",
      "  (116, 0)\t0.1010639188922501\n",
      "  (118, 0)\t0.30866295600959187\n",
      "  (120, 0)\t0.7924221612667589\n",
      "  (123, 0)\t0.9318102066961166\n",
      "  (124, 0)\t0.4643323538620246\n",
      "  (126, 0)\t0.5328487422206488\n",
      "  (127, 0)\t0.8412964212185728\n",
      "  :\t:\n",
      "  (185, 227)\t0.406905517928299\n",
      "  (186, 227)\t0.15049343836804044\n",
      "  (187, 227)\t0.18220630019898112\n",
      "  (188, 227)\t0.3979505510953252\n",
      "  (192, 227)\t0.17455919974749026\n",
      "  (193, 227)\t0.4049386337428703\n",
      "  (195, 227)\t0.13101336046275158\n",
      "  (197, 227)\t0.13362495666231547\n",
      "  (203, 227)\t0.2559489535353037\n",
      "  (205, 227)\t0.2559489535353037\n",
      "  (206, 227)\t0.13119130213757788\n",
      "  (208, 227)\t0.13703071966781566\n",
      "  (212, 227)\t0.3271321713424768\n",
      "  (214, 227)\t0.9789399207747749\n",
      "  (215, 227)\t0.7100682724841818\n",
      "  (216, 227)\t0.6673605044572273\n",
      "  (217, 227)\t0.9496386050678793\n",
      "  (218, 227)\t0.31162640318176\n",
      "  (219, 227)\t0.9889870256068781\n",
      "  (220, 227)\t0.9894360767497662\n",
      "  (221, 227)\t0.9339639275773304\n",
      "  (222, 227)\t0.9829113620740223\n",
      "  (223, 227)\t0.11876058906945391\n",
      "  (224, 227)\t1.0\n",
      "  (227, 227)\t1.0\n"
     ]
    }
   ],
   "source": [
    "data = sp.load_npz(\"./data/pemsd7-m/adj.npz\")\n",
    "print(data.shape)\n",
    "print(data)"
   ]
  },
  {
   "cell_type": "markdown",
   "metadata": {},
   "source": [
    "# 压缩格式存储"
   ]
  },
  {
   "cell_type": "code",
   "execution_count": 6,
   "metadata": {},
   "outputs": [],
   "source": [
    "import numpy as np\n",
    "from scipy.sparse import csr_matrix, coo_matrix, csc_matrix\n"
   ]
  },
  {
   "cell_type": "code",
   "execution_count": 8,
   "metadata": {},
   "outputs": [
    {
     "name": "stdout",
     "output_type": "stream",
     "text": [
      "[[1 0 2]\n",
      " [0 0 3]\n",
      " [4 5 6]]\n"
     ]
    }
   ],
   "source": [
    "# 示例解读\n",
    "indptr = np.array([0, 2, 3, 6])\n",
    "indices = np.array([0, 2, 2, 0, 1, 2])\n",
    "data = np.array([1, 2, 3, 4, 5, 6])\n",
    "# 创建一个稀疏矩阵\n",
    "sparse_matrix = csr_matrix((data, indices, indptr), shape=(3,3)).toarray()\n",
    "print(sparse_matrix)\n",
    "# 按 row 行来压缩\n",
    "# 对于第i行，非0数据列是indices[indptr[i]:indptr[i+1]] 数据是data[indptr[i]:indptr[i+1]]\n",
    "# 在本例中\n",
    "# 第0行,有非0的数据列是indices[indptr[0]:indptr[1]] = indices[0:2] = [0,2]\n",
    "# 数据是data[indptr[0]:indptr[1]] = data[0:2] = [1,2],所以在第0行第0列是1，第2列是2\n",
    "# 第1行，有非0的数据列是indices[indptr[1]:indptr[2]] = indices[2:3] = [2]\n",
    "# 数据是data[indptr[1]:indptr[2] = data[2:3] = [3],所以在第1行第2列是3\n",
    "# 第2行，有非0的数据列是indices[indptr[2]:indptr[3]] = indices[3:6] = [0,12]\n",
    "# 数据是data[indptr[2]:indptr[3]] = data[3:6] =[4,5,6],所以在第2行第0列是4，第1列是5,第2列是6"
   ]
  },
  {
   "cell_type": "code",
   "execution_count": 9,
   "metadata": {},
   "outputs": [
    {
     "name": "stdout",
     "output_type": "stream",
     "text": [
      "[[1 0 4]\n",
      " [0 0 5]\n",
      " [2 3 6]]\n"
     ]
    }
   ],
   "source": [
    "indptr = np.array([0, 2, 3, 6])\n",
    "indices = np.array([0, 2, 2, 0, 1, 2])\n",
    "data = np.array([1, 2, 3, 4, 5, 6])\n",
    "# 创建一个稀疏矩阵\n",
    "sparse_matrix = csc_matrix((data, indices, indptr), shape=(3,3)).toarray()\n",
    "print(sparse_matrix)\n",
    "# 按 col 列来压缩\n",
    "# 对于第i列，非0数据列是indices[indptr[i]:indptr[i+1]] 数据是data[indptr[i]:indptr[i+1]]\n",
    "# 在本例中\n",
    "# 第0列,有非0的数据列是indices[indptr[0]:indptr[1]] = indices[0:2] = [0,2]\n",
    "# 数据是data[indptr[0]:indptr[1]] = data[0:2] = [1,2],所以在第0列第0行是1，第2行是2\n",
    "# 第1列，有非0的数据列是indices[indptr[1]:indptr[2]] = indices[2:3] = [2]\n",
    "# 数据是data[indptr[1]:indptr[2] = data[2:3] = [3],所以在第1列第2行是3\n",
    "# 第2列，有非0的数据列是indices[indptr[2]:indptr[3]] = indices[3:6] = [0,12]\n",
    "# 数据是data[indptr[2]:indptr[3]] = data[3:6] =[4,5,6],所以在第2列第0行是4，第1行是5,第2行是6"
   ]
  },
  {
   "cell_type": "code",
   "execution_count": 11,
   "metadata": {},
   "outputs": [
    {
     "name": "stdout",
     "output_type": "stream",
     "text": [
      "-----------coo_matrix----------------\n",
      "  (0, 0)\t2\n",
      "  (0, 2)\t1\n",
      "  (1, 1)\t3\n",
      "  (3, 3)\t1\n",
      "  (1, 1)\t2\n",
      "  (0, 0)\t1\n",
      "  (0, 0)\t4\n",
      "-----------toarray()----------------\n",
      "[[7 0 1 0]\n",
      " [0 5 0 0]\n",
      " [0 0 0 0]\n",
      " [0 0 0 1]]\n",
      "-----------tocsc()----------------\n",
      "  (0, 0)\t7\n",
      "  (1, 1)\t5\n",
      "  (0, 2)\t1\n",
      "  (3, 3)\t1\n",
      "-----------todense()----------------\n",
      "[[7 0 1 0]\n",
      " [0 5 0 0]\n",
      " [0 0 0 0]\n",
      " [0 0 0 1]]\n"
     ]
    }
   ],
   "source": [
    "row  = np.array([0, 0, 1, 3, 1, 0, 0])\n",
    "col  = np.array([0, 2, 1, 3, 1, 0, 0])\n",
    "data = np.array([2, 1, 3, 1, 2, 1, 4])\n",
    "A = coo_matrix((data, (row, col)), shape=(4, 4))\n",
    "print(\"-----------coo_matrix----------------\")\n",
    "print(A)\n",
    "\n",
    "print(\"-----------toarray()----------------\")\n",
    "print(A.toarray())\n",
    "\n",
    "B = A.tocsc()\n",
    "print(\"-----------tocsc()----------------\")\n",
    "print(B)\n",
    "\n",
    "C = B.todense()\n",
    "print(\"-----------todense()----------------\")\n",
    "print(C)"
   ]
  },
  {
   "cell_type": "markdown",
   "metadata": {},
   "source": []
  },
  {
   "cell_type": "code",
   "execution_count": null,
   "metadata": {},
   "outputs": [],
   "source": []
  }
 ],
 "metadata": {
  "kernelspec": {
   "display_name": "python39",
   "language": "python",
   "name": "python3"
  },
  "language_info": {
   "codemirror_mode": {
    "name": "ipython",
    "version": 3
   },
   "file_extension": ".py",
   "mimetype": "text/x-python",
   "name": "python",
   "nbconvert_exporter": "python",
   "pygments_lexer": "ipython3",
   "version": "3.9.16"
  }
 },
 "nbformat": 4,
 "nbformat_minor": 2
}
