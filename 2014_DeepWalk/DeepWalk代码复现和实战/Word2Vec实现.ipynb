{
 "cells": [
  {
   "cell_type": "markdown",
   "metadata": {},
   "source": [
    "## 参考资料：\n",
    "\n",
    "* [Word2Vec代码实现](https://blog.csdn.net/qq_34290470/article/details/102843763)\n"
   ]
  },
  {
   "cell_type": "code",
   "execution_count": 17,
   "metadata": {},
   "outputs": [],
   "source": [
    "import numpy as np\n",
    "from collections import defaultdict"
   ]
  },
  {
   "cell_type": "code",
   "execution_count": 18,
   "metadata": {},
   "outputs": [],
   "source": [
    "class word2vec():\n",
    " \n",
    "    def __init__(self):\n",
    "        self.n = settings['n']\n",
    "        self.lr = settings['learning_rate']\n",
    "        self.epochs = settings['epochs']\n",
    "        self.window = settings['window_size']\n",
    " \n",
    "    def generate_training_data(self, settings, corpus):\n",
    "        \"\"\"\n",
    "        得到训练数据\n",
    "        \"\"\"\n",
    "        #defaultdict(int)  一个字典，当所访问的键不存在时，用int类型实例化一个默认值\n",
    "        word_counts = defaultdict(int)\n",
    " \n",
    "        #遍历语料库corpus\n",
    "        for row in corpus:\n",
    "            for word in row:\n",
    "                #统计每个单词出现的次数\n",
    "                word_counts[word] += 1\n",
    " \n",
    "        # 词汇表的长度\n",
    "        self.v_count = len(word_counts.keys())\n",
    "        # 在词汇表中的单词组成的列表\n",
    "        self.words_list = list(word_counts.keys())\n",
    "        # 以词汇表中单词为key，索引为value的字典数据\n",
    "        self.word_index = dict((word, i) for i, word in enumerate(self.words_list))\n",
    "        #以索引为key，以词汇表中单词为value的字典数据\n",
    "        self.index_word = dict((i, word) for i, word in enumerate(self.words_list))\n",
    " \n",
    "        training_data = []\n",
    " \n",
    "        for sentence in corpus:\n",
    "            sent_len = len(sentence)\n",
    " \n",
    "            for i, word in enumerate(sentence):\n",
    " \n",
    "                w_target = self.word2onehot(sentence[i])\n",
    " \n",
    "                w_context = []\n",
    " \n",
    "                for j in range(i - self.window, i + self.window):\n",
    "                    if j != i and j <= sent_len - 1 and j >= 0:\n",
    "                        w_context.append(self.word2onehot(sentence[j]))\n",
    " \n",
    "                training_data.append([w_target, w_context])\n",
    " \n",
    "        return np.array(training_data)\n",
    " \n",
    "    def word2onehot(self, word):\n",
    " \n",
    "        #将词用onehot编码\n",
    " \n",
    "        word_vec = [0 for i in range(0, self.v_count)]\n",
    " \n",
    "        word_index = self.word_index[word]\n",
    " \n",
    "        word_vec[word_index] = 1\n",
    " \n",
    "        return word_vec\n",
    " \n",
    "    def train(self, training_data):\n",
    "        \n",
    "        #随机化参数w1,w2\n",
    "        self.w1 = np.random.uniform(-1, 1, (self.v_count, self.n))\n",
    " \n",
    "        self.w2 = np.random.uniform(-1, 1, (self.n, self.v_count))\n",
    " \n",
    "        for i in range(self.epochs):\n",
    " \n",
    "            self.loss = 0\n",
    " \n",
    "            # w_t 是表示目标词的one-hot向量\n",
    "            #w_t -> w_target,w_c ->w_context\n",
    "            for w_t, w_c in training_data:\n",
    " \n",
    "                #前向传播\n",
    "                y_pred, h, u = self.forward(w_t)\n",
    " \n",
    "                #计算误差\n",
    "                EI = np.sum([np.subtract(y_pred, word) for word in w_c], axis=0)\n",
    " \n",
    "                #反向传播，更新参数\n",
    "                self.backprop(EI, h, w_t)\n",
    " \n",
    "                #计算总损失\n",
    "                self.loss += -np.sum([u[word.index(1)] for word in w_c]) + len(w_c) * np.log(np.sum(np.exp(u)))\n",
    " \n",
    "            print('Epoch:', i, \"Loss:\", self.loss)\n",
    " \n",
    "    def forward(self, x):\n",
    "        \"\"\"\n",
    "        前向传播\n",
    "        \"\"\"\n",
    " \n",
    "        h = np.dot(self.w1.T, x)\n",
    " \n",
    "        u = np.dot(self.w2.T, h)\n",
    " \n",
    "        y_c = self.softmax(u)\n",
    " \n",
    "        return y_c, h, u\n",
    " \n",
    " \n",
    "    def softmax(self, x):\n",
    "        \"\"\"\n",
    "        \"\"\"\n",
    "        e_x = np.exp(x - np.max(x))\n",
    " \n",
    "        return e_x / np.sum(e_x)\n",
    " \n",
    " \n",
    "    def backprop(self, e, h, x):\n",
    " \n",
    "        d1_dw2 = np.outer(h, e)\n",
    "        d1_dw1 = np.outer(x, np.dot(self.w2, e.T))\n",
    " \n",
    "        self.w1 = self.w1 - (self.lr * d1_dw1)\n",
    "        self.w2 = self.w2 - (self.lr * d1_dw2)\n",
    " \n",
    "    def word_vec(self, word):\n",
    " \n",
    "        \"\"\"\n",
    "        获取词向量\n",
    "        通过获取词的索引直接在权重向量中找\n",
    "        \"\"\"\n",
    " \n",
    "        w_index = self.word_index[word]\n",
    "        v_w = self.w1[w_index]\n",
    " \n",
    "        return v_w\n",
    " \n",
    "    def vec_sim(self, word, top_n):\n",
    "        \"\"\"\n",
    "        找相似的词\n",
    "        \"\"\"\n",
    " \n",
    "        v_w1 = self.word_vec(word)\n",
    "        word_sim = {}\n",
    " \n",
    "        for i in range(self.v_count):\n",
    "            v_w2 = self.w1[i]\n",
    "            theta_sum = np.dot(v_w1, v_w2)\n",
    " \n",
    "            #np.linalg.norm(v_w1) 求范数 默认为2范数，即平方和的二次开方\n",
    "            theta_den = np.linalg.norm(v_w1) * np.linalg.norm(v_w2)\n",
    "            theta = theta_sum / theta_den\n",
    " \n",
    "            word = self.index_word[i]\n",
    "            word_sim[word] = theta\n",
    " \n",
    "        words_sorted = sorted(word_sim.items(), key=lambda kv: kv[1], reverse=True)\n",
    " \n",
    "        for word, sim in words_sorted[:top_n]:\n",
    "            print(word, sim)\n",
    " \n",
    "    def get_w(self):\n",
    "        w1 = self.w1\n",
    "        return  w1"
   ]
  },
  {
   "cell_type": "code",
   "execution_count": 19,
   "metadata": {},
   "outputs": [],
   "source": [
    "#超参数\n",
    "settings = {\n",
    "    'window_size': 2,   #窗口尺寸 m\n",
    "    #单词嵌入(word embedding)的维度,维度也是隐藏层的大小。\n",
    "    'n': 10,\n",
    "    'epochs': 50,         #表示遍历整个样本的次数。在每个epoch中，我们循环通过一遍训练集的样本。\n",
    "    'learning_rate':0.01 #学习率\n",
    "}"
   ]
  },
  {
   "cell_type": "code",
   "execution_count": 20,
   "metadata": {},
   "outputs": [
    {
     "name": "stdout",
     "output_type": "stream",
     "text": [
      "[['natural', 'language', 'processing', 'and', 'machine', 'learning', 'is', 'fun', 'and', 'exciting']]\n"
     ]
    }
   ],
   "source": [
    "#数据准备\n",
    "text = \"natural language processing and machine learning is fun and exciting\"\n",
    "#按照单词间的空格对我们的语料库进行分词\n",
    "corpus = [[word.lower() for word in text.split()]]\n",
    "print(corpus)"
   ]
  },
  {
   "cell_type": "code",
   "execution_count": 21,
   "metadata": {},
   "outputs": [
    {
     "name": "stderr",
     "output_type": "stream",
     "text": [
      "C:\\Users\\songjiahui\\AppData\\Local\\Temp\\ipykernel_5088\\2069617963.py:48: VisibleDeprecationWarning: Creating an ndarray from ragged nested sequences (which is a list-or-tuple of lists-or-tuples-or ndarrays with different lengths or shapes) is deprecated. If you meant to do this, you must specify 'dtype=object' when creating the ndarray.\n",
      "  return np.array(training_data)\n"
     ]
    }
   ],
   "source": [
    "#初始化一个word2vec对象\n",
    "w2v = word2vec()\n",
    " \n",
    "training_data = w2v.generate_training_data(settings,corpus)"
   ]
  },
  {
   "cell_type": "code",
   "execution_count": 22,
   "metadata": {},
   "outputs": [
    {
     "name": "stdout",
     "output_type": "stream",
     "text": [
      "Epoch: 0 Loss: 71.5441312379008\n",
      "Epoch: 1 Loss: 68.3566135407369\n",
      "Epoch: 2 Loss: 65.70471689086007\n",
      "Epoch: 3 Loss: 63.50045450024576\n",
      "Epoch: 4 Loss: 61.653006409757644\n",
      "Epoch: 5 Loss: 60.08218052119147\n",
      "Epoch: 6 Loss: 58.72388142505211\n",
      "Epoch: 7 Loss: 57.529645339833266\n",
      "Epoch: 8 Loss: 56.46371622681343\n",
      "Epoch: 9 Loss: 55.49983707886061\n",
      "Epoch: 10 Loss: 54.618591668856524\n",
      "Epoch: 11 Loss: 53.80543325585156\n",
      "Epoch: 12 Loss: 53.04929079653982\n",
      "Epoch: 13 Loss: 52.34160034259834\n",
      "Epoch: 14 Loss: 51.67563261219821\n",
      "Epoch: 15 Loss: 51.04602246611997\n",
      "Epoch: 16 Loss: 50.44843544042779\n",
      "Epoch: 17 Loss: 49.879327808096235\n",
      "Epoch: 18 Loss: 49.33577114799956\n",
      "Epoch: 19 Loss: 48.81532201224998\n",
      "Epoch: 20 Loss: 48.31592359917498\n",
      "Epoch: 21 Loss: 47.835830495181604\n",
      "Epoch: 22 Loss: 47.37355030250184\n",
      "Epoch: 23 Loss: 46.92779781341851\n",
      "Epoch: 24 Loss: 46.49745864106006\n",
      "Epoch: 25 Loss: 46.08156007495282\n",
      "Epoch: 26 Loss: 45.67924752686848\n",
      "Epoch: 27 Loss: 45.2897653539527\n",
      "Epoch: 28 Loss: 44.91244114734704\n",
      "Epoch: 29 Loss: 44.54667279248271\n",
      "Epoch: 30 Loss: 44.19191776678185\n",
      "Epoch: 31 Loss: 43.847684258575846\n",
      "Epoch: 32 Loss: 43.51352377932733\n",
      "Epoch: 33 Loss: 43.18902500789413\n",
      "Epoch: 34 Loss: 42.87380865639354\n",
      "Epoch: 35 Loss: 42.56752318636153\n",
      "Epoch: 36 Loss: 42.26984123436516\n",
      "Epoch: 37 Loss: 41.980456630211734\n",
      "Epoch: 38 Loss: 41.69908191002365\n",
      "Epoch: 39 Loss: 41.425446241906684\n",
      "Epoch: 40 Loss: 41.15929369461284\n",
      "Epoch: 41 Loss: 40.90038179014079\n",
      "Epoch: 42 Loss: 40.64848029010383\n",
      "Epoch: 43 Loss: 40.4033701732809\n",
      "Epoch: 44 Loss: 40.16484276830456\n",
      "Epoch: 45 Loss: 39.93269901111631\n",
      "Epoch: 46 Loss: 39.70674880177093\n",
      "Epoch: 47 Loss: 39.486810439494924\n",
      "Epoch: 48 Loss: 39.27271011867688\n",
      "Epoch: 49 Loss: 39.06428147174669\n"
     ]
    }
   ],
   "source": [
    "#训练\n",
    "w2v.train(training_data)"
   ]
  },
  {
   "cell_type": "code",
   "execution_count": 23,
   "metadata": {},
   "outputs": [
    {
     "name": "stdout",
     "output_type": "stream",
     "text": [
      "machine [-0.92233624 -0.15702451 -0.16708926 -0.97479067 -0.85454526 -0.4927798\n",
      " -0.30755922  0.84541473  0.17365586 -0.4731329 ]\n"
     ]
    }
   ],
   "source": [
    "# 获取词的向量\n",
    "word = \"machine\"\n",
    "vec = w2v.word_vec(word)\n",
    "print(word, vec)"
   ]
  },
  {
   "cell_type": "code",
   "execution_count": 24,
   "metadata": {},
   "outputs": [
    {
     "name": "stdout",
     "output_type": "stream",
     "text": [
      "machine 1.0\n",
      "is 0.3194165697307216\n",
      "learning 0.27548016668137326\n"
     ]
    }
   ],
   "source": [
    " # 找相似的词\n",
    "w2v.vec_sim(\"machine\", 3)"
   ]
  }
 ],
 "metadata": {
  "kernelspec": {
   "display_name": "Python 3",
   "language": "python",
   "name": "python3"
  },
  "language_info": {
   "codemirror_mode": {
    "name": "ipython",
    "version": 3
   },
   "file_extension": ".py",
   "mimetype": "text/x-python",
   "name": "python",
   "nbconvert_exporter": "python",
   "pygments_lexer": "ipython3",
   "version": "3.9.16"
  },
  "orig_nbformat": 4
 },
 "nbformat": 4,
 "nbformat_minor": 2
}
