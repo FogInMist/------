{
 "cells": [
  {
   "cell_type": "markdown",
   "metadata": {},
   "source": [
    "### 导入相关python库文件"
   ]
  },
  {
   "cell_type": "code",
   "execution_count": 1,
   "metadata": {},
   "outputs": [],
   "source": [
    "import re\n",
    "import os\n",
    "import itertools\n",
    "from collections import defaultdict\n",
    "from itertools import islice, chain\n",
    "\n",
    "import networkx as nx\n",
    "import numpy as np\n",
    "import pickle as pkl\n",
    "from scipy.sparse import csr_matrix\n",
    "\n",
    "from datetime import datetime\n",
    "from datetime import timedelta\n",
    "import dateutil.parser"
   ]
  },
  {
   "cell_type": "code",
   "execution_count": 2,
   "metadata": {},
   "outputs": [],
   "source": [
    "def lines_per_n(f, n):\n",
    "    for line in f:\n",
    "        yield ''.join(chain([line], itertools.islice(f, n - 1)))\n",
    "\n",
    "def getDateTimeFromISO8601String(s):\n",
    "    d = dateutil.parser.parse(s)\n",
    "    return d"
   ]
  },
  {
   "cell_type": "markdown",
   "metadata": {},
   "source": [
    "### 处理节点信息"
   ]
  },
  {
   "cell_type": "code",
   "execution_count": 3,
   "metadata": {},
   "outputs": [],
   "source": [
    "node_data = defaultdict(lambda : ())  \n",
    "with open('vis.graph.nodeList.json') as f:\n",
    "    for chunk in lines_per_n(f, 5): # 每五行处理一次信息\n",
    "        chunk = chunk.split(\"\\n\")\n",
    "        id_string = chunk[1].split(\":\")[1]\n",
    "        x = [x.start() for x in re.finditer('\\\"', id_string)]\n",
    "        id =  id_string[x[0]+1:x[1]]  # 计算id信息\n",
    "        # 计算name\n",
    "        name_string = chunk[2].split(\":\")[1]\n",
    "        x = [x.start() for x in re.finditer('\\\"', name_string)]\n",
    "        name =  name_string[x[0]+1:x[1]] # 计算name信息\n",
    "        # 计算idx\n",
    "        idx_string = chunk[3].split(\":\")[1]\n",
    "        x1 = idx_string.find('(')\n",
    "        x2 = idx_string.find(')')\n",
    "        idx =  idx_string[x1+1:x2] # 记录id的索引\n",
    "        \n",
    "        # print(\"ID:{}, IDX:{:<4}, NAME:{}\".format(id, idx, name))\n",
    "        node_data[name] = (id,idx) # 加入节点信息到存储的字典中"
   ]
  },
  {
   "cell_type": "code",
   "execution_count": 4,
   "metadata": {},
   "outputs": [
    {
     "data": {
      "text/plain": [
       "143"
      ]
     },
     "execution_count": 4,
     "metadata": {},
     "output_type": "execute_result"
    }
   ],
   "source": [
    "len(node_data)"
   ]
  },
  {
   "cell_type": "code",
   "execution_count": 5,
   "metadata": {},
   "outputs": [
    {
     "data": {
      "text/plain": [
       "defaultdict(<function __main__.<lambda>()>,\n",
       "            {'albert.meyers@enron.com': ('55098b62251497209062421f', '0'),\n",
       "             'andrea.ring@enron.com': ('55098b622514972090624220', '1'),\n",
       "             'andrew.lewis@enron.com': ('55098b622514972090624221', '2'),\n",
       "             'andy.zipper@enron.com': ('55098b622514972090624222', '3'),\n",
       "             'barry.tycholiz@enron.com': ('55098b622514972090624223', '4'),\n",
       "             'benjamin.rogers@enron.com': ('55098b622514972090624224', '5'),\n",
       "             'bill.rapp@enron.com': ('55098b622514972090624225', '6'),\n",
       "             'bill.williams@enron.com': ('55098b622514972090624226', '7'),\n",
       "             'brad.mckay@enron.com': ('55098b622514972090624227', '8'),\n",
       "             'brenda.whitehead@enron.com': ('55098b622514972090624228', '9'),\n",
       "             'cara.semperger@enron.com': ('55098b622514972090624229', '10'),\n",
       "             'charles.weldon@enron.com': ('55098b62251497209062422a', '11'),\n",
       "             'chris.dorland@enron.com': ('55098b62251497209062422b', '12'),\n",
       "             'chris.germany@enron.com': ('55098b62251497209062422c', '13'),\n",
       "             'clint.dean@enron.com': ('55098b62251497209062422d', '14'),\n",
       "             'cooper.richey@enron.com': ('55098b62251497209062422e', '15'),\n",
       "             'craig.dean@enron.com': ('55098b62251497209062422f', '16'),\n",
       "             'dan.hyvl@enron.com': ('55098b622514972090624230', '17'),\n",
       "             'dana.davis@enron.com': ('55098b622514972090624231', '18'),\n",
       "             'danny.mccarty@enron.com': ('55098b622514972090624232', '19'),\n",
       "             'daren.farmer@enron.com': ('55098b622514972090624233', '20'),\n",
       "             'darrell.schoolcraft@enron.com': ('55098b622514972090624234',\n",
       "              '21'),\n",
       "             'darron.giron@enron.com': ('55098b622514972090624235', '22'),\n",
       "             'david.delainey@enron.com': ('55098b622514972090624236', '23'),\n",
       "             'debra.bailey@enron.com': ('55098b622514972090624237', '24'),\n",
       "             'debra.perlingiere@enron.com': ('55098b622514972090624238', '25'),\n",
       "             'diana.scholtes@enron.com': ('55098b622514972090624239', '26'),\n",
       "             'don.baughman@enron.com': ('55098b62251497209062423a', '27'),\n",
       "             'drew.fossum@enron.com': ('55098b62251497209062423b', '28'),\n",
       "             'dutch.quigley@enron.com': ('55098b62251497209062423c', '29'),\n",
       "             'elizabeth.sager@enron.com': ('55098b62251497209062423d', '30'),\n",
       "             'eric.bass@enron.com': ('55098b62251497209062423e', '31'),\n",
       "             'eric.saibi@enron.com': ('55098b62251497209062423f', '32'),\n",
       "             'errol.mclaughlin@enron.com': ('55098b622514972090624240', '33'),\n",
       "             'fletcher.sturm@enron.com': ('55098b622514972090624241', '34'),\n",
       "             'frank.ermis@enron.com': ('55098b622514972090624242', '35'),\n",
       "             'geir.solberg@enron.com': ('55098b622514972090624243', '36'),\n",
       "             'geoff.storey@enron.com': ('55098b622514972090624244', '37'),\n",
       "             'gerald.nemec@enron.com': ('55098b622514972090624245', '38'),\n",
       "             'greg.whalley@enron.com': ('55098b622514972090624246', '39'),\n",
       "             'gretel.smith@enron.com': ('55098b622514972090624247', '40'),\n",
       "             'holden.salisbury@enron.com': ('55098b622514972090624248', '41'),\n",
       "             'hunter.shively@enron.com': ('55098b622514972090624249', '42'),\n",
       "             'j.harris@enron.com': ('55098b62251497209062424a', '43'),\n",
       "             'james.derrick@enron.com': ('55098b62251497209062424b', '44'),\n",
       "             'james.steffes@enron.com': ('55098b62251497209062424c', '45'),\n",
       "             'jane.tholt@enron.com': ('55098b62251497209062424d', '46'),\n",
       "             'jason.williams@enron.com': ('55098b62251497209062424e', '47'),\n",
       "             'jason.wolfe@enron.com': ('55098b62251497209062424f', '48'),\n",
       "             'jay.reitmeyer@enron.com': ('55098b622514972090624250', '49'),\n",
       "             'jeff.dasovich@enron.com': ('55098b622514972090624251', '50'),\n",
       "             'jeff.king@enron.com': ('55098b622514972090624252', '51'),\n",
       "             'jeff.skilling@enron.com': ('55098b622514972090624253', '52'),\n",
       "             'jeffrey.hodge@enron.com': ('55098b622514972090624254', '53'),\n",
       "             'jeffrey.shankman@enron.com': ('55098b622514972090624255', '54'),\n",
       "             'jim.schwieger@enron.com': ('55098b622514972090624256', '55'),\n",
       "             'joannie.williamson@enron.com': ('55098b622514972090624257',\n",
       "              '56'),\n",
       "             'joe.parks@enron.com': ('55098b622514972090624258', '57'),\n",
       "             'joe.quenet@enron.com': ('55098b622514972090624259', '58'),\n",
       "             'joe.stepenovitch@enron.com': ('55098b62251497209062425a', '59'),\n",
       "             'john.forney@enron.com': ('55098b62251497209062425b', '60'),\n",
       "             'john.griffith@enron.com': ('55098b62251497209062425c', '61'),\n",
       "             'john.lavorato@enron.com': ('55098b62251497209062425d', '62'),\n",
       "             'john.zufferli@enron.com': ('55098b62251497209062425e', '63'),\n",
       "             'jonathan.mckay@enron.com': ('55098b62251497209062425f', '64'),\n",
       "             'juan.hernandez@enron.com': ('55098b622514972090624260', '65'),\n",
       "             'judy.hernandez@enron.com': ('55098b622514972090624261', '66'),\n",
       "             'judy.townsend@enron.com': ('55098b622514972090624262', '67'),\n",
       "             'kam.keiser@enron.com': ('55098b622514972090624263', '68'),\n",
       "             'kate.symes@enron.com': ('55098b622514972090624264', '69'),\n",
       "             'kay.mann@enron.com': ('55098b622514972090624265', '70'),\n",
       "             'keith.holst@enron.com': ('55098b622514972090624266', '71'),\n",
       "             'kenneth.lay@enron.com': ('55098b622514972090624267', '72'),\n",
       "             'kevin.hyatt@enron.com': ('55098b622514972090624268', '73'),\n",
       "             'kevin.presto@enron.com': ('55098b622514972090624269', '74'),\n",
       "             'kevin.ruscitti@enron.com': ('55098b62251497209062426a', '75'),\n",
       "             'kim.ward@enron.com': ('55098b62251497209062426b', '76'),\n",
       "             'kimberly.watson@enron.com': ('55098b62251497209062426c', '77'),\n",
       "             'larry.campbell@enron.com': ('55098b62251497209062426d', '78'),\n",
       "             'larry.may@enron.com': ('55098b62251497209062426e', '79'),\n",
       "             'lindy.donoho@enron.com': ('55098b62251497209062426f', '80'),\n",
       "             'lisa.gang@enron.com': ('55098b622514972090624270', '81'),\n",
       "             'liz.taylor@enron.com': ('55098b622514972090624271', '82'),\n",
       "             'louise.kitchen@enron.com': ('55098b622514972090624272', '83'),\n",
       "             'lynn.blair@enron.com': ('55098b622514972090624273', '84'),\n",
       "             'm..smith@enron.com': ('55098b622514972090624274', '85'),\n",
       "             'marie.heard@enron.com': ('55098b622514972090624275', '86'),\n",
       "             'mark.e.haedicke@enron.com': ('55098b622514972090624276', '87'),\n",
       "             'mark.mcconnell@enron.com': ('55098b622514972090624277', '88'),\n",
       "             'mark.taylor@enron.com': ('55098b622514972090624278', '89'),\n",
       "             'mark.whitt@enron.com': ('55098b622514972090624279', '90'),\n",
       "             'martin.cuilla@enron.com': ('55098b62251497209062427a', '91'),\n",
       "             'mary.fischer@enron.com': ('55098b62251497209062427b', '92'),\n",
       "             'matt.motley@enron.com': ('55098b62251497209062427c', '93'),\n",
       "             'matt.smith@enron.com': ('55098b62251497209062427d', '94'),\n",
       "             'matthew.lenhart@enron.com': ('55098b62251497209062427e', '95'),\n",
       "             'michele.lokay@enron.com': ('55098b62251497209062427f', '96'),\n",
       "             'michelle.cash@enron.com': ('55098b622514972090624280', '97'),\n",
       "             'mike.carson@enron.com': ('55098b622514972090624281', '98'),\n",
       "             'mike.grigsby@enron.com': ('55098b622514972090624282', '99'),\n",
       "             'mike.maggi@enron.com': ('55098b622514972090624283', '100'),\n",
       "             'mike.mcconnell@enron.com': ('55098b622514972090624284', '101'),\n",
       "             'mike.swerzbin@enron.com': ('55098b622514972090624285', '102'),\n",
       "             'monika.causholli@enron.com': ('55098b622514972090624286', '103'),\n",
       "             'monique.sanchez@enron.com': ('55098b622514972090624287', '104'),\n",
       "             'patrice.mims@enron.com': ('55098b622514972090624288', '105'),\n",
       "             'paul.thomas@enron.com': ('55098b622514972090624289', '106'),\n",
       "             'peter.keavey@enron.com': ('55098b62251497209062428a', '107'),\n",
       "             'phillip.love@enron.com': ('55098b62251497209062428b', '108'),\n",
       "             'phillip.platter@enron.com': ('55098b62251497209062428c', '109'),\n",
       "             'randall.gay@enron.com': ('55098b62251497209062428d', '110'),\n",
       "             'richard.ring@enron.com': ('55098b62251497209062428e', '111'),\n",
       "             'richard.sanders@enron.com': ('55098b62251497209062428f', '112'),\n",
       "             'richard.shapiro@enron.com': ('55098b622514972090624290', '113'),\n",
       "             'rick.buy@enron.com': ('55098b622514972090624291', '114'),\n",
       "             'rob.gay@enron.com': ('55098b622514972090624292', '115'),\n",
       "             'robert.benson@enron.com': ('55098b622514972090624293', '116'),\n",
       "             'rod.hayslett@enron.com': ('55098b622514972090624294', '117'),\n",
       "             'ryan.slinger@enron.com': ('55098b622514972090624295', '118'),\n",
       "             'sally.beck@enron.com': ('55098b622514972090624296', '119'),\n",
       "             'sandra.brawner@enron.com': ('55098b622514972090624297', '120'),\n",
       "             'sara.shackleton@enron.com': ('55098b622514972090624298', '121'),\n",
       "             'scott.hendrickson@enron.com': ('55098b622514972090624299',\n",
       "              '122'),\n",
       "             'scott.neal@enron.com': ('55098b62251497209062429a', '123'),\n",
       "             'shelley.corman@enron.com': ('55098b62251497209062429b', '124'),\n",
       "             'stacy.dickson@enron.com': ('55098b62251497209062429c', '125'),\n",
       "             'stanley.horton@enron.com': ('55098b62251497209062429d', '126'),\n",
       "             'stephanie.panus@enron.com': ('55098b62251497209062429e', '127'),\n",
       "             'steven.kean@enron.com': ('55098b62251497209062429f', '128'),\n",
       "             'steven.south@enron.com': ('55098b6225149720906242a0', '129'),\n",
       "             'susan.pereira@enron.com': ('55098b6225149720906242a1', '130'),\n",
       "             'susan.scott@enron.com': ('55098b6225149720906242a2', '131'),\n",
       "             't..lucci@enron.com': ('55098b6225149720906242a3', '132'),\n",
       "             'tana.jones@enron.com': ('55098b6225149720906242a4', '133'),\n",
       "             'teb.lokey@enron.com': ('55098b6225149720906242a5', '134'),\n",
       "             'theresa.staab@enron.com': ('55098b6225149720906242a6', '135'),\n",
       "             'thomas.martin@enron.com': ('55098b6225149720906242a7', '136'),\n",
       "             'tom.donohoe@enron.com': ('55098b6225149720906242a8', '137'),\n",
       "             'tori.kuykendall@enron.com': ('55098b6225149720906242a9', '138'),\n",
       "             'tracy.geaccone@enron.com': ('55098b6225149720906242aa', '139'),\n",
       "             'vince.kaminski@enron.com': ('55098b6225149720906242ab', '140'),\n",
       "             'vladi.pimenov@enron.com': ('55098b6225149720906242ac', '141'),\n",
       "             'w..white@enron.com': ('55098b6225149720906242ad', '142')})"
      ]
     },
     "execution_count": 5,
     "metadata": {},
     "output_type": "execute_result"
    }
   ],
   "source": [
    "node_data # 节点name:(id, 编号idx)"
   ]
  },
  {
   "cell_type": "markdown",
   "metadata": {},
   "source": [
    "### 处理边信息"
   ]
  },
  {
   "cell_type": "code",
   "execution_count": 6,
   "metadata": {},
   "outputs": [],
   "source": [
    "links = []\n",
    "ts = []\n",
    "with open('vis.digraph.allEdges.json') as f:\n",
    "    for chunk in lines_per_n(f, 5):\n",
    "        chunk = chunk.split(\"\\n\")\n",
    "        # 连接的边\n",
    "        name_string = chunk[2].split(\":\")[1]\n",
    "        x = [x.start() for x in re.finditer('\\\"', name_string)]\n",
    "        from_id, to_id = name_string[x[0]+1:x[1]].split(\"_\") # src, dst\n",
    "        # 时间编码\n",
    "        time_string = chunk[3].split(\"ISODate\")[1]\n",
    "        x = [x.start() for x in re.finditer('\\\"', time_string)]\n",
    "        timestamp = getDateTimeFromISO8601String(time_string[x[0]+1:x[1]])\n",
    "        ts.append(timestamp) # 时间信息\n",
    "        links.append((from_id, to_id, timestamp)) # 连接边信息"
   ]
  },
  {
   "cell_type": "code",
   "execution_count": 7,
   "metadata": {},
   "outputs": [
    {
     "data": {
      "text/plain": [
       "('tracy.geaccone@enron.com',\n",
       " 'rod.hayslett@enron.com',\n",
       " datetime.datetime(2001, 11, 20, 16, 52, 42, tzinfo=tzutc()))"
      ]
     },
     "execution_count": 7,
     "metadata": {},
     "output_type": "execute_result"
    }
   ],
   "source": [
    "links[1]"
   ]
  },
  {
   "cell_type": "code",
   "execution_count": 10,
   "metadata": {},
   "outputs": [
    {
     "name": "stdout",
     "output_type": "stream",
     "text": [
      "# interactions 22784\n"
     ]
    }
   ],
   "source": [
    " print (\"# interactions\", len(links))"
   ]
  },
  {
   "cell_type": "code",
   "execution_count": 9,
   "metadata": {},
   "outputs": [
    {
     "name": "stdout",
     "output_type": "stream",
     "text": [
      "1998-11-13 12:07:00+00:00 2002-06-21 22:40:19+00:00\n"
     ]
    }
   ],
   "source": [
    "print (min(ts), max(ts))"
   ]
  },
  {
   "cell_type": "code",
   "execution_count": 11,
   "metadata": {},
   "outputs": [],
   "source": [
    "links.sort(key =lambda x: x[2]) # 对links按照时间进行从小到大的排序"
   ]
  },
  {
   "cell_type": "code",
   "execution_count": 12,
   "metadata": {},
   "outputs": [
    {
     "data": {
      "text/plain": [
       "('mark.taylor@enron.com',\n",
       " 'tana.jones@enron.com',\n",
       " datetime.datetime(1998, 11, 13, 12, 7, tzinfo=tzutc()))"
      ]
     },
     "execution_count": 12,
     "metadata": {},
     "output_type": "execute_result"
    }
   ],
   "source": [
    "links[1]"
   ]
  },
  {
   "cell_type": "markdown",
   "metadata": {},
   "source": [
    "### 制作时间切片上的图"
   ]
  },
  {
   "cell_type": "code",
   "execution_count": 13,
   "metadata": {},
   "outputs": [
    {
     "name": "stdout",
     "output_type": "stream",
     "text": [
      "Spliting Time Interval: \n",
      " Start Time : 1999-06-01 12:07:00+00:00, End Time : 2001-12-03 22:40:19+00:00\n"
     ]
    }
   ],
   "source": [
    "# split edges \n",
    "SLICE_MONTHS = 2 # 按月的时间间隔\n",
    "START_DATE = min(ts) + timedelta(200) # 开始时间\n",
    "END_DATE = max(ts) - timedelta(200) # 结束时间\n",
    "print(\"Spliting Time Interval: \\n Start Time : {}, End Time : {}\".format(START_DATE, END_DATE))"
   ]
  },
  {
   "cell_type": "code",
   "execution_count": 14,
   "metadata": {},
   "outputs": [],
   "source": [
    "slice_links = defaultdict(lambda: nx.MultiGraph()) # 创建关联图\n",
    "for (a, b, time) in links: # 遍历连接边\n",
    "    datetime_object = time\n",
    "    if datetime_object > END_DATE: # 如果超过最大时间，则认为是最大时间的。\n",
    "        months_diff = (END_DATE - START_DATE).days//30 # 如果时间大于最大，则按照最大最小时间来计算时间间隔\n",
    "    else:\n",
    "        months_diff = (datetime_object - START_DATE).days//30 # 否则计算时间间隔，并按月划分\n",
    "    slice_id = months_diff // SLICE_MONTHS  # 进一步分割\n",
    "    slice_id = max(slice_id, 0)\n",
    "\n",
    "    if slice_id not in slice_links.keys(): # 为每个时间进行快照\n",
    "        slice_links[slice_id] = nx.MultiGraph() # 如果该时刻不存在，则建立该时刻的graph\n",
    "        if slice_id > 0:\n",
    "            slice_links[slice_id].add_nodes_from(slice_links[slice_id-1].nodes(data=True)) # 将前一时刻的节点加入到该时刻图中，即节点不会消失\n",
    "            assert (len(slice_links[slice_id].edges()) == 0)\n",
    "    slice_links[slice_id].add_edge(a,b, date=datetime_object) # 添加节点a，b之间的连接边信息"
   ]
  },
  {
   "cell_type": "code",
   "execution_count": 15,
   "metadata": {},
   "outputs": [
    {
     "data": {
      "text/plain": [
       "16"
      ]
     },
     "execution_count": 15,
     "metadata": {},
     "output_type": "execute_result"
    }
   ],
   "source": [
    "len(slice_links)"
   ]
  },
  {
   "cell_type": "code",
   "execution_count": 20,
   "metadata": {},
   "outputs": [
    {
     "data": {
      "text/plain": [
       "NodeView(('mark.taylor@enron.com', 'tana.jones@enron.com', 'michelle.cash@enron.com', 'marie.heard@enron.com', 'richard.sanders@enron.com', 'elizabeth.sager@enron.com', 'dan.hyvl@enron.com', 'sara.shackleton@enron.com', 'jeffrey.hodge@enron.com', 'stacy.dickson@enron.com', 'louise.kitchen@enron.com', 'brenda.whitehead@enron.com', 'fletcher.sturm@enron.com', 'gerald.nemec@enron.com', 'susan.scott@enron.com', 'mike.mcconnell@enron.com', 'kevin.presto@enron.com', 'greg.whalley@enron.com'))"
      ]
     },
     "execution_count": 20,
     "metadata": {},
     "output_type": "execute_result"
    }
   ],
   "source": [
    "slice_links[0].nodes"
   ]
  },
  {
   "cell_type": "markdown",
   "metadata": {},
   "source": [
    "### 处理各切片图的节点标签，用idx替代"
   ]
  },
  {
   "cell_type": "code",
   "execution_count": 17,
   "metadata": {},
   "outputs": [
    {
     "name": "stdout",
     "output_type": "stream",
     "text": [
      "In snapshoot 0 , #Nodes=18   , #Edges=237  \n",
      "In snapshoot 1 , #Nodes=23   , #Edges=184  \n",
      "In snapshoot 2 , #Nodes=24   , #Edges=216  \n",
      "In snapshoot 3 , #Nodes=50   , #Edges=570  \n",
      "In snapshoot 4 , #Nodes=66   , #Edges=649  \n",
      "In snapshoot 5 , #Nodes=79   , #Edges=877  \n",
      "In snapshoot 6 , #Nodes=98   , #Edges=1273 \n",
      "In snapshoot 7 , #Nodes=110  , #Edges=2164 \n",
      "In snapshoot 8 , #Nodes=117  , #Edges=2688 \n",
      "In snapshoot 9 , #Nodes=125  , #Edges=2612 \n",
      "In snapshoot 10, #Nodes=131  , #Edges=2601 \n",
      "In snapshoot 11, #Nodes=135  , #Edges=2852 \n",
      "In snapshoot 12, #Nodes=137  , #Edges=1448 \n",
      "In snapshoot 13, #Nodes=138  , #Edges=581  \n",
      "In snapshoot 14, #Nodes=141  , #Edges=2125 \n",
      "In snapshoot 15, #Nodes=143  , #Edges=1707 \n"
     ]
    }
   ],
   "source": [
    "# print statics of each graph\n",
    "used_nodes = []\n",
    "for id, slice in slice_links.items():\n",
    "    print(\"In snapshoot {:<2}, #Nodes={:<5}, #Edges={:<5}\".format(id, \\\n",
    "                        slice.number_of_nodes(), slice.number_of_edges()))\n",
    "    for node in slice.nodes(): # 遍历每个图中所有节点\n",
    "        if not node in used_nodes:\n",
    "            used_nodes.append(node) # 加入到节点变量中"
   ]
  },
  {
   "cell_type": "code",
   "execution_count": 19,
   "metadata": {},
   "outputs": [
    {
     "data": {
      "text/plain": [
       "143"
      ]
     },
     "execution_count": 19,
     "metadata": {},
     "output_type": "execute_result"
    }
   ],
   "source": [
    "len(used_nodes)"
   ]
  },
  {
   "cell_type": "code",
   "execution_count": 21,
   "metadata": {},
   "outputs": [],
   "source": [
    "# remap nodes in graphs. Cause start time is not zero, the node index is not consistent\n",
    "nodes_consistent_map = {node:idx for idx, node in enumerate(used_nodes)} # 建立节点到对应的索引之中\n",
    "for id, slice in slice_links.items():\n",
    "    slice_links[id] = nx.relabel_nodes(slice, nodes_consistent_map) # 重新标记图中的节点"
   ]
  },
  {
   "cell_type": "code",
   "execution_count": 22,
   "metadata": {},
   "outputs": [
    {
     "data": {
      "text/plain": [
       "NodeView((0, 1, 2, 3, 4, 5, 6, 7, 8, 9, 10, 11, 12, 13, 14, 15, 16, 17))"
      ]
     },
     "execution_count": 22,
     "metadata": {},
     "output_type": "execute_result"
    }
   ],
   "source": [
    "slice_links[0].nodes"
   ]
  },
  {
   "cell_type": "markdown",
   "metadata": {},
   "source": [
    "### 利用one-hot编码，将节点属性进行编码"
   ]
  },
  {
   "cell_type": "code",
   "execution_count": 23,
   "metadata": {},
   "outputs": [],
   "source": [
    "# One-Hot features\n",
    "onehot = np.identity(slice_links[max(slice_links.keys())].number_of_nodes()) # 为最后一个图中的所有节点，建立one-hot向量"
   ]
  },
  {
   "cell_type": "code",
   "execution_count": 26,
   "metadata": {},
   "outputs": [
    {
     "data": {
      "text/plain": [
       "array([[1., 0., 0., ..., 0., 0., 0.],\n",
       "       [0., 1., 0., ..., 0., 0., 0.],\n",
       "       [0., 0., 1., ..., 0., 0., 0.],\n",
       "       ...,\n",
       "       [0., 0., 0., ..., 1., 0., 0.],\n",
       "       [0., 0., 0., ..., 0., 1., 0.],\n",
       "       [0., 0., 0., ..., 0., 0., 1.]])"
      ]
     },
     "execution_count": 26,
     "metadata": {},
     "output_type": "execute_result"
    }
   ],
   "source": [
    "onehot"
   ]
  },
  {
   "cell_type": "code",
   "execution_count": 27,
   "metadata": {},
   "outputs": [
    {
     "data": {
      "text/plain": [
       "(143, 143)"
      ]
     },
     "execution_count": 27,
     "metadata": {},
     "output_type": "execute_result"
    }
   ],
   "source": [
    "onehot.shape"
   ]
  },
  {
   "cell_type": "code",
   "execution_count": 28,
   "metadata": {},
   "outputs": [],
   "source": [
    "graphs = []\n",
    "for id, slice in slice_links.items(): # 遍历切片\n",
    "    tmp_feature = []\n",
    "    for node in slice.nodes(): # 遍历一张图的所有节点\n",
    "        tmp_feature.append(onehot[node]) # 加入one-hot特征\n",
    "    slice.graph[\"feature\"] = csr_matrix(tmp_feature) # 稀疏矩阵，添加图中特征\n",
    "    graphs.append(slice) # 将图保存到list中"
   ]
  },
  {
   "cell_type": "code",
   "execution_count": 31,
   "metadata": {},
   "outputs": [
    {
     "data": {
      "text/plain": [
       "(18, 143)"
      ]
     },
     "execution_count": 31,
     "metadata": {},
     "output_type": "execute_result"
    }
   ],
   "source": [
    "graphs[0].graph[\"feature\"].A.shape"
   ]
  },
  {
   "cell_type": "code",
   "execution_count": 32,
   "metadata": {},
   "outputs": [
    {
     "data": {
      "text/plain": [
       "(143, 143)"
      ]
     },
     "execution_count": 32,
     "metadata": {},
     "output_type": "execute_result"
    }
   ],
   "source": [
    "graphs[-1].graph[\"feature\"].A.shape"
   ]
  },
  {
   "cell_type": "markdown",
   "metadata": {},
   "source": [
    "### 保存处理结果"
   ]
  },
  {
   "cell_type": "code",
   "execution_count": 29,
   "metadata": {},
   "outputs": [
    {
     "name": "stdout",
     "output_type": "stream",
     "text": [
      "Processed Data Saved at ../../data/Enron/graph.pkl\n"
     ]
    }
   ],
   "source": [
    "# save 保存图信息\n",
    "save_path = \"../../data/Enron/graph.pkl\"\n",
    "with open(save_path, \"wb\") as f:\n",
    "    pkl.dump(graphs, f)\n",
    "print(\"Processed Data Saved at {}\".format(save_path))"
   ]
  },
  {
   "cell_type": "code",
   "execution_count": null,
   "metadata": {},
   "outputs": [],
   "source": []
  }
 ],
 "metadata": {
  "kernelspec": {
   "display_name": "python39",
   "language": "python",
   "name": "python3"
  },
  "language_info": {
   "codemirror_mode": {
    "name": "ipython",
    "version": 3
   },
   "file_extension": ".py",
   "mimetype": "text/x-python",
   "name": "python",
   "nbconvert_exporter": "python",
   "pygments_lexer": "ipython3",
   "version": "3.9.16"
  }
 },
 "nbformat": 4,
 "nbformat_minor": 2
}
