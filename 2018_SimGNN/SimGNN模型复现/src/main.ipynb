{
 "cells": [
  {
   "cell_type": "markdown",
   "metadata": {},
   "source": [
    "## SimGNN代码复现\n",
    "\n",
    "**参考资料：**\n",
    "* [SimGNN的PyTorch实现](https://github.com/benedekrozemberczki/SimGNN)\n"
   ]
  },
  {
   "cell_type": "markdown",
   "metadata": {},
   "source": [
    "### 导入相关库和python文件"
   ]
  },
  {
   "cell_type": "code",
   "execution_count": 1,
   "metadata": {},
   "outputs": [],
   "source": [
    "from utils import tab_printer_edit\n",
    "from simgnn import SimGNNTrainer\n",
    "from param_parser import parameter_parser_edit"
   ]
  },
  {
   "cell_type": "markdown",
   "metadata": {},
   "source": [
    "### 配置超参数和全局变量"
   ]
  },
  {
   "cell_type": "code",
   "execution_count": 2,
   "metadata": {},
   "outputs": [],
   "source": [
    "args = parameter_parser_edit()"
   ]
  },
  {
   "cell_type": "code",
   "execution_count": 3,
   "metadata": {},
   "outputs": [
    {
     "name": "stdout",
     "output_type": "stream",
     "text": [
      "+---------------------+-------------------+\n",
      "|      Parameter      |       Value       |\n",
      "+=====================+===================+\n",
      "| Batch size          | 128               |\n",
      "+---------------------+-------------------+\n",
      "| Bins                | 16                |\n",
      "+---------------------+-------------------+\n",
      "| Bottle neck neurons | 16                |\n",
      "+---------------------+-------------------+\n",
      "| Dropout             | 0.500             |\n",
      "+---------------------+-------------------+\n",
      "| Epochs              | 50                |\n",
      "+---------------------+-------------------+\n",
      "| Filters 1           | 128               |\n",
      "+---------------------+-------------------+\n",
      "| Filters 2           | 64                |\n",
      "+---------------------+-------------------+\n",
      "| Filters 3           | 32                |\n",
      "+---------------------+-------------------+\n",
      "| Histogram           | 0                 |\n",
      "+---------------------+-------------------+\n",
      "| Learning rate       | 0.001             |\n",
      "+---------------------+-------------------+\n",
      "| Load path           | None              |\n",
      "+---------------------+-------------------+\n",
      "| Save path           | None              |\n",
      "+---------------------+-------------------+\n",
      "| Tensor neurons      | 16                |\n",
      "+---------------------+-------------------+\n",
      "| Testing graphs      | ../dataset/test/  |\n",
      "+---------------------+-------------------+\n",
      "| Training graphs     | ../dataset/train/ |\n",
      "+---------------------+-------------------+\n",
      "| Weight decay        | 0.001             |\n",
      "+---------------------+-------------------+\n"
     ]
    }
   ],
   "source": [
    "tab_printer_edit(args)"
   ]
  },
  {
   "cell_type": "code",
   "execution_count": 4,
   "metadata": {},
   "outputs": [],
   "source": [
    "# # test\n",
    "# import glob\n",
    "# training_graphs = glob.glob(\"../dataset/train/\" + \"*.json\") # 训练图\n",
    "# training_graphs"
   ]
  },
  {
   "cell_type": "markdown",
   "metadata": {},
   "source": [
    "### 加载模型,预处理数据"
   ]
  },
  {
   "cell_type": "code",
   "execution_count": 5,
   "metadata": {},
   "outputs": [
    {
     "name": "stdout",
     "output_type": "stream",
     "text": [
      "\n",
      "Enumerating unique labels.\n",
      "\n"
     ]
    },
    {
     "name": "stderr",
     "output_type": "stream",
     "text": [
      "100%|██████████| 100/100 [00:00<00:00, 4359.08it/s]"
     ]
    },
    {
     "name": "stdout",
     "output_type": "stream",
     "text": [
      "Number of unique labels:  16\n",
      "SimGNN(\n",
      "  (convolution_1): GCNConv(16, 128)\n",
      "  (convolution_2): GCNConv(128, 64)\n",
      "  (convolution_3): GCNConv(64, 32)\n",
      "  (attention): AttentionModule()\n",
      "  (tensor_network): TenorNetworkModule()\n",
      "  (fully_connected_first): Linear(in_features=16, out_features=16, bias=True)\n",
      "  (scoring_layer): Linear(in_features=16, out_features=1, bias=True)\n",
      ")\n"
     ]
    },
    {
     "name": "stderr",
     "output_type": "stream",
     "text": [
      "\n"
     ]
    }
   ],
   "source": [
    "trainer = SimGNNTrainer(args)"
   ]
  },
  {
   "cell_type": "markdown",
   "metadata": {},
   "source": [
    "### SimGNN模型框架\n",
    "\n",
    "![SimGNN_model](../simgnn.jpg \"formula\")"
   ]
  },
  {
   "cell_type": "markdown",
   "metadata": {},
   "source": [
    "### 模型训练"
   ]
  },
  {
   "cell_type": "code",
   "execution_count": 6,
   "metadata": {},
   "outputs": [
    {
     "name": "stdout",
     "output_type": "stream",
     "text": [
      "\n",
      "Model training.\n",
      "\n"
     ]
    },
    {
     "name": "stderr",
     "output_type": "stream",
     "text": [
      "Batches: 100%|██████████| 1/1 [00:00<00:00,  3.74it/s]?it/s]\n",
      "Batches: 100%|██████████| 1/1 [00:00<00:00,  4.42it/s],  3.70it/s]  \n",
      "Batches: 100%|██████████| 1/1 [00:00<00:00,  4.59it/s]11,  4.07it/s]\n",
      "Batches: 100%|██████████| 1/1 [00:00<00:00,  4.32it/s]11,  4.26it/s]\n",
      "Batches: 100%|██████████| 1/1 [00:00<00:00,  4.47it/s]10,  4.27it/s]\n",
      "Batches: 100%|██████████| 1/1 [00:00<00:00,  4.50it/s]10,  4.32it/s]\n",
      "Batches: 100%|██████████| 1/1 [00:00<00:00,  3.90it/s]10,  4.36it/s]\n",
      "Batches: 100%|██████████| 1/1 [00:00<00:00,  4.54it/s]10,  4.18it/s]\n",
      "Batches: 100%|██████████| 1/1 [00:00<00:00,  4.13it/s]09,  4.27it/s]\n",
      "Batches: 100%|██████████| 1/1 [00:00<00:00,  4.37it/s]09,  4.21it/s]\n",
      "Batches: 100%|██████████| 1/1 [00:00<00:00,  4.07it/s]:09,  4.25it/s]\n",
      "Batches: 100%|██████████| 1/1 [00:00<00:00,  4.67it/s]:09,  4.17it/s]\n",
      "Batches: 100%|██████████| 1/1 [00:00<00:00,  4.58it/s]:08,  4.29it/s]\n",
      "Batches: 100%|██████████| 1/1 [00:00<00:00,  4.28it/s]:08,  4.36it/s]\n",
      "Batches: 100%|██████████| 1/1 [00:00<00:00,  4.56it/s],  4.32it/s]   \n",
      "Batches: 100%|██████████| 1/1 [00:00<00:00,  4.62it/s]07,  4.38it/s]\n",
      "Batches: 100%|██████████| 1/1 [00:00<00:00,  4.37it/s]:07,  4.43it/s]\n",
      "Batches: 100%|██████████| 1/1 [00:00<00:00,  4.61it/s]:07,  4.39it/s]\n",
      "Batches: 100%|██████████| 1/1 [00:00<00:00,  4.50it/s]:07,  4.44it/s]\n",
      "Batches: 100%|██████████| 1/1 [00:00<00:00,  4.07it/s]:06,  4.44it/s]\n",
      "Batches: 100%|██████████| 1/1 [00:00<00:00,  4.42it/s]:06,  4.30it/s]\n",
      "Batches: 100%|██████████| 1/1 [00:00<00:00,  4.37it/s]:06,  4.32it/s]\n",
      "Batches: 100%|██████████| 1/1 [00:00<00:00,  4.38it/s]:06,  4.32it/s]\n",
      "Batches: 100%|██████████| 1/1 [00:00<00:00,  4.66it/s]06,  4.32it/s] \n",
      "Batches: 100%|██████████| 1/1 [00:00<00:00,  4.55it/s]:05,  4.40it/s]\n",
      "Batches: 100%|██████████| 1/1 [00:00<00:00,  4.21it/s]:05,  4.42it/s]\n",
      "Batches: 100%|██████████| 1/1 [00:00<00:00,  4.28it/s]:05,  4.34it/s]\n",
      "Batches: 100%|██████████| 1/1 [00:00<00:00,  3.87it/s]:05,  4.30it/s]\n",
      "Batches: 100%|██████████| 1/1 [00:00<00:00,  4.25it/s]:05,  4.15it/s]\n",
      "Batches: 100%|██████████| 1/1 [00:00<00:00,  4.40it/s]:05,  4.16it/s]\n",
      "Batches: 100%|██████████| 1/1 [00:00<00:00,  4.14it/s]:04,  4.22it/s]\n",
      "Batches: 100%|██████████| 1/1 [00:00<00:00,  3.96it/s]:04,  4.18it/s]\n",
      "Batches: 100%|██████████| 1/1 [00:00<00:00,  4.64it/s]:04,  4.10it/s]\n",
      "Batches: 100%|██████████| 1/1 [00:00<00:00,  4.62it/s]:04,  4.23it/s]\n",
      "Batches: 100%|██████████| 1/1 [00:00<00:00,  4.55it/s]:03,  4.32it/s]\n",
      "Batches: 100%|██████████| 1/1 [00:00<00:00,  4.13it/s]:03,  4.36it/s]\n",
      "Batches: 100%|██████████| 1/1 [00:00<00:00,  4.17it/s]:03,  4.28it/s]\n",
      "Batches: 100%|██████████| 1/1 [00:00<00:00,  4.37it/s]:03,  4.23it/s]\n",
      "Batches: 100%|██████████| 1/1 [00:00<00:00,  4.45it/s]:02,  4.26it/s]\n",
      "Batches: 100%|██████████| 1/1 [00:00<00:00,  4.03it/s]:02,  4.30it/s]\n",
      "Batches: 100%|██████████| 1/1 [00:00<00:00,  4.37it/s]:02,  4.20it/s]\n",
      "Batches: 100%|██████████| 1/1 [00:00<00:00,  4.43it/s]:02,  4.23it/s]\n",
      "Batches: 100%|██████████| 1/1 [00:00<00:00,  4.61it/s]:01,  4.27it/s]\n",
      "Batches: 100%|██████████| 1/1 [00:00<00:00,  4.55it/s]:01,  4.34it/s]\n",
      "Batches: 100%|██████████| 1/1 [00:00<00:00,  4.50it/s]:01,  4.38it/s]\n",
      "Batches: 100%|██████████| 1/1 [00:00<00:00,  4.44it/s]:01,  4.40it/s]\n",
      "Batches: 100%|██████████| 1/1 [00:00<00:00,  4.62it/s]:00,  4.40it/s]\n",
      "Batches: 100%|██████████| 1/1 [00:00<00:00,  4.12it/s]:00,  4.44it/s]\n",
      "Batches: 100%|██████████| 1/1 [00:00<00:00,  4.20it/s]:00,  4.32it/s]\n",
      "Batches: 100%|██████████| 1/1 [00:00<00:00,  4.53it/s]:00,  4.27it/s]\n",
      "Epoch (Loss=0.74781): 100%|██████████| 50/50 [00:11<00:00,  4.29it/s]\n"
     ]
    }
   ],
   "source": [
    "import warnings\n",
    "warnings.filterwarnings(\"ignore\")\n",
    "trainer.fit()"
   ]
  },
  {
   "cell_type": "markdown",
   "metadata": {},
   "source": [
    "### 模型评估"
   ]
  },
  {
   "cell_type": "code",
   "execution_count": 7,
   "metadata": {},
   "outputs": [
    {
     "name": "stdout",
     "output_type": "stream",
     "text": [
      "\n",
      "\n",
      "Model evaluation.\n",
      "\n"
     ]
    },
    {
     "name": "stderr",
     "output_type": "stream",
     "text": [
      "100%|██████████| 50/50 [00:00<00:00, 285.58it/s]"
     ]
    },
    {
     "name": "stdout",
     "output_type": "stream",
     "text": [
      "\n",
      "Baseline error: 0.41597.\n",
      "\n",
      "Model test error: 0.39356.\n"
     ]
    },
    {
     "name": "stderr",
     "output_type": "stream",
     "text": [
      "\n"
     ]
    }
   ],
   "source": [
    "trainer.score()"
   ]
  },
  {
   "cell_type": "code",
   "execution_count": null,
   "metadata": {},
   "outputs": [],
   "source": []
  }
 ],
 "metadata": {
  "kernelspec": {
   "display_name": "python39",
   "language": "python",
   "name": "python3"
  },
  "language_info": {
   "codemirror_mode": {
    "name": "ipython",
    "version": 3
   },
   "file_extension": ".py",
   "mimetype": "text/x-python",
   "name": "python",
   "nbconvert_exporter": "python",
   "pygments_lexer": "ipython3",
   "version": "3.9.16"
  }
 },
 "nbformat": 4,
 "nbformat_minor": 2
}
