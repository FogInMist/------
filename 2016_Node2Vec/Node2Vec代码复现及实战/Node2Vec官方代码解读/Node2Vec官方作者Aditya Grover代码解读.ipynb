{
 "cells": [
  {
   "cell_type": "markdown",
   "metadata": {},
   "source": [
    "## 参考资料:\n",
    "\n",
    "* [Node2Vec代码实战 - Alias Sampling复现（同济子豪兄）](https://www.bilibili.com/video/BV1VS4y1E7Me/?spm_id_from=333.788&vd_source=36e948dc2acdb36d7055f879d377b529)\n",
    "\n",
    "* [Node2Vec官方作者Aditya Grover代码](https://github.com/aditya-grover/node2vec)\n",
    "\n"
   ]
  },
  {
   "cell_type": "markdown",
   "metadata": {},
   "source": [
    "## 导入工具包"
   ]
  },
  {
   "cell_type": "code",
   "execution_count": 1,
   "metadata": {},
   "outputs": [],
   "source": [
    "import warnings\n",
    "warnings.filterwarnings('ignore')\n",
    "import argparse\n",
    "import numpy as np\n",
    "import networkx as nx\n",
    "from gensim.models import Word2Vec\n",
    "import random\n",
    "\n",
    "import matplotlib.pyplot as plt\n",
    "%matplotlib inline"
   ]
  },
  {
   "cell_type": "markdown",
   "metadata": {},
   "source": [
    "## 读入命令行参数"
   ]
  },
  {
   "cell_type": "code",
   "execution_count": 2,
   "metadata": {},
   "outputs": [],
   "source": [
    "def parse_args():\n",
    "    '''\n",
    "    Parses the node2vec arguments.\n",
    "    '''\n",
    "    # 使用parser加载信息\n",
    "    parser = argparse.ArgumentParser(description=\"Run node2vec.\")\n",
    "    # 输入文件：邻接表\n",
    "    parser.add_argument('--input', nargs='?', default='karate.edgelist',\n",
    "                        help='Input graph path')\n",
    "    # 输出文件：节点嵌入表\n",
    "    parser.add_argument('--output', nargs='?', default='karate.emb',\n",
    "                        help='Embeddings path')\n",
    "    # embedding嵌入向量维度\n",
    "    parser.add_argument('--dimensions', type=int, default=128,\n",
    "                        help='Number of dimensions. Default is 128.')\n",
    "    # 随机游走序列长度\n",
    "    parser.add_argument('--walk-length', type=int, default=10,\n",
    "                        help='Length of walk per source. Default is 80.')\n",
    "    # 每个节点生成随机游走序列次数\n",
    "    parser.add_argument('--num-walks', type=int, default=10,\n",
    "                        help='Number of walks per source. Default is 10.')\n",
    "    # word2vec窗口大小，word2vec参数\n",
    "    parser.add_argument('--window-size', type=int, default=10,\n",
    "                        help='Context size for optimization. Default is 10.')\n",
    "    # SGD优化时epoch数量，word2vec参数\n",
    "    parser.add_argument('--iter', default=1, type=int,\n",
    "                        help='Number of epochs in SGD')\n",
    "    # 并行化核数，word2vec参数\n",
    "    parser.add_argument('--workers', type=int, default=8,\n",
    "                        help='Number of parallel workers. Default is 8.')\n",
    "    # 参数p\n",
    "    parser.add_argument('--p', type=float, default=1,\n",
    "                        help='Return hyperparameter. Default is 1.')\n",
    "    # 参数q\n",
    "    parser.add_argument('--q', type=float, default=2,\n",
    "                        help='Inout hyperparameter. Default is 2.')\n",
    "    # 连接是否带权重\n",
    "    parser.add_argument('--weighted', dest='weighted', action='store_true',\n",
    "                        help='Boolean specifying (un)weighted. Default is unweighted.')\n",
    "    parser.add_argument('--unweighted', dest='unweighted', action='store_false')\n",
    "    parser.set_defaults(weighted=False)\n",
    "    \n",
    "    # 有向图还是无向图\n",
    "    parser.add_argument('--directed', dest='directed', action='store_true',\n",
    "                        help='Graph is (un)directed. Default is undirected.')\n",
    "    parser.add_argument('--undirected', dest='undirected', action='store_false')\n",
    "    parser.set_defaults(directed=False)\n",
    "    \n",
    "    return parser.parse_args(args=[])\n",
    "\n",
    "args = parse_args()"
   ]
  },
  {
   "cell_type": "code",
   "execution_count": 3,
   "metadata": {},
   "outputs": [
    {
     "data": {
      "text/plain": [
       "Namespace(input='karate.edgelist', output='karate.emb', dimensions=128, walk_length=10, num_walks=10, window_size=10, iter=1, workers=8, p=1, q=2, weighted=False, unweighted=True, directed=False, undirected=True)"
      ]
     },
     "execution_count": 3,
     "metadata": {},
     "output_type": "execute_result"
    }
   ],
   "source": [
    "args"
   ]
  },
  {
   "cell_type": "markdown",
   "metadata": {},
   "source": [
    "## 载入图"
   ]
  },
  {
   "cell_type": "code",
   "execution_count": 4,
   "metadata": {},
   "outputs": [],
   "source": [
    "# 连接带权重\n",
    "if args.weighted:\n",
    "    G = nx.read_edgelist(args.input, nodetype=int, data=(('weight', float),), create_using=nx.DiGraph())\n",
    "# 连接不带权重\n",
    "else:\n",
    "    G = nx.read_edgelist(args.input, nodetype=int, create_using=nx.DiGraph())\n",
    "    for edge in G.edges():\n",
    "        G[edge[0]][edge[1]]['weight'] = np.abs(np.random.randn())\n",
    "        \n",
    "# 无向图\n",
    "if not args.directed:\n",
    "    G = G.to_undirected()"
   ]
  },
  {
   "cell_type": "code",
   "execution_count": 5,
   "metadata": {},
   "outputs": [
    {
     "data": {
      "text/plain": [
       "34"
      ]
     },
     "execution_count": 5,
     "metadata": {},
     "output_type": "execute_result"
    }
   ],
   "source": [
    "len(G)"
   ]
  },
  {
   "cell_type": "code",
   "execution_count": 6,
   "metadata": {},
   "outputs": [
    {
     "data": {
      "text/plain": [
       "NodeView((1, 32, 22, 20, 18, 14, 13, 12, 11, 9, 8, 7, 6, 5, 4, 3, 2, 31, 10, 33, 29, 28, 17, 34, 15, 16, 19, 21, 23, 24, 30, 26, 25, 27))"
      ]
     },
     "execution_count": 6,
     "metadata": {},
     "output_type": "execute_result"
    }
   ],
   "source": [
    "G.nodes"
   ]
  },
  {
   "cell_type": "code",
   "execution_count": 7,
   "metadata": {},
   "outputs": [
    {
     "data": {
      "text/plain": [
       "77"
      ]
     },
     "execution_count": 7,
     "metadata": {},
     "output_type": "execute_result"
    }
   ],
   "source": [
    "len(G.edges)"
   ]
  },
  {
   "cell_type": "code",
   "execution_count": 8,
   "metadata": {},
   "outputs": [
    {
     "data": {
      "text/plain": [
       "EdgeView([(1, 32), (1, 22), (1, 20), (1, 18), (1, 14), (1, 13), (1, 12), (1, 11), (1, 9), (1, 8), (1, 7), (1, 6), (1, 5), (1, 4), (1, 3), (1, 2), (32, 34), (32, 33), (32, 29), (32, 26), (32, 25), (22, 2), (20, 34), (20, 2), (18, 2), (14, 34), (14, 4), (14, 3), (14, 2), (13, 4), (11, 6), (11, 5), (9, 34), (9, 33), (9, 3), (8, 4), (8, 3), (8, 2), (7, 17), (7, 6), (7, 5), (6, 17), (4, 3), (4, 2), (3, 10), (3, 33), (3, 29), (3, 28), (3, 2), (2, 31), (31, 34), (31, 33), (10, 34), (33, 34), (33, 15), (33, 16), (33, 19), (33, 21), (33, 23), (33, 24), (33, 30), (29, 34), (28, 34), (28, 24), (28, 25), (34, 15), (34, 16), (34, 19), (34, 21), (34, 23), (34, 24), (34, 30), (34, 27), (24, 30), (24, 26), (30, 27), (26, 25)])"
      ]
     },
     "execution_count": 8,
     "metadata": {},
     "output_type": "execute_result"
    }
   ],
   "source": [
    "G.edges"
   ]
  },
  {
   "cell_type": "code",
   "execution_count": 9,
   "metadata": {},
   "outputs": [
    {
     "data": {
      "image/png": "[encoded data removed]",
      "text/plain": [
       "<Figure size 640x480 with 1 Axes>"
      ]
     },
     "metadata": {},
     "output_type": "display_data"
    }
   ],
   "source": [
    "# 可视化\n",
    "pos = nx.spring_layout(G, seed=4)\n",
    "nx.draw_networkx(G, pos, with_labels=True)\n",
    "plt.show()"
   ]
  },
  {
   "cell_type": "markdown",
   "metadata": {},
   "source": [
    "## Alias Sampling\n",
    "\n",
    "参考博客\n",
    "\n",
    "https://keithschwarz.com/darts-dice-coins\n",
    "\n",
    "https://www.bilibili.com/video/av798804262\n",
    "\n",
    "https://www.cnblogs.com/Lee-yl/p/12749070.html"
   ]
  },
  {
   "cell_type": "markdown",
   "metadata": {},
   "source": [
    "![](alias-sampling.png)"
   ]
  },
  {
   "cell_type": "code",
   "execution_count": 10,
   "metadata": {},
   "outputs": [],
   "source": [
    "def alias_setup(probs):\n",
    "    '''\n",
    "    Compute utility lists for non-uniform sampling from discrete distributions.\n",
    "    Refer to https://hips.seas.harvard.edu/blog/2013/03/03/the-alias-method-efficient-sampling-with-many-discrete-outcomes/\n",
    "    for details\n",
    "    '''\n",
    "    K = len(probs)\n",
    "    # q corrsespond to Prob\n",
    "    q = np.zeros(K)\n",
    "\n",
    "    # J Alias\n",
    "    J = np.zeros(K, dtype=np.int)\n",
    "\n",
    "\n",
    "    smaller = []\n",
    "    larger = []\n",
    "    \n",
    "    # 将各个概率分成两组，一组的概率值大于1，另一组的概率值小于1\n",
    "    for kk, prob in enumerate(probs):\n",
    "        q[kk] = K*prob # 每类事件的概率 乘 事件个数\n",
    "        \n",
    "        # 判定”劫富”和“济贫“的对象\n",
    "        if q[kk] < 1.0:\n",
    "            smaller.append(kk)\n",
    "        else:\n",
    "            larger.append(kk)\n",
    "    \n",
    "    # 使用贪心算法，将概率值小于1的不断填满\n",
    "    # pseudo code step 3\n",
    "    while len(smaller) > 0 and len(larger) > 0:\n",
    "        small = smaller.pop()\n",
    "        large = larger.pop()\n",
    "\n",
    "        J[small] = large\n",
    "        # 更新概率值，劫富济贫，削峰填谷\n",
    "        q[large] = q[large] - (1 - q[small])\n",
    "\n",
    "        if q[large] < 1.0:\n",
    "            smaller.append(large) # 把被打倒的土豪归为贫农\n",
    "        else:\n",
    "            larger.append(large)\n",
    "    \n",
    "\n",
    "    return J, q"
   ]
  },
  {
   "cell_type": "code",
   "execution_count": 11,
   "metadata": {},
   "outputs": [],
   "source": [
    "def alias_draw(J, q):\n",
    "    '''\n",
    "    Draw sample from a non-uniform discrete distribution using alias sampling.\n",
    "    O(1)的采样\n",
    "    '''\n",
    "    K = len(J) # 事件个数\n",
    "\n",
    "    kk = int(np.floor(np.random.rand()*K)) # 生成1到K的随机整数\n",
    "    if np.random.rand() < q[kk]:\n",
    "        return kk # 取自己本来就对应的事件 \n",
    "    else:\n",
    "        return J[kk] # 取alias事件"
   ]
  },
  {
   "cell_type": "code",
   "execution_count": 12,
   "metadata": {},
   "outputs": [],
   "source": [
    "def get_alias_edge(src, dst):\n",
    "    p = args.p\n",
    "    q = args.q\n",
    "\n",
    "    unnormalized_probs = []\n",
    "    \n",
    "    # 论文3.2.2节核心算法，计算各条边的转移权重\n",
    "    for dst_nbr in sorted(G.neighbors(dst)):\n",
    "        if dst_nbr == src:\n",
    "            unnormalized_probs.append(G[dst][dst_nbr]['weight']/p)\n",
    "        elif G.has_edge(dst_nbr, src):\n",
    "            unnormalized_probs.append(G[dst][dst_nbr]['weight'])\n",
    "        else:\n",
    "            unnormalized_probs.append(G[dst][dst_nbr]['weight']/q)\n",
    "\n",
    "    # 归一化各条边的转移权重\n",
    "    norm_const = sum(unnormalized_probs)\n",
    "    normalized_probs =  [float(u_prob)/norm_const for u_prob in unnormalized_probs]\n",
    "    \n",
    "    # 执行 Alias Sampling\n",
    "    return alias_setup(normalized_probs)"
   ]
  },
  {
   "cell_type": "code",
   "execution_count": 13,
   "metadata": {},
   "outputs": [
    {
     "data": {
      "text/plain": [
       "(array([1, 0]), array([0.65471754, 1.        ]))"
      ]
     },
     "execution_count": 13,
     "metadata": {},
     "output_type": "execute_result"
    }
   ],
   "source": [
    "get_alias_edge(15, 16)"
   ]
  },
  {
   "cell_type": "code",
   "execution_count": 14,
   "metadata": {
    "scrolled": true
   },
   "outputs": [
    {
     "name": "stdout",
     "output_type": "stream",
     "text": [
      "25号节点\n",
      "[0.22021422811530975, 1.8401940601421136, 0.3552982601622395]\n",
      "2.415706548419663\n",
      "[0.09115934559989176, 0.7617622518537919, 0.14707840254631627]\n",
      "(array([1, 0, 1]), array([0.27347804, 1.        , 0.44123521]))\n"
     ]
    }
   ],
   "source": [
    "is_directed = args.directed\n",
    "alias_nodes = {}\n",
    "\n",
    "# 节点概率alias sampling和归一化\n",
    "for node in G.nodes():\n",
    "    unnormalized_probs = [G[node][nbr]['weight'] for nbr in sorted(G.neighbors(node))]\n",
    "    norm_const = sum(unnormalized_probs)\n",
    "    normalized_probs =  [float(u_prob)/norm_const for u_prob in unnormalized_probs]\n",
    "    alias_nodes[node] = alias_setup(normalized_probs)\n",
    "    # 信息展示\n",
    "    if node == 25:\n",
    "        print('25号节点')\n",
    "        print(unnormalized_probs)\n",
    "        print(norm_const)\n",
    "        print(normalized_probs)\n",
    "        print(alias_nodes[node])"
   ]
  },
  {
   "cell_type": "code",
   "execution_count": 15,
   "metadata": {},
   "outputs": [],
   "source": [
    "alias_edges = {}\n",
    "triads = {}\n",
    "\n",
    "# 边概率alias sampling和归一化\n",
    "if is_directed:\n",
    "    for edge in G.edges():\n",
    "        alias_edges[edge] = get_alias_edge(edge[0], edge[1])\n",
    "else:\n",
    "    for edge in G.edges():\n",
    "        alias_edges[edge] = get_alias_edge(edge[0], edge[1])\n",
    "        alias_edges[(edge[1], edge[0])] = get_alias_edge(edge[1], edge[0])"
   ]
  },
  {
   "cell_type": "code",
   "execution_count": 16,
   "metadata": {},
   "outputs": [
    {
     "data": {
      "text/plain": [
       "{1: (array([ 0,  0,  1,  2,  1,  3,  2,  3,  5,  5,  9,  9, 10, 10, 10, 13]),\n",
       "  array([1.        , 0.55688688, 0.68981526, 0.79986941, 0.55215939,\n",
       "         0.71566902, 0.32672535, 0.3921261 , 0.5898152 , 0.94611159,\n",
       "         0.88266577, 0.14058341, 0.42821645, 0.84756468, 0.44350713,\n",
       "         0.06357989])),\n",
       " 32: (array([2, 3, 0, 2, 3, 3]),\n",
       "  array([0.08177902, 0.54861266, 1.        , 0.92079355, 0.73178282,\n",
       "         0.93025478])),\n",
       " 22: (array([1, 0]), array([0.56400029, 1.        ])),\n",
       " 20: (array([0, 0, 1]), array([1.        , 0.72221949, 0.35920155])),\n",
       " 18: (array([1, 0]), array([0.92557241, 1.        ])),\n",
       " 14: (array([3, 0, 4, 1, 3]),\n",
       "  array([0.1029531 , 1.        , 0.18380878, 0.95945298, 0.84250552])),\n",
       " 13: (array([0, 0]), array([1.        , 0.35849305])),\n",
       " 12: (array([0]), array([1.])),\n",
       " 11: (array([0, 0, 1]), array([1.        , 0.97680978, 0.48232317])),\n",
       " 9: (array([1, 0, 3, 1]),\n",
       "  array([0.48479023, 1.        , 0.49091589, 0.72457177])),\n",
       " 8: (array([3, 0, 3, 1]),\n",
       "  array([0.45815627, 1.        , 0.63865289, 0.54467088])),\n",
       " 7: (array([0, 3, 0, 2]),\n",
       "  array([1.        , 0.03178194, 0.59667857, 0.05226075])),\n",
       " 6: (array([1, 0, 3, 1]),\n",
       "  array([0.68711467, 1.        , 0.34598915, 0.69718975])),\n",
       " 5: (array([0, 2, 0]), array([1.        , 0.03106447, 0.03268939])),\n",
       " 4: (array([1, 0, 1, 1, 5, 1]),\n",
       "  array([0.85847987, 1.        , 0.50777483, 0.56703016, 0.25946585,\n",
       "         0.76976417])),\n",
       " 3: (array([0, 2, 0, 4, 2, 7, 8, 4, 7, 8]),\n",
       "  array([1.        , 0.35187435, 0.40536371, 0.55233041, 0.93217814,\n",
       "         0.07612736, 0.30438675, 0.62336225, 0.68373588, 0.86597196])),\n",
       " 2: (array([0, 2, 0, 2, 2, 2, 2, 6, 6]),\n",
       "  array([1.        , 0.20215044, 0.99456888, 0.72307337, 0.98993864,\n",
       "         0.34632357, 0.81905435, 0.78673339, 0.70648924])),\n",
       " 31: (array([0, 2, 0]), array([1.        , 0.25782314, 0.7401674 ])),\n",
       " 10: (array([1, 0]), array([0.127376, 1.      ])),\n",
       " 33: (array([0, 5, 6, 6, 0, 4, 5, 8, 6, 8, 8, 8]),\n",
       "  array([1.        , 0.60157154, 0.37047078, 0.91553734, 0.91819932,\n",
       "         0.62320299, 0.68944493, 0.6504628 , 0.74583449, 0.31439161,\n",
       "         0.86192284, 0.70795797])),\n",
       " 29: (array([2, 2, 0]), array([0.80394795, 0.8565565 , 1.        ])),\n",
       " 28: (array([1, 0, 1, 2]),\n",
       "  array([0.824135  , 1.        , 0.99843616, 0.81362724])),\n",
       " 17: (array([0, 0]), array([1.        , 0.88274038])),\n",
       " 34: (array([ 2,  2,  0,  2,  3,  2,  2,  2,  3,  3,  3,  4, 11, 11, 12, 12, 14]),\n",
       "  array([0.88656004, 0.81993812, 1.        , 0.9361931 , 0.99036341,\n",
       "         0.96211356, 0.44556936, 0.93727433, 0.57670917, 0.27939028,\n",
       "         0.94296154, 0.88712467, 0.96512294, 0.57417632, 0.47524872,\n",
       "         0.64257233, 0.41518477])),\n",
       " 15: (array([1, 0]), array([0.18380799, 1.        ])),\n",
       " 16: (array([1, 0]), array([0.65471754, 1.        ])),\n",
       " 19: (array([1, 0]), array([0.88228309, 1.        ])),\n",
       " 21: (array([1, 0]), array([0.90922049, 1.        ])),\n",
       " 23: (array([0, 0]), array([1.        , 0.74470942])),\n",
       " 24: (array([1, 0, 1, 2, 2]),\n",
       "  array([0.2938816 , 1.        , 0.89901083, 0.35342525, 0.25885256])),\n",
       " 30: (array([0, 0, 0, 2]),\n",
       "  array([1.        , 0.39632331, 0.5538107 , 0.47686611])),\n",
       " 26: (array([2, 2, 0]), array([0.49259667, 0.36475267, 1.        ])),\n",
       " 25: (array([1, 0, 1]), array([0.27347804, 1.        , 0.44123521])),\n",
       " 27: (array([1, 0]), array([0.67203416, 1.        ]))}"
      ]
     },
     "execution_count": 16,
     "metadata": {},
     "output_type": "execute_result"
    }
   ],
   "source": [
    "# 每个节点的 J表 和 q表 （不考虑p、q值）\n",
    "alias_nodes"
   ]
  },
  {
   "cell_type": "code",
   "execution_count": 17,
   "metadata": {},
   "outputs": [
    {
     "data": {
      "text/plain": [
       "{(1, 32): (array([2, 3, 0, 2, 3, 3]),\n",
       "  array([0.16135875, 0.5412357 , 1.        , 0.86807235, 0.72194285,\n",
       "         0.91774605])),\n",
       " (32,\n",
       "  1): (array([ 0,  0,  1,  2,  1,  3,  2,  3,  5,  5,  9,  9, 10, 10, 10, 13]), array([1.        , 0.56259874, 0.70291702, 0.8204516 , 0.54997393,\n",
       "         0.74450052, 0.32543217, 0.39057406, 0.58748071, 0.98194702,\n",
       "         0.92666835, 0.14002698, 0.42652156, 0.90358023, 0.44175172,\n",
       "         0.12665648])),\n",
       " (1, 22): (array([1, 0]), array([0.56400029, 1.        ])),\n",
       " (22,\n",
       "  1): (array([ 0,  0,  1,  2,  0,  3,  0,  2,  3,  5,  9,  9, 10, 10, 10, 13]), array([1.        , 0.6320202 , 0.45580046, 0.70669722, 0.49391948,\n",
       "         0.66549372, 0.29226347, 0.35076596, 0.52760349, 0.61018671,\n",
       "         0.76438619, 0.12575514, 0.38304962, 0.6526898 , 0.79345499,\n",
       "         0.0568737 ])),\n",
       " (1, 20): (array([0, 0, 1]), array([1.        , 0.64085145, 0.19103761])),\n",
       " (20,\n",
       "  1): (array([ 0,  0,  1,  2,  0,  0,  0,  3,  9,  3,  9, 10, 13, 10, 13, 13]), array([1.        , 0.88509655, 0.79088068, 0.49003288, 0.45948433,\n",
       "         0.98173296, 0.2718874 , 0.32631121, 0.49081995, 0.75564705,\n",
       "         0.6647001 , 0.11698773, 0.35634411, 0.74743858, 0.36906839,\n",
       "         0.05290857])),\n",
       " (1, 18): (array([1, 0]), array([0.92557241, 1.        ])),\n",
       " (18,\n",
       "  1): (array([ 0,  0,  1,  2,  0,  3,  0,  2,  3,  5,  9,  9,  9, 10, 10, 13]), array([1.        , 0.62913856, 0.45191245, 0.70131268, 0.49434208,\n",
       "         0.65836273, 0.29251353, 0.35106608, 0.52805491, 0.6021528 ,\n",
       "         0.98801829, 0.12586274, 0.76675472, 0.65410384, 0.39706693,\n",
       "         0.05692236])),\n",
       " (1, 14): (array([3, 0, 3, 1, 3]),\n",
       "  array([0.12342568, 1.        , 0.22035978, 0.75253663, 0.99426714])),\n",
       " (14,\n",
       "  1): (array([ 0,  0,  1,  2,  0,  0,  1,  1,  2,  3,  9,  2,  3, 10, 10, 13]), array([1.        , 0.38888367, 0.77040738, 0.64464734, 0.43175759,\n",
       "         0.92249209, 0.25548086, 0.30662056, 0.46120233, 0.98669921,\n",
       "         0.48312892, 0.21985664, 0.33484118, 0.4446917 , 0.34679764,\n",
       "         0.0497159 ])),\n",
       " (1, 13): (array([0, 0]), array([1.        , 0.35849305])),\n",
       " (13,\n",
       "  1): (array([ 0,  0,  1,  2,  2,  2,  2,  3,  9,  3,  9, 10, 10, 10, 10, 13]), array([1.        , 0.82950877, 0.7629997 , 0.55745512, 0.44784966,\n",
       "         0.95687435, 0.2650029 , 0.31804863, 0.47839183, 0.86698593,\n",
       "         0.82898415, 0.11402546, 0.34732107, 0.49853689, 0.35972315,\n",
       "         0.05156887])),\n",
       " (1, 12): (array([0]), array([1.])),\n",
       " (12,\n",
       "  1): (array([ 0,  0,  1,  2,  2,  3,  3,  9,  9,  5,  9,  9,  9, 10, 10, 13]), array([1.        , 0.71171192, 0.53787064, 0.64944025, 0.49292072,\n",
       "         0.84722844, 0.29167248, 0.35005667, 0.52653661, 0.79405539,\n",
       "         0.97655172, 0.12550085, 0.38227505, 0.64934786, 0.39592526,\n",
       "         0.05675869])),\n",
       " (1, 11): (array([0, 0, 1]), array([1.        , 0.97680978, 0.48232317])),\n",
       " (11,\n",
       "  1): (array([ 0,  0,  1,  2,  0,  3,  3,  3,  5,  8,  9,  3,  9, 10, 10, 13]), array([1.        , 0.83589229, 0.71884115, 0.39084588, 0.93814668,\n",
       "         0.78581462, 0.27756144, 0.33312102, 0.78359381, 0.781468  ,\n",
       "         0.78416716, 0.11942915, 0.36378068, 0.56955284, 0.3767705 ,\n",
       "         0.05401272])),\n",
       " (1, 9): (array([1, 0, 1, 1]),\n",
       "  array([0.61801708, 1.        , 0.31291308, 0.78634052])),\n",
       " (9,\n",
       "  1): (array([ 0,  0,  1,  2,  1,  3,  1,  1,  2,  5,  9,  9, 10, 10, 10, 13]), array([1.        , 0.69600949, 0.81690892, 0.87143557, 0.49892873,\n",
       "         0.34248488, 0.29522756, 0.70864675, 0.53295436, 0.27647511,\n",
       "         0.41195478, 0.12703053, 0.38693445, 0.66945111, 0.40075104,\n",
       "         0.0574505 ])),\n",
       " (1, 8): (array([3, 0, 3, 1]),\n",
       "  array([0.45815627, 1.        , 0.63865289, 0.54467088])),\n",
       " (8,\n",
       "  1): (array([ 0,  0,  1,  2,  0,  0,  0,  1,  2,  3,  9,  2,  3, 10, 10, 13]), array([1.        , 0.91508259, 0.57338961, 0.58474569, 0.42786529,\n",
       "         0.91417581, 0.50635538, 0.30385637, 0.45704458, 0.941744  ,\n",
       "         0.45172843, 0.10893731, 0.33182258, 0.43166777, 0.34367125,\n",
       "         0.04926771])),\n",
       " (1, 7): (array([0, 2, 0, 2]),\n",
       "  array([1.        , 0.0364288 , 0.39149833, 0.58484173])),\n",
       " (7,\n",
       "  1): (array([ 0,  0,  1,  2,  0,  3,  3,  3,  3,  5,  9,  5,  9, 10, 10, 13]), array([1.        , 0.90161857, 0.81849347, 0.53083084, 0.90965415,\n",
       "         0.66524514, 0.2691316 , 0.32300378, 0.48584509, 0.6058786 ,\n",
       "         0.66923794, 0.11580196, 0.35273227, 0.52188383, 0.36532758,\n",
       "         0.0523723 ])),\n",
       " (1, 6): (array([1, 0, 1, 1]),\n",
       "  array([0.82675338, 1.        , 0.4163027 , 0.81289901])),\n",
       " (6,\n",
       "  1): (array([ 0,  0,  1,  2,  0,  3,  2,  5,  5,  8,  9,  5,  9, 10, 10, 13]), array([1.        , 0.77537713, 0.62708977, 0.97663671, 0.96438017,\n",
       "         0.49898105, 0.28532291, 0.34243612, 0.97328414, 0.94313579,\n",
       "         0.88998422, 0.12276876, 0.37395312, 0.6134424 , 0.38730617,\n",
       "         0.05552309])),\n",
       " (1, 5): (array([0, 2, 0]), array([1.        , 0.03106447, 0.03268939])),\n",
       " (5,\n",
       "  1): (array([ 0,  0,  1,  2,  2,  3,  3,  3,  3,  5,  9,  5,  9, 10, 10, 13]), array([1.        , 0.81357276, 0.73254338, 0.99342517, 0.45394704,\n",
       "         0.65041385, 0.26861086, 0.3223788 , 0.96981007, 0.59503193,\n",
       "         0.66213842, 0.1155779 , 0.35204978, 0.51893918, 0.36462071,\n",
       "         0.05227097])),\n",
       " (1, 4): (array([1, 0, 1, 1, 5, 1]),\n",
       "  array([0.85847987, 1.        , 0.50777483, 0.56703016, 0.25946585,\n",
       "         0.76976417])),\n",
       " (4,\n",
       "  1): (array([ 0,  0,  1,  2,  0,  0,  1,  2,  2,  3,  9,  9, 10, 10, 10, 13]), array([1.        , 0.78066119, 0.4918603 , 0.62786975, 0.38491531,\n",
       "         0.82240901, 0.45552641, 0.27335466, 0.41116553, 0.44830942,\n",
       "         0.91186067, 0.19600393, 0.29851357, 0.28795409, 0.30917284,\n",
       "         0.04432212])),\n",
       " (1, 3): (array([0, 0, 0, 0, 2, 4, 4, 4, 4, 7]),\n",
       "  array([1.        , 0.44879001, 0.81291098, 0.70445704, 0.38276052,\n",
       "         0.04854744, 0.38822304, 0.74062031, 0.96510095, 0.55224196])),\n",
       " (3,\n",
       "  1): (array([ 0,  0,  1,  2,  0,  0,  1,  1,  1,  3,  9,  2,  3, 10, 10, 13]), array([1.        , 0.5114414 , 0.9932598 , 0.41913456, 0.41710417,\n",
       "         0.89118362, 0.49362017, 0.59242832, 0.44554957, 0.81745555,\n",
       "         0.36491495, 0.21239492, 0.323477  , 0.39566028, 0.33502767,\n",
       "         0.04802859])),\n",
       " (1, 2): (array([0, 2, 0, 2, 2, 2, 4, 2, 6]),\n",
       "  array([1.        , 0.21040886, 0.95349415, 0.75261298, 0.77805186,\n",
       "         0.36047187, 0.7476714 , 0.81887369, 0.36767567])),\n",
       " (2,\n",
       "  1): (array([ 0,  0,  1,  2,  0,  0,  1,  2,  2,  3,  9, 10, 13, 10, 13, 13]), array([1.        , 0.84826749, 0.60753154, 0.80368495, 0.37683207,\n",
       "         0.80513837, 0.44596033, 0.2676142 , 0.40253103, 0.64889546,\n",
       "         0.33660006, 0.19188784, 0.58448953, 0.66827252, 0.60536039,\n",
       "         0.04339135])),\n",
       " (32,\n",
       "  34): (array([ 2,  2,  0,  2,  2,  3,  3, 11, 12, 12, 12,  3, 11, 12, 12, 12, 15]), array([0.75717036, 0.70027163, 1.        , 0.88167498, 0.94222572,\n",
       "         0.82169717, 0.3805404 , 0.80048312, 0.49254091, 0.23861445,\n",
       "         0.8053403 , 0.84598051, 0.89438138, 0.49037772, 0.90535211,\n",
       "         0.80676387, 0.70918062])),\n",
       " (34, 32): (array([3, 5, 0, 2, 5, 3]),\n",
       "  array([0.05235432, 0.35121771, 1.        , 0.72126192, 0.93696376,\n",
       "         0.47926575])),\n",
       " (32, 33): (array([ 4,  6,  8,  8,  0,  4,  5, 10,  6, 11,  8, 10]),\n",
       "  array([0.95664865, 0.53197656, 0.32761152, 0.80962009, 1.        ,\n",
       "         0.89817136, 0.72010366, 0.57521166, 0.72229051, 0.27802008,\n",
       "         0.62975866, 0.53013066])),\n",
       " (33, 32): (array([4, 5, 0, 2, 3, 4]),\n",
       "  array([0.06403964, 0.42960843, 1.        , 0.4358515 , 0.0966699 ,\n",
       "         0.88653907])),\n",
       " (32, 29): (array([2, 2, 0]), array([0.46416853, 0.98908536, 1.        ])),\n",
       " (29, 32): (array([3, 3, 0, 2, 5, 3]),\n",
       "  array([0.05678837, 0.38096346, 1.        , 0.61296152, 0.5081591 ,\n",
       "         0.8001201 ])),\n",
       " (32, 26): (array([2, 2, 0]), array([0.2683279 , 0.39737711, 1.        ])),\n",
       " (26, 32): (array([2, 2, 0, 2, 2, 3]),\n",
       "  array([0.05741538, 0.77033946, 1.        , 0.8537695 , 0.51376975,\n",
       "         0.65311286])),\n",
       " (32, 25): (array([1, 0, 1]), array([0.44172137, 1.        , 0.71268253])),\n",
       " (25, 32): (array([2, 2, 0, 2, 2, 3]),\n",
       "  array([0.05741538, 0.77033946, 1.        , 0.8537695 , 0.51376975,\n",
       "         0.65311286])),\n",
       " (22, 2): (array([0, 2, 0, 2, 2, 6, 2, 6, 7]),\n",
       "  array([1.        , 0.16858101, 0.32306483, 0.60299862, 0.82554781,\n",
       "         0.28881251, 0.29581723, 0.90134278, 0.58916848])),\n",
       " (2, 22): (array([1, 0]), array([0.56400029, 1.        ])),\n",
       " (20,\n",
       "  34): (array([ 2,  2,  0,  2,  3,  2,  2,  2,  3,  3,  3,  4, 11, 11, 12, 12, 14]), array([0.86391681, 0.79899645, 1.        , 0.65687676, 0.81182572,\n",
       "         0.93754066, 0.86837855, 0.91333584, 0.5619797 , 0.2722545 ,\n",
       "         0.91887779, 0.73676429, 0.86385153, 0.55951154, 0.43757006,\n",
       "         0.62616069, 0.40458072])),\n",
       " (34, 20): (array([0, 0, 1]), array([1.        , 0.85885337, 0.6415838 ])),\n",
       " (20, 2): (array([0, 2, 0, 2, 2, 6, 2, 6, 6]),\n",
       "  array([1.        , 0.16056056, 0.40284702, 0.57431024, 0.78627139,\n",
       "         0.27507191, 0.56720052, 0.62487302, 0.56113808])),\n",
       " (2, 20): (array([0, 0, 1]), array([1.        , 0.64085145, 0.19103761])),\n",
       " (18, 2): (array([0, 2, 0, 2, 2, 2, 2, 2, 6]),\n",
       "  array([1.        , 0.17575319, 0.25172053, 0.62865287, 0.8606703 ,\n",
       "         0.60219976, 0.76693606, 0.68400003, 0.61423433])),\n",
       " (2, 18): (array([1, 0]), array([0.92557241, 1.        ])),\n",
       " (14,\n",
       "  34): (array([ 2,  2,  0,  2,  2,  2,  2,  2,  2,  3,  3,  3, 11,  3,  3, 12, 12]), array([0.7927226 , 0.73315224, 1.        , 0.2765232 , 0.98646707,\n",
       "         0.8602792 , 0.39840833, 0.83806907, 0.51566772, 0.24981838,\n",
       "         0.84315432, 0.80274028, 0.59757468, 0.51340296, 0.94786209,\n",
       "         0.57455963, 0.37123977])),\n",
       " (34, 14): (array([4, 4, 4, 0, 3]),\n",
       "  array([0.07730725, 0.78134436, 0.13802159, 1.        , 0.4876963 ])),\n",
       " (14, 4): (array([1, 0, 1, 1, 5, 1]),\n",
       "  array([0.92198101, 1.        , 0.54533457, 0.30448649, 0.13932918,\n",
       "         0.76134317])),\n",
       " (4, 14): (array([3, 0, 3, 1, 3]),\n",
       "  array([0.12342568, 1.        , 0.22035978, 0.75253663, 0.99426714])),\n",
       " (14, 3): (array([0, 0, 0, 0, 2, 2, 7, 4, 7, 8]),\n",
       "  array([1.        , 0.52627709, 0.67567878, 0.41304352, 0.94167217,\n",
       "         0.05692953, 0.45525276, 0.62813786, 0.77932397, 0.64759083])),\n",
       " (3, 14): (array([3, 0, 3, 1, 3]),\n",
       "  array([0.12342568, 1.        , 0.22035978, 0.75253663, 0.99426714])),\n",
       " (14, 2): (array([0, 2, 0, 2, 2, 2, 2, 2, 4]),\n",
       "  array([1.        , 0.25785319, 0.71752133, 0.46115848, 0.71329874,\n",
       "         0.22087668, 0.84558299, 0.50175928, 0.45058152])),\n",
       " (2, 14): (array([3, 0, 3, 1, 3]),\n",
       "  array([0.12342568, 1.        , 0.22035978, 0.75253663, 0.99426714])),\n",
       " (13, 4): (array([0, 0, 1, 1, 5, 1]),\n",
       "  array([1.        , 0.55270624, 0.42802363, 0.47797231, 0.43742821,\n",
       "         0.71051882])),\n",
       " (4, 13): (array([0, 0]), array([1.        , 0.35849305])),\n",
       " (11, 6): (array([0, 0, 3, 1]),\n",
       "  array([1.        , 0.90784741, 0.5499416 , 0.62379237])),\n",
       " (6, 11): (array([0, 0, 0]), array([1.        , 0.99510521, 0.6423106 ])),\n",
       " (11, 5): (array([0, 2, 0]), array([1.        , 0.01561307, 0.0224508 ])),\n",
       " (5, 11): (array([0, 0, 1]), array([1.        , 0.88736845, 0.26224253])),\n",
       " (9,\n",
       "  34): (array([ 0,  0,  0,  2,  3,  0,  2,  2,  3,  3,  3,  4, 11, 12, 12, 12, 12]), array([1.        , 0.76161853, 0.69769629, 0.54399052, 0.87881513,\n",
       "         0.89368149, 0.41387743, 0.870609  , 0.53568968, 0.25951814,\n",
       "         0.87589169, 0.85404624, 0.60208736, 0.53333699, 0.98466498,\n",
       "         0.59686821, 0.77130799])),\n",
       " (34, 9): (array([3, 0, 3, 1]),\n",
       "  array([0.3387434 , 1.        , 0.68604733, 0.74880562])),\n",
       " (9, 33): (array([ 0,  0,  0,  5,  1,  4,  5,  8,  6,  8, 11,  8]),\n",
       "  array([1.        , 0.88700104, 0.30891164, 0.76340741, 0.8837778 ,\n",
       "         0.80396407, 0.92973243, 0.54237888, 0.547565  , 0.26215084,\n",
       "         0.71870174, 0.89934252])),\n",
       " (33, 9): (array([1, 0, 3, 1]),\n",
       "  array([0.25803151, 1.        , 0.52258384, 0.83582023])),\n",
       " (9, 3): (array([0, 0, 0, 4, 0, 4, 9, 4, 7, 8]),\n",
       "  array([1.        , 0.2475009 , 0.78870636, 0.38849741, 0.72052654,\n",
       "         0.05354636, 0.21409913, 0.80753405, 0.49678866, 0.43231149])),\n",
       " (3, 9): (array([1, 0, 1, 1]),\n",
       "  array([0.57317833, 1.        , 0.58042084, 0.72928947])),\n",
       " (8, 4): (array([0, 0, 1, 1, 1, 1]),\n",
       "  array([1.        , 0.9930087 , 0.59561657, 0.66512269, 0.15217588,\n",
       "         0.88578505])),\n",
       " (4, 8): (array([3, 0, 3, 1]),\n",
       "  array([0.45815627, 1.        , 0.63865289, 0.54467088])),\n",
       " (8, 3): (array([0, 0, 0, 0, 2, 2, 7, 4, 7, 8]),\n",
       "  array([1.        , 0.51669665, 0.33067091, 0.8110488 , 0.62823046,\n",
       "         0.05589318, 0.22348263, 0.33860797, 0.74693284, 0.63580197])),\n",
       " (3, 8): (array([3, 0, 3, 1]),\n",
       "  array([0.45815627, 1.        , 0.63865289, 0.54467088])),\n",
       " (8, 2): (array([0, 2, 0, 2, 2, 2, 2, 2, 2]),\n",
       "  array([1.        , 0.26282348, 0.69280072, 0.94009522, 0.64352846,\n",
       "         0.22513423, 0.86188215, 0.51143101, 0.45926678])),\n",
       " (2, 8): (array([3, 0, 3, 1]),\n",
       "  array([0.45815627, 1.        , 0.63865289, 0.54467088])),\n",
       " (7, 17): (array([0, 0]), array([1.        , 0.88274038])),\n",
       " (17, 7): (array([2, 3, 0, 2]),\n",
       "  array([0.85504556, 0.01936478, 1.        , 0.26292289])),\n",
       " (7, 6): (array([1, 0, 3, 1]),\n",
       "  array([0.71817476, 1.        , 0.18081456, 0.59309435])),\n",
       " (6, 7): (array([0, 3, 0, 2]),\n",
       "  array([1.        , 0.01595435, 0.5910813 , 0.04050343])),\n",
       " (7, 5): (array([0, 0, 0]), array([1.        , 0.03728948, 0.60117032])),\n",
       " (5, 7): (array([0, 0, 0, 2]),\n",
       "  array([1.        , 0.04678026, 0.8876525 , 0.75102808])),\n",
       " (6, 17): (array([0, 0]), array([1.        , 0.88274038])),\n",
       " (17, 6): (array([1, 0, 3, 1]),\n",
       "  array([0.39450261, 1.        , 0.19864751, 0.75021432])),\n",
       " (4, 3): (array([0, 0, 0, 0, 2, 2, 7, 4, 7, 8]),\n",
       "  array([1.        , 0.5054018 , 0.41088147, 0.79331949, 0.74565593,\n",
       "         0.05467137, 0.43719472, 0.48422424, 0.70874535, 0.62190351])),\n",
       " (3, 4): (array([1, 0, 1, 1, 5, 1]),\n",
       "  array([0.87745228, 1.        , 0.51899666, 0.57956153, 0.13260002,\n",
       "         0.67627594])),\n",
       " (4, 2): (array([0, 2, 0, 2, 2, 2, 2, 2, 4]),\n",
       "  array([1.        , 0.24528484, 0.78003227, 0.87736112, 0.62978865,\n",
       "         0.21011065, 0.80436734, 0.47730238, 0.42861915])),\n",
       " (2, 4): (array([1, 0, 1, 1, 5, 1]),\n",
       "  array([0.87745228, 1.        , 0.51899666, 0.57956153, 0.13260002,\n",
       "         0.67627594])),\n",
       " (3, 10): (array([1, 0]), array([0.23949881, 1.        ])),\n",
       " (10, 3): (array([0, 2, 0, 4, 2, 7, 8, 4, 7, 8]),\n",
       "  array([1.        , 0.34921587, 0.41741154, 0.54815743, 0.9553562 ,\n",
       "         0.1511044 , 0.30208704, 0.66398393, 0.66345966, 0.85942935])),\n",
       " (3, 33): (array([0, 0, 0, 0, 1, 4, 5, 6, 6, 8, 8, 8]),\n",
       "  array([1.        , 0.9747725 , 0.32489428, 0.80290501, 0.91964394,\n",
       "         0.78396221, 0.61566553, 0.57044079, 0.59154596, 0.27571415,\n",
       "         0.75588633, 0.62086272])),\n",
       " (33, 3): (array([0, 4, 4, 4, 0, 7, 9, 4, 7, 8]),\n",
       "  array([1.        , 0.2787685 , 0.88834621, 0.43757756, 0.73666733,\n",
       "         0.06031104, 0.24114698, 0.34886331, 0.81221613, 0.61326008])),\n",
       " (3, 29): (array([0, 2, 0]), array([1.        , 0.67552699, 0.73192595])),\n",
       " (29, 3): (array([0, 4, 4, 7, 0, 8, 8, 4, 7, 8]),\n",
       "  array([1.        , 0.30562219, 0.97392034, 0.47972928, 0.61497086,\n",
       "         0.06612079, 0.2643766 , 0.80982428, 0.71154383, 0.75214418])),\n",
       " (3, 28): (array([0, 0, 0, 0]),\n",
       "  array([1.        , 0.97628183, 0.98240114, 0.67463057])),\n",
       " (28, 3): (array([0, 4, 4, 7, 0, 7, 8, 4, 7, 8]),\n",
       "  array([1.        , 0.29660251, 0.94517749, 0.46557125, 0.65584657,\n",
       "         0.0641694 , 0.25657417, 0.93348696, 0.26217904, 0.7299465 ])),\n",
       " (3, 2): (array([0, 2, 0, 2, 2, 2, 2, 2, 4]),\n",
       "  array([1.        , 0.24528484, 0.78003227, 0.87736112, 0.62978865,\n",
       "         0.21011065, 0.80436734, 0.47730238, 0.42861915])),\n",
       " (2, 3): (array([0, 0, 0, 0, 2, 2, 7, 4, 7, 8]),\n",
       "  array([1.        , 0.5054018 , 0.41088147, 0.79331949, 0.74565593,\n",
       "         0.05467137, 0.43719472, 0.48422424, 0.70874535, 0.62190351])),\n",
       " (2, 31): (array([0, 2, 0]), array([1.        , 0.18157273, 0.22551816])),\n",
       " (31, 2): (array([2, 2, 0, 2, 2, 8, 2, 8, 6]),\n",
       "  array([0.93225057, 0.18743687, 1.        , 0.67044429, 0.91788571,\n",
       "         0.32111632, 0.59005234, 0.7294708 , 0.3607216 ])),\n",
       " (31,\n",
       "  34): (array([ 2,  2,  0,  2,  3,  2,  3,  3,  3, 12, 12,  4, 11, 14, 12, 14, 14]), array([0.81576821, 0.75446606, 1.        , 0.69281174, 0.91437998,\n",
       "         0.88528879, 0.40999065, 0.86243297, 0.53065894, 0.25708097,\n",
       "         0.86766606, 0.89923485, 0.65903331, 0.52832834, 0.83449146,\n",
       "         0.59126293, 0.76406452])),\n",
       " (34, 31): (array([2, 2, 0]), array([0.79733425, 0.32634688, 1.        ])),\n",
       " (31, 33): (array([ 4,  6,  8,  8,  0,  4,  5,  8,  6, 11, 11,  8]),\n",
       "  array([0.99687143, 0.55434378, 0.34138612, 0.84366097, 1.        ,\n",
       "         0.80979892, 0.58219877, 0.59939672, 0.50038657, 0.57941914,\n",
       "         0.7942556 , 0.67843094])),\n",
       " (33, 31): (array([2, 2, 0]), array([0.79733425, 0.32634688, 1.        ])),\n",
       " (10,\n",
       "  34): (array([ 1,  0,  1,  2,  3,  1,  2,  2,  2,  3,  3,  4, 11, 11, 12, 12, 14]), array([0.84576728, 1.        , 0.67196671, 0.88281921, 0.66872002,\n",
       "         0.91784441, 0.42506765, 0.89414809, 0.5501734 , 0.26653486,\n",
       "         0.89957362, 0.61624394, 0.78267811, 0.54775709, 0.40736898,\n",
       "         0.61300604, 0.39608112])),\n",
       " (34, 10): (array([1, 0]), array([0.06578279, 1.        ])),\n",
       " (33,\n",
       "  34): (array([ 0,  3,  0,  2,  3,  4,  3,  5,  3,  3,  4,  5,  7,  7, 12, 12, 14]), array([1.        , 0.52433496, 0.86612315, 0.57926233, 0.92943908,\n",
       "         0.91543222, 0.2849332 , 0.82301633, 0.73758928, 0.35732963,\n",
       "         0.60300612, 0.86190893, 0.88992795, 0.73434986, 0.88678746,\n",
       "         0.82182578, 0.53100566])),\n",
       " (34, 33): (array([5, 6, 6, 6, 0, 4, 5, 8, 6, 8, 8, 8]),\n",
       "  array([0.56643229, 0.62996733, 0.387958  , 0.95875317, 1.        ,\n",
       "         0.64387637, 0.68237476, 0.68116639, 0.96985065, 0.32923174,\n",
       "         0.90260792, 0.74137549])),\n",
       " (33, 15): (array([1, 0]), array([0.18380799, 1.        ])),\n",
       " (15, 33): (array([ 4,  6,  6,  8,  0,  4,  5,  8,  6, 11, 11,  8]),\n",
       "  array([0.99259693, 0.5519668 , 0.67984456, 0.84004343, 1.        ,\n",
       "         0.81919032, 0.59685401, 0.59682656, 0.84412387, 0.28846732,\n",
       "         0.7908499 , 0.37847874])),\n",
       " (33, 16): (array([1, 0]), array([0.65471754, 1.        ])),\n",
       " (16, 33): (array([ 3,  3,  6,  0,  3,  4,  5,  8,  6, 11, 11,  8]),\n",
       "  array([0.95288382, 0.52988299, 0.32632223, 1.        , 0.90436544,\n",
       "         0.76369225, 0.59026077, 0.57294794, 0.80387067, 0.27692595,\n",
       "         0.75920855, 0.28331746])),\n",
       " (33, 19): (array([1, 0]), array([0.88228309, 1.        ])),\n",
       " (19, 33): (array([ 4,  4,  5,  6,  0,  4,  5,  8,  6,  8, 11,  8]),\n",
       "  array([0.9270621 , 0.51552396, 0.31747939, 0.78458073, 1.        ,\n",
       "         0.33788861, 0.87877597, 0.55742192, 0.673693  , 0.26942167,\n",
       "         0.73863514, 0.95202133])),\n",
       " (33, 21): (array([1, 0]), array([0.90922049, 1.        ])),\n",
       " (21, 33): (array([ 4,  5,  5,  6,  0,  4,  5,  8,  6,  8, 11,  8]),\n",
       "  array([0.92460645, 0.51415842, 0.31663843, 0.7825025 , 1.        ,\n",
       "         0.96857047, 0.86055514, 0.55594539, 0.6613131 , 0.26870801,\n",
       "         0.7366786 , 0.94685072])),\n",
       " (33, 23): (array([0, 0]), array([1.        , 0.74470942])),\n",
       " (23, 33): (array([ 5,  6,  6,  6,  0,  4,  5,  8,  6,  8, 11,  8]),\n",
       "  array([0.90366181, 0.50251144, 0.30946578, 0.76477686, 1.        ,\n",
       "         0.91824923, 0.90177052, 0.54335184, 0.55572273, 0.26262111,\n",
       "         0.719991  , 0.90274969])),\n",
       " (33, 24): (array([2, 0, 1, 2, 2]),\n",
       "  array([0.18602431, 1.        , 0.8561178 , 0.44742976, 0.3277025 ])),\n",
       " (24, 33): (array([ 6,  8,  8,  8,  8,  0,  5,  6,  7,  8, 11,  8]),\n",
       "  array([0.83378346, 0.46365324, 0.28553541, 0.7056382 , 0.99810115,\n",
       "         1.        , 0.973235  , 0.86187665, 0.85920559, 0.24231314,\n",
       "         0.66431554, 0.75561387])),\n",
       " (33, 30): (array([0, 0, 0, 2]),\n",
       "  array([1.        , 0.20849035, 0.63479933, 0.50172161])),\n",
       " (30, 33): (array([ 6,  8,  8,  8,  8,  0,  5,  6,  7,  8, 11,  8]),\n",
       "  array([0.83378346, 0.46365324, 0.28553541, 0.7056382 , 0.99810115,\n",
       "         1.        , 0.973235  , 0.86187665, 0.85920559, 0.24231314,\n",
       "         0.66431554, 0.75561387])),\n",
       " (29,\n",
       "  34): (array([ 2,  2,  0,  2,  2,  2,  3,  3, 12, 12, 12,  3, 11, 12, 12, 12, 15]), array([0.77330005, 0.71518922, 1.        , 0.95474255, 0.96229757,\n",
       "         0.83920144, 0.3886469 , 0.81753548, 0.50303331, 0.24369756,\n",
       "         0.82249614, 0.8760459 , 0.70040814, 0.50082404, 0.92463845,\n",
       "         0.48310862, 0.362144  ])),\n",
       " (34, 29): (array([2, 2, 0]), array([0.46416853, 0.98908536, 1.        ])),\n",
       " (28,\n",
       "  34): (array([ 2,  2,  0,  2,  3,  2,  3,  3,  3, 11, 11,  4, 11, 11, 11, 12, 12]), array([0.80911291, 0.74831087, 1.        , 0.7279512 , 0.98034514,\n",
       "         0.87806631, 0.40664581, 0.85539696, 0.52632965, 0.50996723,\n",
       "         0.86058735, 0.9734819 , 0.65128206, 0.52401806, 0.96746006,\n",
       "         0.58643921, 0.37891551])),\n",
       " (34, 28): (array([1, 0, 3, 1]),\n",
       "  array([0.55024356, 1.        , 0.7910518 , 0.87750765])),\n",
       " (28, 24): (array([1, 0, 1, 1, 2]),\n",
       "  array([0.20795589, 1.        , 0.98447068, 0.25009004, 0.36633742])),\n",
       " (24, 28): (array([1, 0, 3, 1]),\n",
       "  array([0.55024356, 1.        , 0.7910518 , 0.87750765])),\n",
       " (28, 25): (array([1, 0, 1]), array([0.15522982, 1.        , 0.25045105])),\n",
       " (25, 28): (array([2, 2, 0, 2]),\n",
       "  array([0.63580742, 0.90836816, 1.        , 0.62770085])),\n",
       " (34, 15): (array([1, 0]), array([0.18380799, 1.        ])),\n",
       " (15,\n",
       "  34): (array([ 2,  2,  0,  2,  2,  2,  3,  3,  3,  3,  3,  3, 11,  3, 11, 12, 12]), array([0.77045069, 0.71255399, 1.        , 0.97333264, 0.95875183,\n",
       "         0.83610927, 0.38721486, 0.81452314, 0.5011798 , 0.24279962,\n",
       "         0.81946551, 0.97794165, 0.88540426, 0.49897867, 0.92123147,\n",
       "         0.55841712, 0.72161924])),\n",
       " (34, 16): (array([1, 0]), array([0.65471754, 1.        ])),\n",
       " (16,\n",
       "  34): (array([ 2,  2,  0,  2,  3,  2,  3,  3,  3,  4,  4,  4, 11, 12, 12, 12, 12]), array([0.81386629, 0.75270706, 1.        , 0.70285373, 0.9332312 ,\n",
       "         0.88322478, 0.40903477, 0.86042225, 0.52942174, 0.25648159,\n",
       "         0.86564314, 0.78554975, 0.54823967, 0.52709657, 0.9731437 ,\n",
       "         0.58988443, 0.76228314])),\n",
       " (34, 19): (array([1, 0]), array([0.88228309, 1.        ])),\n",
       " (19,\n",
       "  34): (array([ 2,  2,  0,  2,  3,  4,  3,  3,  3,  5,  5,  5, 11, 12, 12, 12, 12]), array([0.82011623, 0.75848733, 1.        , 0.55986192, 0.76129124,\n",
       "         0.74073543, 0.41217588, 0.86702971, 0.53348733, 0.2584512 ,\n",
       "         0.87229069, 0.82997884, 0.58316706, 0.53114431, 0.98061678,\n",
       "         0.59441434, 0.76813696])),\n",
       " (34, 21): (array([1, 0]), array([0.90922049, 1.        ])),\n",
       " (21,\n",
       "  34): (array([ 2,  2,  0,  2,  3,  2,  3,  4,  3,  7,  7,  7, 11, 12, 12, 12, 12]), array([0.82122622, 0.75951391, 1.        , 0.66399391, 0.72848524,\n",
       "         0.89121193, 0.41273374, 0.70654815, 0.53420939, 0.258801  ,\n",
       "         0.8734713 , 0.83786946, 0.58937017, 0.53186319, 0.981944  ,\n",
       "         0.59521885, 0.7691766 ])),\n",
       " (34, 23): (array([0, 0]), array([1.        , 0.74470942])),\n",
       " (23,\n",
       "  34): (array([ 2,  2,  0,  2,  3,  2,  3,  3,  4,  3,  8,  8, 11, 12, 12, 12, 14]), array([0.83768394, 0.77473489, 1.        , 0.57709851, 0.97808633,\n",
       "         0.9090722 , 0.4210051 , 0.88560236, 0.9356692 , 0.26398748,\n",
       "         0.89097603, 0.95486283, 0.68134309, 0.54252195, 0.7862138 ,\n",
       "         0.60714729, 0.78459122])),\n",
       " (34, 24): (array([1, 0, 1, 2, 2]),\n",
       "  array([0.15138987, 1.        , 0.986787  , 0.36412625, 0.26669009])),\n",
       " (24,\n",
       "  34): (array([ 2,  2,  0,  2,  2,  2,  3,  3, 11, 11, 11,  3, 11, 11, 11, 12, 12]), array([0.76830534, 0.71056985, 1.        , 0.98732964, 0.95608213,\n",
       "         0.83378108, 0.38613665, 0.81225506, 0.49978424, 0.48424706,\n",
       "         0.81718367, 0.92851814, 0.87736971, 0.99517847, 0.91866626,\n",
       "         0.55686218, 0.71960986])),\n",
       " (34, 30): (array([0, 0, 0, 2]),\n",
       "  array([1.        , 0.39632331, 0.5538107 , 0.47686611])),\n",
       " (30,\n",
       "  34): (array([ 2,  2,  0,  2,  2,  2,  3,  3, 10, 11,  3, 10, 11, 12, 11, 12, 13]), array([0.78449645, 0.72554426, 1.        , 0.88169361, 0.97623042,\n",
       "         0.85135202, 0.39427401, 0.82937236, 0.51031659, 0.49445198,\n",
       "         0.75842131, 0.57929504, 0.9541575 , 0.75092544, 0.93802605,\n",
       "         0.56859738, 0.73477478])),\n",
       " (34, 27): (array([1, 0]), array([0.67203416, 1.        ])),\n",
       " (27,\n",
       "  34): (array([ 2,  2,  0,  2,  3,  2,  3,  3,  3, 10,  4, 10, 11, 12, 10, 12, 13]), array([0.8139228 , 0.75275932, 1.        , 0.70255538, 0.93267113,\n",
       "         0.8832861 , 0.40906317, 0.86048199, 0.52945849, 0.2564994 ,\n",
       "         0.91982245, 0.9587053 , 0.72130932, 0.43543436, 0.97321126,\n",
       "         0.58992538, 0.38116803])),\n",
       " (24, 30): (array([0, 0, 0, 2]),\n",
       "  array([1.        , 0.20849035, 0.63479933, 0.50172161])),\n",
       " (30, 24): (array([2, 0, 1, 2, 2]),\n",
       "  array([0.18602431, 1.        , 0.8561178 , 0.44742976, 0.3277025 ])),\n",
       " (24, 26): (array([2, 2, 0]), array([0.84624143, 0.31330786, 1.        ])),\n",
       " (26, 24): (array([1, 0, 1, 2, 2]),\n",
       "  array([0.55513444, 1.        , 0.73807675, 0.3338054 , 0.24448277])),\n",
       " (30, 27): (array([1, 0]), array([0.67203416, 1.        ])),\n",
       " (27, 30): (array([0, 0, 0, 0]),\n",
       "  array([1.        , 0.65061835, 0.88397515, 0.78284027])),\n",
       " (26, 25): (array([1, 0, 1]), array([0.44172137, 1.        , 0.71268253])),\n",
       " (25, 26): (array([2, 2, 0]), array([0.2683279 , 0.39737711, 1.        ]))}"
      ]
     },
     "execution_count": 17,
     "metadata": {},
     "output_type": "execute_result"
    }
   ],
   "source": [
    "# 二阶随机游走（考虑p、q值）\n",
    "alias_edges"
   ]
  },
  {
   "cell_type": "markdown",
   "metadata": {},
   "source": [
    "## 生成一条随机游走序列"
   ]
  },
  {
   "cell_type": "code",
   "execution_count": 18,
   "metadata": {},
   "outputs": [],
   "source": [
    "def node2vec_walk(walk_length, start_node):\n",
    "    '''\n",
    "    从指定的起始节点，生成一个随机游走序列\n",
    "    '''\n",
    "    # 上一步计算出的alias table，完成O(1)的采样\n",
    "\n",
    "    walk = [start_node]\n",
    "\n",
    "    #  直到生成长度为walk_length的节点序列位为止\n",
    "    while len(walk) < walk_length:\n",
    "        cur = walk[-1]\n",
    "        # 对邻居节点排序，目的是和alias table计算时的顺序对应起来\n",
    "        cur_nbrs = sorted(G.neighbors(cur))\n",
    "        if len(cur_nbrs) > 0:\n",
    "            # 节点序列只有一个节点的情况\n",
    "            if len(walk) == 1:\n",
    "                walk.append(cur_nbrs[alias_draw(alias_nodes[cur][0], alias_nodes[cur][1])])\n",
    "            # 节点序列大于一个节点的情况\n",
    "            else:\n",
    "                # 看前一个节点,prev是论文中的节点t\n",
    "                prev = walk[-2]\n",
    "                next = cur_nbrs[alias_draw(alias_edges[(prev, cur)][0],\n",
    "                    alias_edges[(prev, cur)][1])]\n",
    "                walk.append(next)\n",
    "        else:\n",
    "            break\n",
    "\n",
    "    return walk"
   ]
  },
  {
   "cell_type": "code",
   "execution_count": 19,
   "metadata": {},
   "outputs": [
    {
     "data": {
      "text/plain": [
       "[3, 29, 32, 29, 34, 15, 34]"
      ]
     },
     "execution_count": 19,
     "metadata": {},
     "output_type": "execute_result"
    }
   ],
   "source": [
    "node2vec_walk(7, 3)"
   ]
  },
  {
   "cell_type": "markdown",
   "metadata": {},
   "source": [
    "## 采样得到所有随机游走序列"
   ]
  },
  {
   "cell_type": "code",
   "execution_count": 20,
   "metadata": {},
   "outputs": [],
   "source": [
    "def simulate_walks(num_walks, walk_length):\n",
    "    '''\n",
    "    图中每个节点作为起始节点，生成 num_walk 个随机游走序列\n",
    "    '''\n",
    "    walks = []\n",
    "    nodes = list(G.nodes())\n",
    "    print('Walk iteration:')\n",
    "    for walk_iter in range(num_walks):\n",
    "        print(str(walk_iter+1), '/', str(num_walks))\n",
    "        # 打乱节点顺序\n",
    "        random.shuffle(nodes)\n",
    "        for node in nodes:\n",
    "            walks.append(node2vec_walk(walk_length=walk_length, start_node=node))\n",
    "\n",
    "    return walks"
   ]
  },
  {
   "cell_type": "code",
   "execution_count": 21,
   "metadata": {},
   "outputs": [
    {
     "name": "stdout",
     "output_type": "stream",
     "text": [
      "Walk iteration:\n",
      "1 / 3\n",
      "2 / 3\n",
      "3 / 3\n"
     ]
    },
    {
     "data": {
      "text/plain": [
       "[[32, 29, 34, 31, 34, 15, 34],\n",
       " [4, 3, 28, 25, 28, 3, 4],\n",
       " [18, 2, 20, 1, 12, 1, 12],\n",
       " [22, 2, 4, 14, 2, 4, 2],\n",
       " [29, 3, 1, 2, 22, 2, 31],\n",
       " [6, 1, 18, 2, 4, 1, 22],\n",
       " [21, 34, 29, 34, 29, 34, 19],\n",
       " [24, 30, 33, 34, 32, 25, 28],\n",
       " [31, 34, 9, 34, 21, 33, 19],\n",
       " [11, 5, 1, 22, 2, 18, 2],\n",
       " [3, 4, 1, 13, 1, 5, 1],\n",
       " [17, 7, 17, 6, 7, 6, 1],\n",
       " [28, 24, 28, 3, 9, 3, 29],\n",
       " [26, 32, 26, 25, 28, 25, 28],\n",
       " [19, 33, 34, 14, 34, 24, 33],\n",
       " [2, 4, 14, 4, 14, 34, 9],\n",
       " [8, 2, 14, 4, 2, 4, 14],\n",
       " [30, 27, 30, 24, 30, 33, 16],\n",
       " [7, 17, 7, 6, 17, 6, 17],\n",
       " [15, 34, 29, 32, 29, 34, 28],\n",
       " [27, 34, 14, 34, 33, 32, 29],\n",
       " [23, 34, 10, 34, 30, 24, 30],\n",
       " [34, 14, 2, 1, 2, 22, 2],\n",
       " [1, 7, 1, 5, 11, 1, 6],\n",
       " [10, 34, 15, 34, 32, 29, 32],\n",
       " [20, 2, 31, 2, 3, 1, 12],\n",
       " [25, 28, 25, 32, 33, 34, 15],\n",
       " [33, 23, 33, 21, 33, 21, 34],\n",
       " [14, 4, 3, 4, 2, 3, 1],\n",
       " [9, 1, 5, 1, 4, 1, 2],\n",
       " [12, 1, 5, 1, 5, 1, 13],\n",
       " [16, 33, 31, 34, 28, 3, 28],\n",
       " [5, 11, 5, 1, 2, 4, 2],\n",
       " [13, 1, 2, 14, 34, 14, 4],\n",
       " [29, 32, 29, 34, 29, 32, 26],\n",
       " [19, 34, 9, 33, 32, 34, 30],\n",
       " [21, 34, 15, 34, 29, 32, 26],\n",
       " [5, 1, 8, 4, 2, 20, 1],\n",
       " [13, 1, 11, 5, 1, 20, 2],\n",
       " [3, 4, 1, 2, 14, 34, 31],\n",
       " [6, 17, 7, 6, 7, 1, 20],\n",
       " [23, 33, 9, 34, 15, 34, 29],\n",
       " [25, 28, 25, 28, 24, 30, 33],\n",
       " [1, 22, 2, 1, 9, 3, 1],\n",
       " [8, 4, 8, 4, 2, 1, 14],\n",
       " [31, 2, 4, 3, 4, 2, 8],\n",
       " [16, 34, 19, 34, 15, 33, 15],\n",
       " [4, 1, 12, 1, 20, 2, 4],\n",
       " [30, 24, 30, 24, 30, 24, 30],\n",
       " [11, 1, 13, 1, 12, 1, 12],\n",
       " [32, 34, 9, 1, 11, 6, 11],\n",
       " [33, 30, 24, 30, 33, 21, 34],\n",
       " [2, 4, 14, 4, 2, 20, 1],\n",
       " [24, 30, 34, 14, 4, 3, 28],\n",
       " [9, 3, 1, 8, 4, 1, 12],\n",
       " [26, 32, 26, 32, 33, 34, 15],\n",
       " [14, 34, 14, 2, 4, 1, 2],\n",
       " [34, 15, 34, 19, 33, 21, 34],\n",
       " [7, 17, 7, 17, 7, 6, 7],\n",
       " [10, 34, 10, 34, 32, 29, 32],\n",
       " [22, 2, 3, 1, 5, 11, 5],\n",
       " [15, 34, 19, 34, 14, 34, 19],\n",
       " [27, 30, 34, 14, 4, 14, 2],\n",
       " [28, 3, 29, 3, 29, 34, 29],\n",
       " [17, 6, 17, 7, 6, 7, 17],\n",
       " [18, 2, 8, 3, 28, 3, 14],\n",
       " [20, 2, 22, 1, 13, 1, 13],\n",
       " [12, 1, 12, 1, 12, 1, 5],\n",
       " [27, 30, 24, 34, 14, 34, 19],\n",
       " [13, 1, 11, 5, 1, 7, 6],\n",
       " [22, 2, 20, 2, 8, 4, 14],\n",
       " [3, 1, 7, 1, 18, 2, 1],\n",
       " [5, 11, 5, 1, 5, 1, 12],\n",
       " [29, 34, 29, 32, 26, 24, 30],\n",
       " [12, 1, 12, 1, 7, 1, 2],\n",
       " [23, 33, 3, 28, 34, 15, 33],\n",
       " [28, 24, 28, 3, 29, 32, 25],\n",
       " [34, 19, 34, 15, 34, 19, 34],\n",
       " [7, 1, 18, 1, 4, 3, 29],\n",
       " [16, 34, 30, 33, 3, 2, 4],\n",
       " [11, 5, 1, 12, 1, 12, 1],\n",
       " [6, 11, 5, 11, 5, 1, 13],\n",
       " [20, 1, 2, 4, 2, 31, 33],\n",
       " [8, 2, 4, 14, 34, 21, 33],\n",
       " [17, 6, 17, 7, 6, 17, 6],\n",
       " [33, 24, 30, 24, 34, 32, 34],\n",
       " [26, 24, 28, 24, 30, 33, 23],\n",
       " [4, 14, 4, 1, 13, 4, 14],\n",
       " [14, 34, 29, 32, 34, 29, 32],\n",
       " [15, 34, 33, 30, 24, 30, 33],\n",
       " [10, 34, 31, 2, 3, 1, 13],\n",
       " [30, 24, 30, 24, 30, 33, 3],\n",
       " [24, 30, 24, 28, 25, 28, 25],\n",
       " [19, 33, 3, 4, 1, 5, 1],\n",
       " [9, 1, 4, 8, 1, 20, 1],\n",
       " [21, 34, 20, 34, 21, 33, 3],\n",
       " [2, 3, 28, 3, 28, 25, 28],\n",
       " [31, 34, 14, 34, 23, 33, 34],\n",
       " [18, 2, 14, 4, 2, 4, 14],\n",
       " [1, 22, 2, 18, 1, 12, 1],\n",
       " [32, 34, 27, 30, 27, 34, 19],\n",
       " [25, 28, 25, 28, 25, 28, 24]]"
      ]
     },
     "execution_count": 21,
     "metadata": {},
     "output_type": "execute_result"
    }
   ],
   "source": [
    "# 测试\n",
    "simulate_walks(3, 7)"
   ]
  },
  {
   "cell_type": "code",
   "execution_count": 22,
   "metadata": {},
   "outputs": [
    {
     "data": {
      "text/plain": [
       "10"
      ]
     },
     "execution_count": 22,
     "metadata": {},
     "output_type": "execute_result"
    }
   ],
   "source": [
    "args.num_walks"
   ]
  },
  {
   "cell_type": "code",
   "execution_count": 23,
   "metadata": {},
   "outputs": [
    {
     "data": {
      "text/plain": [
       "10"
      ]
     },
     "execution_count": 23,
     "metadata": {},
     "output_type": "execute_result"
    }
   ],
   "source": [
    "args.walk_length"
   ]
  },
  {
   "cell_type": "code",
   "execution_count": 24,
   "metadata": {
    "scrolled": true
   },
   "outputs": [
    {
     "name": "stdout",
     "output_type": "stream",
     "text": [
      "Walk iteration:\n",
      "1 / 10\n",
      "2 / 10\n",
      "3 / 10\n",
      "4 / 10\n",
      "5 / 10\n",
      "6 / 10\n",
      "7 / 10\n",
      "8 / 10\n",
      "9 / 10\n",
      "10 / 10\n"
     ]
    }
   ],
   "source": [
    "# 生成训练用的随机游走序列\n",
    "walks = simulate_walks(args.num_walks, args.walk_length)"
   ]
  },
  {
   "cell_type": "code",
   "execution_count": 25,
   "metadata": {},
   "outputs": [
    {
     "data": {
      "text/plain": [
       "340"
      ]
     },
     "execution_count": 25,
     "metadata": {},
     "output_type": "execute_result"
    }
   ],
   "source": [
    "len(walks)"
   ]
  },
  {
   "cell_type": "code",
   "execution_count": 26,
   "metadata": {
    "scrolled": true
   },
   "outputs": [
    {
     "data": {
      "text/plain": [
       "[20, 2, 20, 2, 4, 8, 4, 2, 4, 2]"
      ]
     },
     "execution_count": 26,
     "metadata": {},
     "output_type": "execute_result"
    }
   ],
   "source": [
    "walks[0]"
   ]
  },
  {
   "cell_type": "code",
   "execution_count": 27,
   "metadata": {},
   "outputs": [],
   "source": [
    "# 将node的类型int转化为string\n",
    "walk_str = []\n",
    "for walk in walks:\n",
    "    tmp = []\n",
    "    for node in walk:\n",
    "        tmp.append(str(node))\n",
    "    walk_str.append(tmp)"
   ]
  },
  {
   "cell_type": "code",
   "execution_count": 28,
   "metadata": {},
   "outputs": [
    {
     "data": {
      "text/plain": [
       "340"
      ]
     },
     "execution_count": 28,
     "metadata": {},
     "output_type": "execute_result"
    }
   ],
   "source": [
    "len(walk_str)"
   ]
  },
  {
   "cell_type": "code",
   "execution_count": 29,
   "metadata": {
    "scrolled": true
   },
   "outputs": [
    {
     "data": {
      "text/plain": [
       "['6', '1', '3', '1', '18', '2', '4', '2', '14', '4']"
      ]
     },
     "execution_count": 29,
     "metadata": {},
     "output_type": "execute_result"
    }
   ],
   "source": [
    "walk_str[1]"
   ]
  },
  {
   "cell_type": "markdown",
   "metadata": {},
   "source": [
    "## 利用word2vec训练Node2Vec模型"
   ]
  },
  {
   "cell_type": "code",
   "execution_count": 30,
   "metadata": {},
   "outputs": [],
   "source": [
    "# 调用 gensim 包运行 word2vec\n",
    "model = Word2Vec(walk_str, vector_size=args.dimensions, window=args.window_size, min_count=0, sg=1, workers=args.workers)\n"
   ]
  },
  {
   "cell_type": "code",
   "execution_count": 31,
   "metadata": {},
   "outputs": [],
   "source": [
    "# 导出embedding文件\n",
    "model.wv.save_word2vec_format(args.output)"
   ]
  },
  {
   "cell_type": "markdown",
   "metadata": {},
   "source": [
    "## 结果分析和可视化"
   ]
  },
  {
   "cell_type": "markdown",
   "metadata": {},
   "source": [
    "### 查看 Node Embedding"
   ]
  },
  {
   "cell_type": "code",
   "execution_count": 32,
   "metadata": {},
   "outputs": [
    {
     "data": {
      "text/plain": [
       "(128,)"
      ]
     },
     "execution_count": 32,
     "metadata": {},
     "output_type": "execute_result"
    }
   ],
   "source": [
    "model.wv.get_vector('17').shape"
   ]
  },
  {
   "cell_type": "code",
   "execution_count": 33,
   "metadata": {},
   "outputs": [
    {
     "data": {
      "text/plain": [
       "array([ 0.05030569, -0.01148644,  0.11276381, -0.02450852,  0.00803201,\n",
       "       -0.08742246,  0.01551476,  0.03727151,  0.00627559,  0.02345394,\n",
       "        0.10813974, -0.05773929, -0.02897483, -0.03555898,  0.01979391,\n",
       "       -0.04900616,  0.01735621,  0.02649279, -0.06749365,  0.03826749,\n",
       "        0.06779111,  0.05304061,  0.04027285,  0.03793898, -0.11634336,\n",
       "        0.07957909, -0.05818281,  0.05024271,  0.0274208 , -0.03863368,\n",
       "       -0.15417987,  0.03195244, -0.04108687,  0.00039549, -0.03193031,\n",
       "        0.018914  ,  0.11456054,  0.0358413 ,  0.11251912, -0.01539381,\n",
       "       -0.02965643,  0.08496363, -0.04425171, -0.03703002,  0.04364294,\n",
       "        0.00141756,  0.02645585, -0.06437148, -0.0255911 ,  0.05012865,\n",
       "        0.04550511,  0.02426345,  0.10712382,  0.03214685,  0.05704545,\n",
       "        0.03246491,  0.091486  ,  0.01289231, -0.05245761,  0.00540475,\n",
       "        0.04598118, -0.06382298,  0.03382241,  0.04078436,  0.07766222,\n",
       "       -0.05256613,  0.03526942,  0.02363946, -0.00687125, -0.05584209,\n",
       "        0.07802137,  0.02040993, -0.07287015, -0.02926308,  0.00338702,\n",
       "       -0.05484022,  0.01404254, -0.0149326 , -0.00768752,  0.12254321,\n",
       "        0.01819174, -0.08681907,  0.04238784,  0.08541036, -0.00663247,\n",
       "        0.02854539,  0.11057179, -0.04887246,  0.07897672,  0.09050865,\n",
       "       -0.04061188, -0.03814214, -0.02421403,  0.00659754,  0.07029075,\n",
       "        0.01148013, -0.15394129, -0.17144704,  0.02191343, -0.05524118,\n",
       "       -0.11967518, -0.01123781,  0.02509228,  0.04243323,  0.02260257,\n",
       "       -0.02742667,  0.00825926, -0.07752918,  0.0038297 , -0.0278248 ,\n",
       "        0.00983336, -0.00605622,  0.02811176,  0.04218024, -0.03821975,\n",
       "       -0.00697976, -0.00430606,  0.09306034,  0.07423584,  0.07386652,\n",
       "       -0.01306387, -0.05690383,  0.01242395,  0.03732083, -0.00154725,\n",
       "       -0.08853006, -0.036674  ,  0.018307  ], dtype=float32)"
      ]
     },
     "execution_count": 33,
     "metadata": {},
     "output_type": "execute_result"
    }
   ],
   "source": [
    "model.wv.get_vector('17')"
   ]
  },
  {
   "cell_type": "markdown",
   "metadata": {},
   "source": [
    "### 查找相似节点"
   ]
  },
  {
   "cell_type": "code",
   "execution_count": 34,
   "metadata": {},
   "outputs": [
    {
     "data": {
      "image/png": "[encoded data removed]",
      "text/plain": [
       "<Figure size 640x480 with 1 Axes>"
      ]
     },
     "metadata": {},
     "output_type": "display_data"
    }
   ],
   "source": [
    "pos = nx.spring_layout(G, seed=4)\n",
    "nx.draw_networkx(G, pos, with_labels=True)\n",
    "plt.show()"
   ]
  },
  {
   "cell_type": "code",
   "execution_count": 35,
   "metadata": {},
   "outputs": [
    {
     "name": "stdout",
     "output_type": "stream",
     "text": [
      "0.99361795\n",
      "0.9934363\n"
     ]
    }
   ],
   "source": [
    "# 节点对 相似度\n",
    "print(model.wv.similarity('25', '26'))\n",
    "print(model.wv.similarity('17', '25'))"
   ]
  },
  {
   "cell_type": "code",
   "execution_count": 36,
   "metadata": {},
   "outputs": [
    {
     "name": "stdout",
     "output_type": "stream",
     "text": [
      "[('1', 0.9964584708213806), ('34', 0.9955700039863586), ('24', 0.9955406785011292), ('33', 0.9953609704971313), ('3', 0.9952919483184814), ('4', 0.9950805902481079), ('32', 0.9950778484344482), ('5', 0.9950242638587952), ('2', 0.9949817061424255), ('28', 0.9948425889015198)]\n"
     ]
    }
   ],
   "source": [
    "# 找到最相似的节点\n",
    "print(model.wv.most_similar('25'))"
   ]
  },
  {
   "cell_type": "code",
   "execution_count": 37,
   "metadata": {},
   "outputs": [],
   "source": [
    "# 自定义相似性距离度量指标\n",
    "from scipy import spatial\n",
    "def cos_similarity(v1, v2):\n",
    "    # 余弦相似度\n",
    "    return 1 - spatial.distance.cosine(v1, v2)"
   ]
  },
  {
   "cell_type": "code",
   "execution_count": 38,
   "metadata": {},
   "outputs": [],
   "source": [
    "v1 = model.wv.get_vector('25')\n",
    "v2 = model.wv.get_vector('26')"
   ]
  },
  {
   "cell_type": "code",
   "execution_count": 39,
   "metadata": {},
   "outputs": [
    {
     "data": {
      "text/plain": [
       "0.9936178922653198"
      ]
     },
     "execution_count": 39,
     "metadata": {},
     "output_type": "execute_result"
    }
   ],
   "source": [
    "cos_similarity(v1, v2)"
   ]
  },
  {
   "cell_type": "markdown",
   "metadata": {},
   "source": [
    "### Node Embedding聚类"
   ]
  },
  {
   "cell_type": "markdown",
   "metadata": {},
   "source": [
    "#### 运行聚类"
   ]
  },
  {
   "cell_type": "code",
   "execution_count": 40,
   "metadata": {},
   "outputs": [],
   "source": [
    "# # DBSCAN聚类\n",
    "# from sklearn.cluster import DBSCAN\n",
    "# cluster_labels = DBSCAN(eps=0.5, min_samples=6).fit(X).labels_\n",
    "# print(cluster_labels)\n",
    "\n",
    "# KMeans聚类\n",
    "from sklearn.cluster import KMeans\n",
    "import numpy as np\n",
    "\n",
    "X = model.wv.vectors\n",
    "cluster_labels = KMeans(n_clusters=3, random_state=9).fit(X).labels_"
   ]
  },
  {
   "cell_type": "code",
   "execution_count": 41,
   "metadata": {},
   "outputs": [
    {
     "data": {
      "text/plain": [
       "array([0, 0, 2, 2, 2, 2, 2, 2, 2, 2, 2, 1, 2, 2, 1, 1, 2, 1, 1, 1, 1, 1,\n",
       "       1, 1, 1, 1, 1, 1, 1, 1, 1, 1, 1, 1])"
      ]
     },
     "execution_count": 41,
     "metadata": {},
     "output_type": "execute_result"
    }
   ],
   "source": [
    "cluster_labels"
   ]
  },
  {
   "cell_type": "markdown",
   "metadata": {},
   "source": [
    "#### 将networkx中的节点和词向量中的节点对应"
   ]
  },
  {
   "cell_type": "code",
   "execution_count": 42,
   "metadata": {},
   "outputs": [],
   "source": [
    "colors = []\n",
    "nodes = list(G.nodes)\n",
    "for node in nodes: # 按 networkx 的顺序遍历每个节点\n",
    "    idx = model.wv.key_to_index[str(node)] # 获取这个节点在 embedding 中的索引号\n",
    "    colors.append(cluster_labels[idx]) # 获取这个节点的聚类结果"
   ]
  },
  {
   "cell_type": "code",
   "execution_count": 43,
   "metadata": {},
   "outputs": [
    {
     "data": {
      "text/plain": [
       "[0,\n",
       " 2,\n",
       " 1,\n",
       " 1,\n",
       " 1,\n",
       " 2,\n",
       " 1,\n",
       " 1,\n",
       " 1,\n",
       " 1,\n",
       " 1,\n",
       " 2,\n",
       " 2,\n",
       " 2,\n",
       " 2,\n",
       " 2,\n",
       " 2,\n",
       " 1,\n",
       " 1,\n",
       " 2,\n",
       " 1,\n",
       " 2,\n",
       " 1,\n",
       " 0,\n",
       " 1,\n",
       " 1,\n",
       " 1,\n",
       " 1,\n",
       " 1,\n",
       " 2,\n",
       " 2,\n",
       " 1,\n",
       " 1,\n",
       " 1]"
      ]
     },
     "execution_count": 43,
     "metadata": {},
     "output_type": "execute_result"
    }
   ],
   "source": [
    "colors"
   ]
  },
  {
   "cell_type": "markdown",
   "metadata": {},
   "source": [
    "#### 可视化聚类效果"
   ]
  },
  {
   "cell_type": "code",
   "execution_count": 47,
   "metadata": {},
   "outputs": [
    {
     "data": {
      "image/png": "[encoded data removed]",
      "text/plain": [
       "<Figure size 640x480 with 1 Axes>"
      ]
     },
     "metadata": {},
     "output_type": "display_data"
    }
   ],
   "source": [
    "pos = nx.spring_layout(G, seed=4)\n",
    "nx.draw_networkx(G, pos, node_color=colors, with_labels=True)\n",
    "plt.show()"
   ]
  },
  {
   "cell_type": "code",
   "execution_count": null,
   "metadata": {},
   "outputs": [],
   "source": []
  }
 ],
 "metadata": {
  "kernelspec": {
   "display_name": "Python 3",
   "language": "python",
   "name": "python3"
  },
  "language_info": {
   "codemirror_mode": {
    "name": "ipython",
    "version": 3
   },
   "file_extension": ".py",
   "mimetype": "text/x-python",
   "name": "python",
   "nbconvert_exporter": "python",
   "pygments_lexer": "ipython3",
   "version": "3.9.16"
  }
 },
 "nbformat": 4,
 "nbformat_minor": 2
}
