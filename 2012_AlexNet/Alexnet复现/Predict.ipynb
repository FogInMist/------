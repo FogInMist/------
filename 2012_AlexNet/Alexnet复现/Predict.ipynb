{
 "cells": [
  {
   "cell_type": "code",
   "execution_count": 1,
   "metadata": {},
   "outputs": [
    {
     "name": "stderr",
     "output_type": "stream",
     "text": [
      "e:\\python\\lib\\site-packages\\torchvision\\io\\image.py:11: UserWarning: Failed to load image Python extension: Could not find module 'E:\\python\\Lib\\site-packages\\torchvision\\image.pyd' (or one of its dependencies). Try using the full path with constructor syntax.\n",
      "  warn(f\"Failed to load image Python extension: {e}\")\n"
     ]
    }
   ],
   "source": [
    "import torch\n",
    "from PIL import Image\n",
    "from torch import nn\n",
    "from torchvision.transforms import transforms\n",
    "\n",
    "class AlexNet(nn.Module):\n",
    "    def __init__(self):\n",
    "        super(AlexNet , self).__init__() # 集成nn.Module的初始化方式\n",
    "        self.model = nn.Sequential(\n",
    "            # 每个样本input[3,120,120] output[48,29,29]  \n",
    "            nn.Conv2d(3, 48, kernel_size=11, stride=4, padding=2),  #二维卷积(1) input[3, 224, 224]  output[48, 55, 55] \n",
    "            nn.ReLU(inplace=True), # 激活函数，对输出进行处理\n",
    "            # output[48,14,14] \n",
    "            nn.MaxPool2d(kernel_size=3, stride=2),  #最大池化(1) output[48, 27, 27]\n",
    "            # output[128,14,14]\n",
    "            nn.Conv2d(48, 128, kernel_size=5, padding=2),  #二维卷积(2) output[128, 27, 27]\n",
    "            nn.ReLU(inplace=True), # 激活函数，对输出进行处理\n",
    "            # output[128,6,6]\n",
    "            nn.MaxPool2d(kernel_size=3, stride=2),  #最大池化(2) output[128, 13, 13]\n",
    "            # output[192,6,6]\n",
    "            nn.Conv2d(128, 192, kernel_size=3, padding=1),  #二维卷积(3) output[192, 13, 13]\n",
    "            nn.ReLU(inplace=True),  # 激活函数，对输出进行处理\n",
    "            # output[192,6,6]\n",
    "            nn.Conv2d(192, 192, kernel_size=3, padding=1),  #二维卷积(4) output[192, 13, 13]\n",
    "            nn.ReLU(inplace=True), # 激活函数，对输出进行处理\n",
    "            # output[128,6,6]\n",
    "            nn.Conv2d(192, 128, kernel_size=3, padding=1),  #二维卷积(5) output[128, 13, 13]\n",
    "            nn.ReLU(inplace=True), # 激活函数，对输出进行处理\n",
    "            # output[128,2,2]\n",
    "            nn.MaxPool2d(kernel_size=3, stride=2),  #最大池化(3) output[128, 6, 6]\n",
    "            # output[128*2*2]\n",
    "            nn.Flatten(),  # 展平，即降维成一维, output[128*6*6]\n",
    "            nn.Dropout(p=0.5), # 随机丢失，概率为0.5\n",
    "            # output[2048]\n",
    "            nn.Linear(512, 2048), # 全连接层(1) [128*6*6,2048] \n",
    "            nn.ReLU(inplace=True), # 激活函数，对输出进行处理\n",
    "            nn.Dropout(p=0.5), # 随机丢失，概率为0.5\n",
    "            # output[1024]\n",
    "            nn.Linear(2048, 1024),  # 全连接层(2) [2048,1024] \n",
    "            nn.ReLU(inplace=True),  # 激活函数，对输出进行处理\n",
    "            # output[7]\n",
    "            nn.Linear(1024, 2), # 全连接层(2) [1024,1000] \n",
    "\n",
    "        )\n",
    "    def forward(self , x): # 前向传播\n",
    "        x = self.model(x)\n",
    "        return x\n"
   ]
  },
  {
   "cell_type": "code",
   "execution_count": 8,
   "metadata": {},
   "outputs": [
    {
     "name": "stdout",
     "output_type": "stream",
     "text": [
      "using cuda:0 device.\n",
      "tensor([ 0.0987, -0.0478], grad_fn=<MaxBackward0>)\n",
      "0\n",
      "结果为 cat\n"
     ]
    }
   ],
   "source": [
    "# image_path = \"./data/test/1.JPG\"#需要测试的图片放入当前文件夹下，这里改成自己的图片名即可\n",
    "image_path = \"./data/test/4.JPG\"\n",
    "trans = transforms.Compose([transforms.Resize((120 , 120)),\n",
    "                           transforms.ToTensor()])\n",
    "image = Image.open(image_path)\n",
    "\n",
    "image = image.convert(\"RGB\")\n",
    "image = trans(image)\n",
    "\n",
    "image = torch.unsqueeze(image, dim=0)\n",
    "\n",
    "classes = [\"cat\" , \"dog\"] # 分类\n",
    "\n",
    "device = torch.device(\"cuda:0\" if torch.cuda.is_available() else \"cpu\")\n",
    "print(\"using {} device.\".format(device))\n",
    "\n",
    "\n",
    "alexnet = AlexNet()\n",
    "# 将训练得到的alexnet模型载入\n",
    "alexnet.load_state_dict(torch.load(\"alexnet.pth\", map_location=device))\n",
    "\n",
    "alexnet.eval() # 屏蔽dropout层\n",
    "outputs = alexnet(image)\n",
    "\n",
    "print((outputs.max(0)[0]))\n",
    "\n",
    "ans = (outputs.argmax(1)).item()\n",
    "print(ans)\n",
    "print('结果为',classes[ans])"
   ]
  }
 ],
 "metadata": {
  "kernelspec": {
   "display_name": "Python 3.9.0 64-bit",
   "language": "python",
   "name": "python3"
  },
  "language_info": {
   "codemirror_mode": {
    "name": "ipython",
    "version": 3
   },
   "file_extension": ".py",
   "mimetype": "text/x-python",
   "name": "python",
   "nbconvert_exporter": "python",
   "pygments_lexer": "ipython3",
   "version": "3.9.0"
  },
  "orig_nbformat": 4,
  "vscode": {
   "interpreter": {
    "hash": "47e86d731e077963188d400b641a1f5cee6401b89b8a1175acb1a082248e2517"
   }
  }
 },
 "nbformat": 4,
 "nbformat_minor": 2
}
