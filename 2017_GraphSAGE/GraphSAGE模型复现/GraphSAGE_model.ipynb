{
 "cells": [
  {
   "cell_type": "markdown",
   "metadata": {},
   "source": [
    "# GraphSAGE模型复现\n",
    "**参考资料：**\n",
    "\n",
    "* [【图神经网络(GraphSAGE)】Pytorch代码](https://zhuanlan.zhihu.com/p/410407148)"
   ]
  },
  {
   "cell_type": "markdown",
   "metadata": {},
   "source": [
    "### 导入相关python库"
   ]
  },
  {
   "cell_type": "code",
   "execution_count": 39,
   "metadata": {},
   "outputs": [],
   "source": [
    "import math\n",
    "import torch\n",
    "import random\n",
    "import pyhocon\n",
    "import argparse\n",
    "import numpy as np\n",
    "import torch.nn as nn\n",
    "import torch.nn.functional as F\n",
    "from sklearn.utils import shuffle\n",
    "from sklearn.metrics import f1_score\n",
    "from collections import defaultdict"
   ]
  },
  {
   "cell_type": "markdown",
   "metadata": {},
   "source": [
    "### GraphSAGE参数配置"
   ]
  },
  {
   "cell_type": "code",
   "execution_count": 40,
   "metadata": {},
   "outputs": [],
   "source": [
    "parser = argparse.ArgumentParser(description='pytorch version of GraphSAGE')\n",
    "parser.add_argument('--dataSet', type=str, default='cora')                # 数据集名字\n",
    "parser.add_argument('--agg_func', type=str, default='MEAN')               # 采用什么聚合函数\n",
    "parser.add_argument('--epochs', type=int, default=50)                     # 迭代次数\n",
    "parser.add_argument('--b_sz', type=int, default=20)                       # batch大小\n",
    "parser.add_argument('--seed', type=int, default=824)                      # 随机种子\n",
    "parser.add_argument('--cuda', action='store_true',help='use CUDA')        # 是否使用GPU\n",
    "parser.add_argument('--gcn', action='store_true')                         # 师傅使用GCN\n",
    "parser.add_argument('--learn_method', type=str, default='sup')            # 选择损失函数         \n",
    "parser.add_argument('--max_vali_f1', type=float, default=0)\n",
    "parser.add_argument('--name', type=str, default='debug')                  # 保存文件名\n",
    "# parser.add_argument('--config', type=str, default='./experiments.conf')   # 获取的一些配置文件\n",
    "#args = parser.parse_args()                                               # pychram 中使用\n",
    "args = parser.parse_known_args()[0]                                       # jupyter 中使用\n",
    "device = torch.device(\"cuda\" if args.cuda else \"cpu\")"
   ]
  },
  {
   "cell_type": "code",
   "execution_count": 41,
   "metadata": {},
   "outputs": [
    {
     "data": {
      "text/plain": [
       "Namespace(dataSet='cora', agg_func='MEAN', epochs=50, b_sz=20, seed=824, cuda=False, gcn=False, learn_method='sup', max_vali_f1=0, name='debug')"
      ]
     },
     "execution_count": 41,
     "metadata": {},
     "output_type": "execute_result"
    }
   ],
   "source": [
    "args"
   ]
  },
  {
   "cell_type": "markdown",
   "metadata": {},
   "source": [
    "### 数据加载函数"
   ]
  },
  {
   "cell_type": "code",
   "execution_count": 42,
   "metadata": {},
   "outputs": [],
   "source": [
    "class DataCenter(object):\n",
    "    def __init__(self):\n",
    "        super(DataCenter, self).__init__()\n",
    "        # self.config = config\n",
    "\n",
    "    def load_dataSet(self, dataSet='cora'):\n",
    "        if dataSet == 'cora':\n",
    "            cora_content_file = './cora/cora.content'        # 获取节点特征信息文件路径\n",
    "            cora_cite_file = './cora/cora.cites'             # 获取边信息\n",
    "            feat_data = []\n",
    "            labels = []                                                      # 每个节点对应的便序列\n",
    "            node_map = {}                                                    # 节点的index\n",
    "            label_map = {}                                                   # 标签的index\n",
    "            \n",
    "            with open(cora_content_file) as fp:                              # 打开节点特性信息文件\n",
    "                for i, line in enumerate(fp):\n",
    "                    info = line.strip().split()                              \n",
    "                    feat_data.append([float(x) for x in info[1:-1]])         # 节点特征信息\n",
    "                    node_map[info[0]] = i                                    # 节点的index  值->ID\n",
    "                    if not info[-1] in label_map:                            # 判断标签是否已存在\n",
    "                        label_map[info[-1]] = len(label_map)                 # 标签的index  值->ID\n",
    "                    labels.append(label_map[info[-1]])                       # 节点对应的标签信息\n",
    "            feat_data = np.asarray(feat_data)                                # 转换成numpy格式\n",
    "            labels = np.asarray(labels, dtype=np.int64)                      # 转换成numpy格式\n",
    "            adj_lists = defaultdict(set)                                     # 定义存放set的字典，访问不存在数据不报错\n",
    "            \n",
    "            with open(cora_cite_file) as fp:                                 # 打开边信息文件\n",
    "                for i, line in enumerate(fp):\n",
    "                    info = line.strip().split()             \n",
    "                    assert len(info) == 2\n",
    "                    paper1 = node_map[info[0]]                               \n",
    "                    paper2 = node_map[info[1]]\n",
    "                    adj_lists[paper1].add(paper2)\n",
    "                    adj_lists[paper2].add(paper1)                            # 得到的字典可以查找每一个点的邻居节点\n",
    "            assert len(feat_data) == len(labels) == len(adj_lists)\n",
    "            test_indexs, val_indexs, train_indexs = self._split_data(feat_data.shape[0])  # 把数据分为 训练，验证，测试集\n",
    "\n",
    "            setattr(self, dataSet+'_test', test_indexs)\n",
    "            setattr(self, dataSet+'_val', val_indexs)\n",
    "            setattr(self, dataSet+'_train', train_indexs)\n",
    "\n",
    "            setattr(self, dataSet+'_feats', feat_data)\n",
    "            setattr(self, dataSet+'_labels', labels)\n",
    "            setattr(self, dataSet+'_adj_lists', adj_lists)\n",
    "            \n",
    "    def _split_data(self, num_nodes, test_split = 3, val_split = 6):         # 把数据分为 训练，验证，测试集\n",
    "        rand_indices = np.random.permutation(num_nodes)                      # 每3个数据中选一个测试集，每6个数据中选一个验证集。\n",
    "                                                                                    \n",
    "        test_size = num_nodes // test_split\n",
    "        val_size = num_nodes // val_split\n",
    "        train_size = num_nodes - (test_size + val_size)\n",
    "\n",
    "        test_indexs = rand_indices[:test_size]\n",
    "        val_indexs = rand_indices[test_size:(test_size+val_size)]\n",
    "        train_indexs = rand_indices[(test_size+val_size):]\n",
    "\n",
    "        return test_indexs, val_indexs, train_indexs"
   ]
  },
  {
   "cell_type": "markdown",
   "metadata": {},
   "source": [
    "### 加载Cora数据集"
   ]
  },
  {
   "cell_type": "code",
   "execution_count": 43,
   "metadata": {},
   "outputs": [],
   "source": [
    "random.seed(args.seed)                                                # 固定随机种子\n",
    "np.random.seed(args.seed)                                             # 固定随机种子\n",
    "torch.manual_seed(args.seed)                                          # 固定随机种子\n",
    "torch.cuda.manual_seed_all(args.seed)                                 # 固定随机种子"
   ]
  },
  {
   "cell_type": "code",
   "execution_count": 44,
   "metadata": {},
   "outputs": [],
   "source": [
    "ds = args.dataSet\n",
    "dataCenter = DataCenter()\n",
    "dataCenter.load_dataSet(ds)\n",
    "test_nodes = getattr(dataCenter, ds+'_test')              # 获取测试集    \n",
    "val_nodes = getattr(dataCenter, ds+'_val')                # 获取验证集\n",
    "train_nodes = getattr(dataCenter, ds+'_train')            # 获取测试集\n",
    "labels = getattr(dataCenter, ds+'_labels')                # 获取标签\n",
    "adj_lists = getattr(dataCenter, ds+'_adj_lists')          # 邻接矩阵"
   ]
  },
  {
   "cell_type": "code",
   "execution_count": 45,
   "metadata": {},
   "outputs": [
    {
     "name": "stdout",
     "output_type": "stream",
     "text": [
      "(902,) (451,) (1355,) (2708,)\n"
     ]
    }
   ],
   "source": [
    "print(test_nodes.shape,val_nodes.shape,train_nodes.shape,labels.shape)"
   ]
  },
  {
   "cell_type": "code",
   "execution_count": 46,
   "metadata": {},
   "outputs": [
    {
     "data": {
      "text/plain": [
       "torch.Size([2708, 1433])"
      ]
     },
     "execution_count": 46,
     "metadata": {},
     "output_type": "execute_result"
    }
   ],
   "source": [
    "features = torch.FloatTensor(getattr(dataCenter, ds+'_feats')).to(device)  \n",
    "features.shape"
   ]
  },
  {
   "cell_type": "markdown",
   "metadata": {},
   "source": [
    "## GraphSAGE 模型"
   ]
  },
  {
   "cell_type": "markdown",
   "metadata": {},
   "source": [
    "### SAGELayer"
   ]
  },
  {
   "cell_type": "code",
   "execution_count": 47,
   "metadata": {},
   "outputs": [],
   "source": [
    "class SageLayer(nn.Module):\n",
    "    def __init__(self, input_size, out_size, gcn=False): \n",
    "        super(SageLayer, self).__init__()\n",
    "        self.input_size = input_size\n",
    "        self.out_size = out_size\n",
    "        self.gcn = gcn\n",
    "        self.weight = nn.Parameter(torch.FloatTensor(out_size, self.input_size if self.gcn else 2 * self.input_size)) # 创建weight\n",
    "        self.init_params()                                                # 初始化参数\n",
    "\n",
    "    def init_params(self):\n",
    "        for param in self.parameters():\n",
    "            nn.init.xavier_uniform_(param)\n",
    "\n",
    "    def forward(self, self_feats, aggregate_feats, neighs=None):\n",
    "        if not self.gcn:\n",
    "            combined = torch.cat([self_feats, aggregate_feats], dim=1)   # concat自己信息和邻居信息\n",
    "        else:\n",
    "            combined = aggregate_feats\n",
    "        combined = F.relu(self.weight.mm(combined.t())).t()\n",
    "        return combined"
   ]
  },
  {
   "cell_type": "markdown",
   "metadata": {},
   "source": [
    "### 分类器"
   ]
  },
  {
   "cell_type": "code",
   "execution_count": 48,
   "metadata": {},
   "outputs": [],
   "source": [
    "class Classification(nn.Module):         # 把GraphSAGE的输出链接全连接层每个节点映射到7维\n",
    "    def __init__(self, emb_size, num_classes):\n",
    "        super(Classification, self).__init__()\n",
    "        self.layer = nn.Sequential(nn.Linear(emb_size, num_classes))      \n",
    "        self.init_params()\n",
    "\n",
    "    def init_params(self):\n",
    "        for param in self.parameters():\n",
    "            if len(param.size()) == 2:\n",
    "                nn.init.xavier_uniform_(param)\n",
    "\n",
    "    def forward(self, embeds):\n",
    "        logists = torch.log_softmax(self.layer(embeds), 1)\n",
    "        return logists"
   ]
  },
  {
   "cell_type": "markdown",
   "metadata": {},
   "source": [
    "### GrapeSAGE Model "
   ]
  },
  {
   "cell_type": "code",
   "execution_count": 49,
   "metadata": {},
   "outputs": [],
   "source": [
    "class GraphSage(nn.Module):  ## GraphSage模型定义\n",
    "\n",
    "    def __init__(self, num_layers, input_size, out_size, raw_features, adj_lists, device, gcn=False, agg_func='MEAN'):\n",
    "        super(GraphSage, self).__init__()\n",
    "\n",
    "        self.input_size = input_size                                  # 输入尺寸   1433\n",
    "        self.out_size = out_size                                      # 输出尺寸   128\n",
    "        self.num_layers = num_layers                                  # 聚合层数   2\n",
    "        self.gcn = gcn                                                # 是否使用GCN\n",
    "        self.device = device                                          # 使用训练设备\n",
    "        self.agg_func = agg_func                                      # 聚合函数\n",
    "        self.raw_features = raw_features                              # 节点特征\n",
    "        self.adj_lists = adj_lists                                    # 边\n",
    "        \n",
    "        for index in range(1, num_layers + 1):\n",
    "            layer_size = out_size if index != 1 else input_size       # 如果index==1，这中间特征为1433，如果！=1。则特征数为128。\n",
    "            setattr(self, 'sage_layer'+str(index), SageLayer(layer_size, out_size, gcn=self.gcn))  \n",
    "\n",
    "    def forward(self, nodes_batch):\n",
    "        lower_layer_nodes = list(nodes_batch)                          # 把当前训练的节点转换成list\n",
    "        # [527, 1681, 439, 2007, 1439, 963, 699, 131, 1003, 1, 658, 1660, 16, 716, 245, 2577, 501, 1582, 1081, 944]\n",
    "\n",
    "        nodes_batch_layers = [(lower_layer_nodes,)]                    # 放入的训练节点\n",
    "        # [([527, 1681, 439, 2007, 1439, 963, 699, 131, 1003, 1, 658, 1660, 16, 716, 245, 2577, 501, 1582, 1081, 944],)]\n",
    "\n",
    "        for i in range(self.num_layers):                               # 遍历每一次聚合，获得neighbors\n",
    "            lower_samp_neighs, lower_layer_nodes_dict, lower_layer_nodes= self._get_unique_neighs_list(lower_layer_nodes)  \n",
    "            nodes_batch_layers.insert(0, (lower_layer_nodes, lower_samp_neighs, lower_layer_nodes_dict))\n",
    "                                     # batch涉及到的所有节点，本身+邻居 ，      节点编号->当前字典中顺序index    \n",
    "            #[([涉及到的所有节点],[{邻居+自己},{邻居+自己}],{节点index}),([batch节点]),] \n",
    "        assert len(nodes_batch_layers) == self.num_layers + 1\n",
    "\n",
    "        pre_hidden_embs = self.raw_features\n",
    "\n",
    "        for index in range(1, self.num_layers+1):\n",
    "            nb = nodes_batch_layers[index][0]                           # 聚合自己和邻居的节点\n",
    "            pre_neighs = nodes_batch_layers[index-1]                    # 涉及到的所有节点，自己和邻居节点，邻居节点编号->字典中编号\n",
    "\n",
    "            aggregate_feats = self.aggregate(nb, pre_hidden_embs, pre_neighs)   # 聚合函数。聚合的节点， 节点特征，集合节点邻居信息\n",
    "            sage_layer = getattr(self, 'sage_layer'+str(index))\n",
    "\n",
    "            if index > 1:\n",
    "                nb = self._nodes_map(nb, pre_hidden_embs, pre_neighs)   # 第一层的batch节点，没有进行转换\n",
    "            cur_hidden_embs = sage_layer(self_feats=pre_hidden_embs[nb], aggregate_feats=aggregate_feats)  \n",
    "                                                                        # 进入SageLayer。weight*concat(node,neighbors)\n",
    "            pre_hidden_embs = cur_hidden_embs\n",
    "\n",
    "        return pre_hidden_embs\n",
    "\n",
    "    def _nodes_map(self, nodes, hidden_embs, neighs):\n",
    "        layer_nodes, samp_neighs, layer_nodes_dict = neighs\n",
    "        assert len(samp_neighs) == len(nodes)\n",
    "        index = [layer_nodes_dict[x] for x in nodes]                    # 记录将上一层的节点编号。\n",
    "        return index\n",
    "\n",
    "    def _get_unique_neighs_list(self, nodes, num_sample=10):\n",
    "        _set = set\n",
    "        to_neighs = [self.adj_lists[int(node)] for node in nodes]       # self.adj_lists边矩阵，获取节点的邻居\n",
    "\n",
    "        if not num_sample is None:                                      # 对邻居节点进行采样，如果大于邻居数据，则进行采样\n",
    "            _sample = random.sample                                     # 节点长度小于10 \n",
    "            samp_neighs = [_set(_sample(to_neigh, num_sample)) if len(to_neigh) >= num_sample else to_neigh for to_neigh in to_neighs]\n",
    "        else:\n",
    "            samp_neighs = to_neighs\n",
    "\n",
    "        samp_neighs = [samp_neigh | set([nodes[i]]) for i, samp_neigh in enumerate(samp_neighs)]  # 加入本身节点\n",
    "\n",
    "        _unique_nodes_list = list(set.union(*samp_neighs))               # 这个batch涉及到的所有节点\n",
    "\n",
    "        i = list(range(len(_unique_nodes_list)))                         # 建立编号\n",
    "        unique_nodes = dict(list(zip(_unique_nodes_list, i)))            # 节点编号->当前字典中顺序index\n",
    "\n",
    "        return samp_neighs, unique_nodes, _unique_nodes_list             # 聚合自己和邻居节点，点的dict，batch涉及到的所有节点\n",
    "\n",
    "\n",
    "    def aggregate(self, nodes, pre_hidden_embs, pre_neighs, num_sample=10):\n",
    "        unique_nodes_list, samp_neighs, unique_nodes = pre_neighs        # batch涉及到的所有节点,本身+邻居,邻居节点编号->字典中编号  \n",
    "        assert len(nodes) == len(samp_neighs)\n",
    "        indicator = [(nodes[i] in samp_neighs[i]) for i in range(len(samp_neighs))]  # 是否包含本身\n",
    "        assert (False not in indicator)\n",
    "\n",
    "        if not self.gcn:\n",
    "            samp_neighs = [(samp_neighs[i]-set([nodes[i]])) for i in range(len(samp_neighs))]  # 在把中心节点去掉\n",
    "        if len(pre_hidden_embs) == len(unique_nodes):                     # 保留需要使用的节点特征。\n",
    "            embed_matrix = pre_hidden_embs\n",
    "        else:\n",
    "            embed_matrix = pre_hidden_embs[torch.LongTensor(unique_nodes_list)]     \n",
    "                                                      \n",
    "        mask = torch.zeros(len(samp_neighs), len(unique_nodes))           # (本层节点数量，邻居节点数量)\n",
    "        column_indices = [unique_nodes[n] for samp_neigh in samp_neighs for n in samp_neigh]  # 保存列 每一行对应的邻居真实index做为列。\n",
    "        row_indices = [i for i in range(len(samp_neighs)) for j in range(len(samp_neighs[i]))]# 保存行 每行邻居数\n",
    "        mask[row_indices, column_indices] = 1                             # 构建邻接矩阵;\n",
    "\n",
    "        if self.agg_func == 'MEAN':\n",
    "            num_neigh = mask.sum(1, keepdim=True)                         # 按行求和，保持和输入一个维度\n",
    "            mask = mask.div(num_neigh).to(embed_matrix.device)            # 归一化操作\n",
    "            aggregate_feats = mask.mm(embed_matrix)                       # 矩阵相乘，相当于聚合周围邻接信息求和\n",
    "\n",
    "        elif self.agg_func == 'MAX':\n",
    "            indexs = [x.nonzero() for x in mask==1]\n",
    "            aggregate_feats = []\n",
    "            for feat in [embed_matrix[x.squeeze()] for x in indexs]:\n",
    "                if len(feat.size()) == 1:\n",
    "                    aggregate_feats.append(feat.view(1, -1))\n",
    "                else:\n",
    "                    aggregate_feats.append(torch.max(feat,0)[0].view(1, -1))\n",
    "            aggregate_feats = torch.cat(aggregate_feats, 0)\n",
    "\n",
    "        return aggregate_feats"
   ]
  },
  {
   "cell_type": "code",
   "execution_count": 50,
   "metadata": {},
   "outputs": [],
   "source": [
    "num_layers = 2\n",
    "hidden_emb_size = 128\n",
    "graphSage = GraphSage(num_layers, features.size(1), hidden_emb_size, features, getattr(dataCenter, ds+'_adj_lists'), device, gcn=args.gcn, agg_func=args.agg_func)\n"
   ]
  },
  {
   "cell_type": "code",
   "execution_count": 51,
   "metadata": {},
   "outputs": [
    {
     "data": {
      "text/plain": [
       "7"
      ]
     },
     "execution_count": 51,
     "metadata": {},
     "output_type": "execute_result"
    }
   ],
   "source": [
    "num_labels = len(set(getattr(dataCenter, ds+'_labels')))              # label的数量\n",
    "num_labels"
   ]
  },
  {
   "cell_type": "code",
   "execution_count": 52,
   "metadata": {},
   "outputs": [],
   "source": [
    "classification = Classification(hidden_emb_size, num_labels)"
   ]
  },
  {
   "cell_type": "code",
   "execution_count": 53,
   "metadata": {},
   "outputs": [],
   "source": [
    "def apply_model(dataCenter, ds, graphSage, classification, b_sz, device, learn_method):\n",
    "    # test_nodes = getattr(dataCenter, ds+'_test')              # 获取测试集    \n",
    "    # val_nodes = getattr(dataCenter, ds+'_val')                # 获取验证集\n",
    "    train_nodes = getattr(dataCenter, ds+'_train')            # 获取测试集\n",
    "    labels = getattr(dataCenter, ds+'_labels')                # 获取标签\n",
    "    train_nodes = shuffle(train_nodes)                        # 打乱训练数据\n",
    "    models = [graphSage, classification]                      # models\n",
    "\n",
    "    params = []\n",
    "    for model in models:                                      # 初始化模型参数\n",
    "        for param in model.parameters():\n",
    "            if param.requires_grad:\n",
    "                params.append(param)\n",
    "\n",
    "    optimizer = torch.optim.SGD(params, lr=0.7)               # 梯度优化算法\n",
    "    optimizer.zero_grad()                                     # 梯度清零\n",
    "    for model in models:                                 \n",
    "        model.zero_grad()\n",
    "                                        \n",
    "    batches = math.ceil(len(train_nodes) / b_sz)              # 有多少个batches\n",
    "    visited_nodes = set()\n",
    "\n",
    "    for index in range(batches):\n",
    "        nodes_batch = train_nodes[index*b_sz:(index+1)*b_sz]  # 选择当前需要训练的节点\n",
    "        visited_nodes |= set(nodes_batch)\n",
    "        labels_batch = labels[nodes_batch]\n",
    "        embs_batch = graphSage(nodes_batch)                   # 学习到节点表征\n",
    "\n",
    "        if learn_method == 'sup':                             # 监督学习\n",
    "            logists = classification(embs_batch)              # 分类函数\n",
    "            loss_sup = -torch.sum(logists[range(logists.size(0)), labels_batch], 0)  # 计算损失\n",
    "            loss_sup /= len(nodes_batch)                      # 计算平均损失\n",
    "            loss = loss_sup                                   \n",
    "        # print('Step [{}/{}], Loss: {:.4f}, Dealed Nodes [{}/{}] '.format(index+1, batches, loss.item(), len(visited_nodes), len(train_nodes)))\n",
    "        loss.backward()                                       # 反向传播\n",
    "        for model in models:\n",
    "            nn.utils.clip_grad_norm_(model.parameters(), 5)  \n",
    "        optimizer.step()                                      # 更新梯度\n",
    "        optimizer.zero_grad()                                 # 梯度清零\n",
    "        for model in models:\n",
    "            model.zero_grad() \n",
    "\n",
    "    return graphSage, classification"
   ]
  },
  {
   "cell_type": "markdown",
   "metadata": {},
   "source": [
    "### 测试函数"
   ]
  },
  {
   "cell_type": "code",
   "execution_count": 54,
   "metadata": {},
   "outputs": [],
   "source": [
    "def evaluate(dataCenter, ds, graphSage, classification, max_vali_f1):\n",
    "    test_nodes = getattr(dataCenter, ds+'_test')          # 获取测试集\n",
    "    val_nodes = getattr(dataCenter, ds+'_val')            # 获取验证集\n",
    "    labels = getattr(dataCenter, ds+'_labels')            # 获取标签\n",
    "    models = [graphSage, classification]                  # 获取训练后的模型\n",
    "    params = []                                           # 保存模型参数\n",
    "    for model in models:\n",
    "        for param in model.parameters():\n",
    "            if param.requires_grad:\n",
    "                param.requires_grad = False           # 取消梯度计算\n",
    "                params.append(param)\n",
    "\n",
    "    embs = graphSage(val_nodes)               # 验证集F1得分\n",
    "    logists = classification(embs)\n",
    "    _, predicts = torch.max(logists, 1)\n",
    "    labels_val = labels[val_nodes]\n",
    "    assert len(labels_val) == len(predicts)\n",
    "    # comps = zip(labels_val, predicts.data)\n",
    "    vali_f1 = f1_score(labels_val, predicts.cpu().data, average=\"micro\")\n",
    "    print(\"Validation F1:\", vali_f1)\n",
    "\n",
    "    if vali_f1 > max_vali_f1:\n",
    "        max_vali_f1 = vali_f1\n",
    "        embs = graphSage(test_nodes)          # 测试集F1得分\n",
    "        logists = classification(embs)\n",
    "        _, predicts = torch.max(logists, 1)\n",
    "        labels_test = labels[test_nodes]\n",
    "        assert len(labels_test) == len(predicts)\n",
    "        # comps = zip(labels_test, predicts.data)\n",
    "        test_f1 = f1_score(labels_test, predicts.cpu().data, average=\"micro\")\n",
    "        print(\"Test F1:\", test_f1)\n",
    "        # torch.save(models, 'model_best_{}_ep{}_{:.4f}.torch'.format(name, cur_epoch, test_f1))\n",
    "\n",
    "    for param in params:\n",
    "        param.requires_grad = True         # 还原梯度\n",
    "\n",
    "    return max_vali_f1"
   ]
  },
  {
   "cell_type": "code",
   "execution_count": 55,
   "metadata": {},
   "outputs": [
    {
     "name": "stdout",
     "output_type": "stream",
     "text": [
      "----------------------EPOCH 0-----------------------\n",
      "Validation F1: 0.8425720620842572\n",
      "Test F1: 0.8314855875831486\n",
      "----------------------EPOCH 1-----------------------\n",
      "Validation F1: 0.8536585365853658\n",
      "Test F1: 0.8470066518847007\n",
      "----------------------EPOCH 2-----------------------\n",
      "Validation F1: 0.8536585365853658\n",
      "----------------------EPOCH 3-----------------------\n",
      "Validation F1: 0.8669623059866962\n",
      "Test F1: 0.8725055432372505\n",
      "----------------------EPOCH 4-----------------------\n",
      "Validation F1: 0.8758314855875832\n",
      "Test F1: 0.8813747228381374\n",
      "----------------------EPOCH 5-----------------------\n",
      "Validation F1: 0.8802660753880266\n",
      "Test F1: 0.876940133037694\n",
      "----------------------EPOCH 6-----------------------\n",
      "Validation F1: 0.8780487804878049\n",
      "----------------------EPOCH 7-----------------------\n",
      "Validation F1: 0.8802660753880266\n",
      "----------------------EPOCH 8-----------------------\n",
      "Validation F1: 0.8802660753880266\n",
      "----------------------EPOCH 9-----------------------\n",
      "Validation F1: 0.8824833702882483\n",
      "Test F1: 0.876940133037694\n",
      "----------------------EPOCH 10-----------------------\n",
      "Validation F1: 0.8758314855875832\n",
      "----------------------EPOCH 11-----------------------\n",
      "Validation F1: 0.8758314855875832\n",
      "----------------------EPOCH 12-----------------------\n",
      "Validation F1: 0.8780487804878049\n",
      "----------------------EPOCH 13-----------------------\n",
      "Validation F1: 0.8758314855875832\n",
      "----------------------EPOCH 14-----------------------\n",
      "Validation F1: 0.8758314855875832\n",
      "----------------------EPOCH 15-----------------------\n",
      "Validation F1: 0.8758314855875832\n",
      "----------------------EPOCH 16-----------------------\n",
      "Validation F1: 0.8802660753880266\n",
      "----------------------EPOCH 17-----------------------\n",
      "Validation F1: 0.8758314855875832\n",
      "----------------------EPOCH 18-----------------------\n",
      "Validation F1: 0.8780487804878049\n",
      "----------------------EPOCH 19-----------------------\n",
      "Validation F1: 0.8758314855875832\n",
      "----------------------EPOCH 20-----------------------\n",
      "Validation F1: 0.8758314855875832\n",
      "----------------------EPOCH 21-----------------------\n",
      "Validation F1: 0.8758314855875832\n",
      "----------------------EPOCH 22-----------------------\n",
      "Validation F1: 0.8780487804878049\n",
      "----------------------EPOCH 23-----------------------\n",
      "Validation F1: 0.8758314855875832\n",
      "----------------------EPOCH 24-----------------------\n",
      "Validation F1: 0.8758314855875832\n",
      "----------------------EPOCH 25-----------------------\n",
      "Validation F1: 0.8758314855875832\n",
      "----------------------EPOCH 26-----------------------\n",
      "Validation F1: 0.8758314855875832\n",
      "----------------------EPOCH 27-----------------------\n",
      "Validation F1: 0.8758314855875832\n",
      "----------------------EPOCH 28-----------------------\n",
      "Validation F1: 0.8758314855875832\n",
      "----------------------EPOCH 29-----------------------\n",
      "Validation F1: 0.8780487804878049\n",
      "----------------------EPOCH 30-----------------------\n",
      "Validation F1: 0.8802660753880266\n",
      "----------------------EPOCH 31-----------------------\n",
      "Validation F1: 0.8758314855875832\n",
      "----------------------EPOCH 32-----------------------\n",
      "Validation F1: 0.8780487804878049\n",
      "----------------------EPOCH 33-----------------------\n",
      "Validation F1: 0.8758314855875832\n",
      "----------------------EPOCH 34-----------------------\n",
      "Validation F1: 0.8758314855875832\n",
      "----------------------EPOCH 35-----------------------\n",
      "Validation F1: 0.8758314855875832\n",
      "----------------------EPOCH 36-----------------------\n",
      "Validation F1: 0.8780487804878049\n",
      "----------------------EPOCH 37-----------------------\n",
      "Validation F1: 0.8758314855875832\n",
      "----------------------EPOCH 38-----------------------\n",
      "Validation F1: 0.8758314855875832\n",
      "----------------------EPOCH 39-----------------------\n",
      "Validation F1: 0.8758314855875832\n",
      "----------------------EPOCH 40-----------------------\n",
      "Validation F1: 0.8758314855875832\n",
      "----------------------EPOCH 41-----------------------\n",
      "Validation F1: 0.8780487804878049\n",
      "----------------------EPOCH 42-----------------------\n",
      "Validation F1: 0.8758314855875832\n",
      "----------------------EPOCH 43-----------------------\n",
      "Validation F1: 0.8758314855875832\n",
      "----------------------EPOCH 44-----------------------\n",
      "Validation F1: 0.8758314855875832\n",
      "----------------------EPOCH 45-----------------------\n",
      "Validation F1: 0.8758314855875832\n",
      "----------------------EPOCH 46-----------------------\n",
      "Validation F1: 0.8758314855875832\n",
      "----------------------EPOCH 47-----------------------\n",
      "Validation F1: 0.8758314855875832\n",
      "----------------------EPOCH 48-----------------------\n",
      "Validation F1: 0.8758314855875832\n",
      "----------------------EPOCH 49-----------------------\n",
      "Validation F1: 0.8758314855875832\n"
     ]
    }
   ],
   "source": [
    "import warnings\n",
    "warnings.filterwarnings(\"ignore\",category=DeprecationWarning)        # 忽略警告\n",
    "\n",
    "for epoch in range(args.epochs):\n",
    "    print('----------------------EPOCH %d-----------------------' % epoch)\n",
    "    graphSage, classification = apply_model(dataCenter, ds, graphSage, classification, args.b_sz, device, args.learn_method)\n",
    "    if args.learn_method != 'unsup':\n",
    "        args.max_vali_f1 = evaluate(dataCenter, ds, graphSage, classification, args.max_vali_f1)"
   ]
  },
  {
   "cell_type": "code",
   "execution_count": 60,
   "metadata": {},
   "outputs": [
    {
     "name": "stdout",
     "output_type": "stream",
     "text": [
      "Test F1: 0.8780487804878049\n"
     ]
    }
   ],
   "source": [
    "graphSage.eval()\n",
    "classification.eval()\n",
    "with torch.no_grad():  # 显著减少显存占用\n",
    "    embs = graphSage(test_nodes)               # 测试集最终F1得分\n",
    "    logists = classification(embs)\n",
    "    _, predicts = torch.max(logists, 1)\n",
    "    labels_test = labels[test_nodes]\n",
    "    assert len(labels_test) == len(predicts)\n",
    "    # comps = zip(labels_test, predicts.data)\n",
    "    test_f1 = f1_score(labels_test, predicts.cpu().data, average=\"micro\")\n",
    "    print(\"Test F1:\", test_f1)"
   ]
  },
  {
   "cell_type": "code",
   "execution_count": 64,
   "metadata": {},
   "outputs": [
    {
     "data": {
      "text/plain": [
       "torch.Size([902, 7])"
      ]
     },
     "execution_count": 64,
     "metadata": {},
     "output_type": "execute_result"
    }
   ],
   "source": [
    "output = logists\n",
    "output.shape"
   ]
  },
  {
   "cell_type": "code",
   "execution_count": 62,
   "metadata": {},
   "outputs": [
    {
     "data": {
      "text/plain": [
       "(902,)"
      ]
     },
     "execution_count": 62,
     "metadata": {},
     "output_type": "execute_result"
    }
   ],
   "source": [
    "labels_test.shape"
   ]
  },
  {
   "cell_type": "code",
   "execution_count": 63,
   "metadata": {},
   "outputs": [
    {
     "data": {
      "image/png": "[encoded data removed]",
      "text/plain": [
       "<Figure size 1000x1000 with 1 Axes>"
      ]
     },
     "metadata": {},
     "output_type": "display_data"
    }
   ],
   "source": [
    "# 数据可视化\n",
    "import matplotlib.pyplot as plt\n",
    "%matplotlib inline\n",
    "plt.rcParams['font.sans-serif']=['SimHei']  # 用来正常显示中文标签  \n",
    "plt.rcParams['axes.unicode_minus']=False  # 用来正常显示负号\n",
    "\n",
    "from sklearn.manifold import TSNE\n",
    "tsne = TSNE(n_components=2, n_iter=1000)\n",
    "out = tsne.fit_transform(output)\n",
    "\n",
    "plt.figure(figsize=(10,10))\n",
    "for i in range(7):\n",
    "    indices = labels_test == i\n",
    "    x, y = out[indices].T\n",
    "    plt.scatter(x, y, label=str(i))\n",
    "plt.title(\"整体预测结果\")\n",
    "plt.legend()\n",
    "plt.show()"
   ]
  }
 ],
 "metadata": {
  "kernelspec": {
   "display_name": "python39",
   "language": "python",
   "name": "python3"
  },
  "language_info": {
   "codemirror_mode": {
    "name": "ipython",
    "version": 3
   },
   "file_extension": ".py",
   "mimetype": "text/x-python",
   "name": "python",
   "nbconvert_exporter": "python",
   "pygments_lexer": "ipython3",
   "version": "3.9.16"
  },
  "orig_nbformat": 4
 },
 "nbformat": 4,
 "nbformat_minor": 2
}
