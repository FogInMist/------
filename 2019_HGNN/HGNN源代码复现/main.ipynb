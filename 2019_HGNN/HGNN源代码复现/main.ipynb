{
 "cells": [
  {
   "cell_type": "markdown",
   "metadata": {},
   "source": [
    "# HGNN代码复现\n",
    "\n",
    "* [源仓库地址](https://github.com/iMoonLab/HGNN)"
   ]
  },
  {
   "cell_type": "markdown",
   "metadata": {},
   "source": [
    "### 导入相关python库和文件"
   ]
  },
  {
   "cell_type": "code",
   "execution_count": 1,
   "metadata": {},
   "outputs": [],
   "source": [
    "import os\n",
    "import time\n",
    "import copy\n",
    "import torch\n",
    "import torch.optim as optim\n",
    "import pprint as pp\n",
    "import utils.hypergraph_utils as hgut\n",
    "from models import HGNN\n",
    "from config import get_config\n",
    "from datasets import load_feature_construct_H"
   ]
  },
  {
   "cell_type": "markdown",
   "metadata": {},
   "source": [
    "### 导入模型的设置"
   ]
  },
  {
   "cell_type": "code",
   "execution_count": 3,
   "metadata": {},
   "outputs": [
    {
     "name": "stdout",
     "output_type": "stream",
     "text": [
      "making direction ./result/hgnn!\n",
      "making direction ./result/hgnn\\ckpt!\n",
      "making direction ./result/hgnn\\hypergraph_ModelNet40!\n"
     ]
    }
   ],
   "source": [
    "os.environ['CUDA_VISIBLE_DEVICES'] = '0'\n",
    "cfg = get_config('config/config.yaml')"
   ]
  },
  {
   "cell_type": "code",
   "execution_count": 4,
   "metadata": {},
   "outputs": [
    {
     "data": {
      "text/plain": [
       "{'data_root': './data/features',\n",
       " 'modelnet40_ft': './data/features\\\\ModelNet40_mvcnn_gvcnn.mat',\n",
       " 'ntu2012_ft': './data/features\\\\NTU2012_mvcnn_gvcnn.mat',\n",
       " 'graph_type': 'hypergraph',\n",
       " 'K_neigs': [10],\n",
       " 'm_prob': 1.0,\n",
       " 'is_probH': True,\n",
       " 'use_mvcnn_feature_for_structure': True,\n",
       " 'use_gvcnn_feature_for_structure': True,\n",
       " 'on_dataset': 'ModelNet40',\n",
       " 'use_mvcnn_feature': False,\n",
       " 'use_gvcnn_feature': True,\n",
       " 'result_root': './result/hgnn',\n",
       " 'result_sub_folder': './result/hgnn\\\\hypergraph_ModelNet40',\n",
       " 'ckpt_folder': './result/hgnn\\\\ckpt',\n",
       " 'max_epoch': 600,\n",
       " 'n_hid': 128,\n",
       " 'lr': 0.001,\n",
       " 'milestones': [100],\n",
       " 'gamma': 0.9,\n",
       " 'drop_out': 0.5,\n",
       " 'print_freq': 50,\n",
       " 'weight_decay': 0.0005,\n",
       " 'decay_step': 200,\n",
       " 'decay_rate': 0.7}"
      ]
     },
     "execution_count": 4,
     "metadata": {},
     "output_type": "execute_result"
    }
   ],
   "source": [
    "cfg"
   ]
  },
  {
   "cell_type": "markdown",
   "metadata": {},
   "source": [
    "### 数据集路径"
   ]
  },
  {
   "cell_type": "code",
   "execution_count": 5,
   "metadata": {},
   "outputs": [],
   "source": [
    "# initialize data\n",
    "data_dir = cfg['modelnet40_ft'] if cfg['on_dataset'] == 'ModelNet40' \\\n",
    "    else cfg['ntu2012_ft']"
   ]
  },
  {
   "cell_type": "code",
   "execution_count": 6,
   "metadata": {},
   "outputs": [
    {
     "data": {
      "text/plain": [
       "'./data/features\\\\ModelNet40_mvcnn_gvcnn.mat'"
      ]
     },
     "execution_count": 6,
     "metadata": {},
     "output_type": "execute_result"
    }
   ],
   "source": [
    "data_dir"
   ]
  },
  {
   "cell_type": "code",
   "execution_count": 7,
   "metadata": {},
   "outputs": [
    {
     "name": "stdout",
     "output_type": "stream",
     "text": [
      "Constructing hypergraph incidence matrix! \n",
      "(It may take several minutes! Please wait patiently!)\n"
     ]
    }
   ],
   "source": [
    "# gvcnn_ft特征; label; 训练集索引; 测试集; 两个数据的最近n个邻居矩阵\n",
    "fts, lbls, idx_train, idx_test, H = \\\n",
    "    load_feature_construct_H(data_dir,\n",
    "                             m_prob=cfg['m_prob'],\n",
    "                             K_neigs=cfg['K_neigs'],\n",
    "                             is_probH=cfg['is_probH'],\n",
    "                             use_mvcnn_feature=cfg['use_mvcnn_feature'],\n",
    "                             use_gvcnn_feature=cfg['use_gvcnn_feature'],\n",
    "                             use_mvcnn_feature_for_structure=cfg['use_mvcnn_feature_for_structure'],\n",
    "                             use_gvcnn_feature_for_structure=cfg['use_gvcnn_feature_for_structure'])"
   ]
  },
  {
   "cell_type": "code",
   "execution_count": 8,
   "metadata": {},
   "outputs": [],
   "source": [
    "G = hgut.generate_G_from_H(H)  # H-超边矩阵"
   ]
  },
  {
   "cell_type": "code",
   "execution_count": 9,
   "metadata": {},
   "outputs": [],
   "source": [
    "n_class = int(lbls.max()) + 1  # 类别数量;\n",
    "device = torch.device('cuda:0' if torch.cuda.is_available() else 'cpu')"
   ]
  },
  {
   "cell_type": "code",
   "execution_count": 10,
   "metadata": {},
   "outputs": [
    {
     "data": {
      "text/plain": [
       "40"
      ]
     },
     "execution_count": 10,
     "metadata": {},
     "output_type": "execute_result"
    }
   ],
   "source": [
    "n_class"
   ]
  },
  {
   "cell_type": "code",
   "execution_count": 11,
   "metadata": {},
   "outputs": [],
   "source": [
    "# transform data to device\n",
    "fts = torch.Tensor(fts).to(device)\n",
    "lbls = torch.Tensor(lbls).squeeze().long().to(device)\n",
    "G = torch.Tensor(G).to(device)\n",
    "idx_train = torch.Tensor(idx_train).long().to(device)\n",
    "idx_test = torch.Tensor(idx_test).long().to(device)"
   ]
  },
  {
   "cell_type": "code",
   "execution_count": 12,
   "metadata": {},
   "outputs": [],
   "source": [
    "def train_model(model, criterion, optimizer, scheduler, num_epochs=25, print_freq=500):\n",
    "    since = time.time()\n",
    "\n",
    "    best_model_wts = copy.deepcopy(model.state_dict())  # 复制参数\n",
    "    best_acc = 0.0\n",
    "\n",
    "    for epoch in range(num_epochs):\n",
    "        if epoch % print_freq == 0:\n",
    "            print('-' * 10)\n",
    "            print(f'Epoch {epoch}/{num_epochs - 1}')\n",
    "\n",
    "        # Each epoch has a training and validation phase\n",
    "        for phase in ['train', 'val']:\n",
    "            if phase == 'train':\n",
    "                scheduler.step()\n",
    "                model.train()  # Set model to training mode\n",
    "            else:\n",
    "                model.eval()  # Set model to evaluate mode\n",
    "\n",
    "            running_loss = 0.0\n",
    "            running_corrects = 0\n",
    "\n",
    "            idx = idx_train if phase == 'train' else idx_test\n",
    "\n",
    "            # Iterate over data.\n",
    "            optimizer.zero_grad()\n",
    "            with torch.set_grad_enabled(phase == 'train'):\n",
    "                outputs = model(fts, G)  # [12311, 2048]; G:超图矩阵\n",
    "                loss = criterion(outputs[idx], lbls[idx])\n",
    "                _, preds = torch.max(outputs, 1)\n",
    "\n",
    "                # backward + optimize only if in training phase\n",
    "                if phase == 'train':\n",
    "                    loss.backward()\n",
    "                    optimizer.step()\n",
    "\n",
    "            # statistics\n",
    "            running_loss += loss.item() * fts.size(0)\n",
    "            running_corrects += torch.sum(preds[idx] == lbls.data[idx])\n",
    "\n",
    "            epoch_loss = running_loss / len(idx)\n",
    "            epoch_acc = running_corrects.double() / len(idx)\n",
    "\n",
    "            if epoch % print_freq == 0:\n",
    "                print(f'{phase} Loss: {epoch_loss:.4f} Acc: {epoch_acc:.4f}')\n",
    "\n",
    "            # deep copy the model\n",
    "            if phase == 'val' and epoch_acc > best_acc:\n",
    "                best_acc = epoch_acc\n",
    "                best_model_wts = copy.deepcopy(model.state_dict())\n",
    "\n",
    "        if epoch % print_freq == 0:\n",
    "            print(f'Best val Acc: {best_acc:4f}')\n",
    "            print('-' * 20)\n",
    "\n",
    "    time_elapsed = time.time() - since\n",
    "    print(f'\\nTraining complete in {time_elapsed // 60:.0f}m {time_elapsed % 60:.0f}s')\n",
    "    print(f'Best val Acc: {best_acc:4f}')\n",
    "\n",
    "    # load best model weights\n",
    "    model.load_state_dict(best_model_wts)\n",
    "    return model"
   ]
  },
  {
   "cell_type": "code",
   "execution_count": 13,
   "metadata": {},
   "outputs": [
    {
     "name": "stdout",
     "output_type": "stream",
     "text": [
      "Classification on ModelNet40 dataset!!! class number: 40\n",
      "use MVCNN feature: False\n",
      "use GVCNN feature: True\n",
      "use MVCNN feature for structure: True\n",
      "use GVCNN feature for structure: True\n",
      "Configuration -> Start\n",
      "{'K_neigs': [10],\n",
      " 'ckpt_folder': './result/hgnn\\\\ckpt',\n",
      " 'data_root': './data/features',\n",
      " 'decay_rate': 0.7,\n",
      " 'decay_step': 200,\n",
      " 'drop_out': 0.5,\n",
      " 'gamma': 0.9,\n",
      " 'graph_type': 'hypergraph',\n",
      " 'is_probH': True,\n",
      " 'lr': 0.001,\n",
      " 'm_prob': 1.0,\n",
      " 'max_epoch': 600,\n",
      " 'milestones': [100],\n",
      " 'modelnet40_ft': './data/features\\\\ModelNet40_mvcnn_gvcnn.mat',\n",
      " 'n_hid': 128,\n",
      " 'ntu2012_ft': './data/features\\\\NTU2012_mvcnn_gvcnn.mat',\n",
      " 'on_dataset': 'ModelNet40',\n",
      " 'print_freq': 50,\n",
      " 'result_root': './result/hgnn',\n",
      " 'result_sub_folder': './result/hgnn\\\\hypergraph_ModelNet40',\n",
      " 'use_gvcnn_feature': True,\n",
      " 'use_gvcnn_feature_for_structure': True,\n",
      " 'use_mvcnn_feature': False,\n",
      " 'use_mvcnn_feature_for_structure': True,\n",
      " 'weight_decay': 0.0005}\n",
      "Configuration -> End\n"
     ]
    }
   ],
   "source": [
    "print(f\"Classification on {cfg['on_dataset']} dataset!!! class number: {n_class}\")\n",
    "print(f\"use MVCNN feature: {cfg['use_mvcnn_feature']}\")\n",
    "print(f\"use GVCNN feature: {cfg['use_gvcnn_feature']}\")\n",
    "print(f\"use MVCNN feature for structure: {cfg['use_mvcnn_feature_for_structure']}\")\n",
    "print(f\"use GVCNN feature for structure: {cfg['use_gvcnn_feature_for_structure']}\")\n",
    "print('Configuration -> Start')\n",
    "pp.pprint(cfg)\n",
    "print('Configuration -> End')"
   ]
  },
  {
   "cell_type": "code",
   "execution_count": 14,
   "metadata": {},
   "outputs": [],
   "source": [
    "model_ft = HGNN(in_ch=fts.shape[1],  # 原始特征维度\n",
    "                n_class=n_class,  # 类别数量\n",
    "                n_hid=cfg['n_hid'],  # 隐层特征\n",
    "                dropout=cfg['drop_out'])  # dropout\n",
    "model_ft = model_ft.to(device)\n",
    "\n",
    "optimizer = optim.Adam(model_ft.parameters(), lr=cfg['lr'],\n",
    "                        weight_decay=cfg['weight_decay'])\n",
    "\n",
    "# optimizer = optim.SGD(model_ft.parameters(), lr=0.01, weight_decay=cfg['weight_decay)\n",
    "schedular = optim.lr_scheduler.MultiStepLR(optimizer,\n",
    "                                            milestones=cfg['milestones'],\n",
    "                                            gamma=cfg['gamma'])\n",
    "criterion = torch.nn.CrossEntropyLoss()  # loss函数\n"
   ]
  },
  {
   "cell_type": "code",
   "execution_count": 20,
   "metadata": {},
   "outputs": [],
   "source": [
    "import warnings\n",
    "warnings.filterwarnings(\"ignore\")"
   ]
  },
  {
   "cell_type": "code",
   "execution_count": 19,
   "metadata": {},
   "outputs": [
    {
     "name": "stdout",
     "output_type": "stream",
     "text": [
      "----------\n",
      "Epoch 0/4\n",
      "train Loss: 0.6848 Acc: 0.9343\n",
      "val Loss: 2.9660 Acc: 0.9327\n",
      "Best val Acc: 0.932739\n",
      "--------------------\n",
      "\n",
      "Training complete in 0m 3s\n",
      "Best val Acc: 0.950972\n"
     ]
    }
   ],
   "source": [
    "model_ft = train_model(model_ft, criterion, optimizer, schedular, num_epochs=5, print_freq=cfg['print_freq']) # cfg['max_epoch']"
   ]
  }
 ],
 "metadata": {
  "kernelspec": {
   "display_name": "python39",
   "language": "python",
   "name": "python3"
  },
  "language_info": {
   "codemirror_mode": {
    "name": "ipython",
    "version": 3
   },
   "file_extension": ".py",
   "mimetype": "text/x-python",
   "name": "python",
   "nbconvert_exporter": "python",
   "pygments_lexer": "ipython3",
   "version": "3.9.16"
  }
 },
 "nbformat": 4,
 "nbformat_minor": 2
}
