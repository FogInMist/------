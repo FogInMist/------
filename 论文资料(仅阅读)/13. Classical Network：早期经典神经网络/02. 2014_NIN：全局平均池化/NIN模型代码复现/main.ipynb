{
 "cells": [
  {
   "cell_type": "markdown",
   "metadata": {},
   "source": [
    "## NIN网络代码复现"
   ]
  },
  {
   "cell_type": "markdown",
   "metadata": {},
   "source": [
    "### 导入python库"
   ]
  },
  {
   "cell_type": "code",
   "execution_count": 1,
   "metadata": {},
   "outputs": [],
   "source": [
    "import torch\n",
    "from torch import nn\n",
    "from torchinfo import summary"
   ]
  },
  {
   "cell_type": "markdown",
   "metadata": {},
   "source": [
    "### 创新点\n",
    "1. 引入了MLPconv结构（1 x 1卷积的使用）\n",
    "2. 使用了全局平均池化（GAP）来替代全连接层"
   ]
  },
  {
   "cell_type": "markdown",
   "metadata": {},
   "source": [
    "### NIN模型定义"
   ]
  },
  {
   "cell_type": "markdown",
   "metadata": {},
   "source": [
    "![picture](./model2.png \"picture\")"
   ]
  },
  {
   "cell_type": "markdown",
   "metadata": {},
   "source": [
    "![picture](./model.png \"picture\")"
   ]
  },
  {
   "cell_type": "code",
   "execution_count": 2,
   "metadata": {},
   "outputs": [],
   "source": [
    "class NIN_Model(nn.Module):\n",
    "    def __init__(self):\n",
    "        super().__init__()\n",
    "        self.block = nn.Sequential(nn.Conv2d(3, 192, kernel_size=5, padding=2),nn.ReLU(inplace=True),\n",
    "                                   nn.Conv2d(192, 160, kernel_size=1),nn.ReLU(inplace=True),\n",
    "                                   nn.Conv2d(160, 96, kernel_size=1),nn.ReLU(inplace=True),\n",
    "                                   nn.MaxPool2d(kernel_size=3, stride=2),\n",
    "                                   nn.Dropout(0.2),\n",
    "\n",
    "                                   nn.Conv2d(96, 192, kernel_size=5, padding=2),nn.ReLU(inplace=True),\n",
    "                                   nn.Conv2d(192, 192, kernel_size=1),nn.ReLU(inplace=True),\n",
    "                                   nn.Conv2d(192, 192, kernel_size=1),nn.ReLU(inplace=True),\n",
    "                                   nn.MaxPool2d(kernel_size=3, stride=2),\n",
    "                                   nn.Dropout(0.2),\n",
    "\n",
    "                                   nn.Conv2d(192, 192, kernel_size=3, padding=1),nn.ReLU(inplace=True),\n",
    "                                   nn.Conv2d(192, 192, kernel_size=1),nn.ReLU(inplace=True),\n",
    "                                   nn.Conv2d(192, 10, kernel_size=1),nn.ReLU(inplace=True),\n",
    "                                   nn.AvgPool2d(kernel_size=7, stride=1))\n",
    "\n",
    "    def forward(self,x):\n",
    "            x = self.block(x)\n",
    "            output = torch.softmax(x,dim=1)\n",
    "            return output\n"
   ]
  },
  {
   "cell_type": "code",
   "execution_count": 3,
   "metadata": {},
   "outputs": [],
   "source": [
    "#20个维度,一个通道,图片大小\n",
    "data = torch.ones(size=(20,3,32,32))"
   ]
  },
  {
   "cell_type": "code",
   "execution_count": 4,
   "metadata": {},
   "outputs": [
    {
     "data": {
      "text/plain": [
       "NIN_Model(\n",
       "  (block): Sequential(\n",
       "    (0): Conv2d(3, 192, kernel_size=(5, 5), stride=(1, 1), padding=(2, 2))\n",
       "    (1): ReLU(inplace=True)\n",
       "    (2): Conv2d(192, 160, kernel_size=(1, 1), stride=(1, 1))\n",
       "    (3): ReLU(inplace=True)\n",
       "    (4): Conv2d(160, 96, kernel_size=(1, 1), stride=(1, 1))\n",
       "    (5): ReLU(inplace=True)\n",
       "    (6): MaxPool2d(kernel_size=3, stride=2, padding=0, dilation=1, ceil_mode=False)\n",
       "    (7): Dropout(p=0.2, inplace=False)\n",
       "    (8): Conv2d(96, 192, kernel_size=(5, 5), stride=(1, 1), padding=(2, 2))\n",
       "    (9): ReLU(inplace=True)\n",
       "    (10): Conv2d(192, 192, kernel_size=(1, 1), stride=(1, 1))\n",
       "    (11): ReLU(inplace=True)\n",
       "    (12): Conv2d(192, 192, kernel_size=(1, 1), stride=(1, 1))\n",
       "    (13): ReLU(inplace=True)\n",
       "    (14): MaxPool2d(kernel_size=3, stride=2, padding=0, dilation=1, ceil_mode=False)\n",
       "    (15): Dropout(p=0.2, inplace=False)\n",
       "    (16): Conv2d(192, 192, kernel_size=(3, 3), stride=(1, 1), padding=(1, 1))\n",
       "    (17): ReLU(inplace=True)\n",
       "    (18): Conv2d(192, 192, kernel_size=(1, 1), stride=(1, 1))\n",
       "    (19): ReLU(inplace=True)\n",
       "    (20): Conv2d(192, 10, kernel_size=(1, 1), stride=(1, 1))\n",
       "    (21): ReLU(inplace=True)\n",
       "    (22): AvgPool2d(kernel_size=7, stride=1, padding=0)\n",
       "  )\n",
       ")"
      ]
     },
     "execution_count": 4,
     "metadata": {},
     "output_type": "execute_result"
    }
   ],
   "source": [
    "NIN_Model()"
   ]
  },
  {
   "cell_type": "code",
   "execution_count": 5,
   "metadata": {},
   "outputs": [],
   "source": [
    "net = NIN_Model()#实例化\n",
    "output = net(data)"
   ]
  },
  {
   "cell_type": "code",
   "execution_count": 6,
   "metadata": {},
   "outputs": [
    {
     "data": {
      "text/plain": [
       "torch.Size([20, 10, 1, 1])"
      ]
     },
     "execution_count": 6,
     "metadata": {},
     "output_type": "execute_result"
    }
   ],
   "source": [
    "output.shape"
   ]
  },
  {
   "cell_type": "markdown",
   "metadata": {},
   "source": [
    "### 模型信息"
   ]
  },
  {
   "cell_type": "code",
   "execution_count": 7,
   "metadata": {},
   "outputs": [
    {
     "data": {
      "text/plain": [
       "==========================================================================================\n",
       "Layer (type:depth-idx)                   Output Shape              Param #\n",
       "==========================================================================================\n",
       "NIN_Model                                [20, 10, 1, 1]            --\n",
       "├─Sequential: 1-1                        [20, 10, 1, 1]            --\n",
       "│    └─Conv2d: 2-1                       [20, 192, 32, 32]         14,592\n",
       "│    └─ReLU: 2-2                         [20, 192, 32, 32]         --\n",
       "│    └─Conv2d: 2-3                       [20, 160, 32, 32]         30,880\n",
       "│    └─ReLU: 2-4                         [20, 160, 32, 32]         --\n",
       "│    └─Conv2d: 2-5                       [20, 96, 32, 32]          15,456\n",
       "│    └─ReLU: 2-6                         [20, 96, 32, 32]          --\n",
       "│    └─MaxPool2d: 2-7                    [20, 96, 15, 15]          --\n",
       "│    └─Dropout: 2-8                      [20, 96, 15, 15]          --\n",
       "│    └─Conv2d: 2-9                       [20, 192, 15, 15]         460,992\n",
       "│    └─ReLU: 2-10                        [20, 192, 15, 15]         --\n",
       "│    └─Conv2d: 2-11                      [20, 192, 15, 15]         37,056\n",
       "│    └─ReLU: 2-12                        [20, 192, 15, 15]         --\n",
       "│    └─Conv2d: 2-13                      [20, 192, 15, 15]         37,056\n",
       "│    └─ReLU: 2-14                        [20, 192, 15, 15]         --\n",
       "│    └─MaxPool2d: 2-15                   [20, 192, 7, 7]           --\n",
       "│    └─Dropout: 2-16                     [20, 192, 7, 7]           --\n",
       "│    └─Conv2d: 2-17                      [20, 192, 7, 7]           331,968\n",
       "│    └─ReLU: 2-18                        [20, 192, 7, 7]           --\n",
       "│    └─Conv2d: 2-19                      [20, 192, 7, 7]           37,056\n",
       "│    └─ReLU: 2-20                        [20, 192, 7, 7]           --\n",
       "│    └─Conv2d: 2-21                      [20, 10, 7, 7]            1,930\n",
       "│    └─ReLU: 2-22                        [20, 10, 7, 7]            --\n",
       "│    └─AvgPool2d: 2-23                   [20, 10, 1, 1]            --\n",
       "==========================================================================================\n",
       "Total params: 966,986\n",
       "Trainable params: 966,986\n",
       "Non-trainable params: 0\n",
       "Total mult-adds (G): 4.02\n",
       "==========================================================================================\n",
       "Input size (MB): 0.25\n",
       "Forward/backward pass size (MB): 97.23\n",
       "Params size (MB): 3.87\n",
       "Estimated Total Size (MB): 101.34\n",
       "=========================================================================================="
      ]
     },
     "execution_count": 7,
     "metadata": {},
     "output_type": "execute_result"
    }
   ],
   "source": [
    "summary(net,input_size=(20,3,32,32), device=\"cpu\")"
   ]
  }
 ],
 "metadata": {
  "kernelspec": {
   "display_name": "python39",
   "language": "python",
   "name": "python3"
  },
  "language_info": {
   "codemirror_mode": {
    "name": "ipython",
    "version": 3
   },
   "file_extension": ".py",
   "mimetype": "text/x-python",
   "name": "python",
   "nbconvert_exporter": "python",
   "pygments_lexer": "ipython3",
   "version": "3.9.0"
  }
 },
 "nbformat": 4,
 "nbformat_minor": 2
}
